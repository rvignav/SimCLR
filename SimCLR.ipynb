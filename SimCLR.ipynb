{
  "nbformat": 4,
  "nbformat_minor": 0,
  "metadata": {
    "accelerator": "GPU",
    "colab": {
      "name": "SimCLR.ipynb",
      "provenance": [],
      "collapsed_sections": []
    },
    "kernelspec": {
      "display_name": "Python 3",
      "language": "python",
      "name": "python3"
    },
    "language_info": {
      "codemirror_mode": {
        "name": "ipython",
        "version": 3
      },
      "file_extension": ".py",
      "mimetype": "text/x-python",
      "name": "python",
      "nbconvert_exporter": "python",
      "pygments_lexer": "ipython3",
      "version": "3.7.7-final"
    }
  },
  "cells": [
    {
      "cell_type": "code",
      "metadata": {
        "colab": {
          "base_uri": "https://localhost:8080/"
        },
        "id": "XBz7fllpMlz8",
        "outputId": "38e5e6a8-78e8-4b65-9cca-ec50165e086c"
      },
      "source": [
        "%rm -rf /SimCLRv1-keras-tensorflow\n",
        "\n",
        "!git clone https://github.com/mwdhont/SimCLRv1-keras-tensorflow.git"
      ],
      "execution_count": null,
      "outputs": [
        {
          "output_type": "stream",
          "text": [
            "Cloning into 'SimCLRv1-keras-tensorflow'...\n",
            "remote: Enumerating objects: 4925, done.\u001b[K\n",
            "remote: Counting objects: 100% (4925/4925), done.\u001b[K\n",
            "remote: Compressing objects: 100% (4884/4884), done.\u001b[K\n",
            "remote: Total 4925 (delta 75), reused 4882 (delta 38), pack-reused 0\u001b[K\n",
            "Receiving objects: 100% (4925/4925), 46.30 MiB | 33.60 MiB/s, done.\n",
            "Resolving deltas: 100% (75/75), done.\n"
          ],
          "name": "stdout"
        }
      ]
    },
    {
      "cell_type": "code",
      "metadata": {
        "colab": {
          "base_uri": "https://localhost:8080/",
          "height": 1000
        },
        "id": "hsi65mRTMl0G",
        "outputId": "41358587-0610-4318-9c8e-eb33749a81a2"
      },
      "source": [
        "%ls\n",
        "%cd SimCLRv1-keras-tensorflow/\n",
        "!pip install -r requirements.txt"
      ],
      "execution_count": null,
      "outputs": [
        {
          "output_type": "stream",
          "text": [
            "\u001b[0m\u001b[01;34msample_data\u001b[0m/  \u001b[01;34mSimCLRv1-keras-tensorflow\u001b[0m/\n",
            "/content/SimCLRv1-keras-tensorflow\n",
            "Collecting jupyterlab==2.0.1\n",
            "\u001b[?25l  Downloading https://files.pythonhosted.org/packages/36/d6/9e6a8a04f4fc337fbc05065d1ba4ba3460a09ee41355410bcd6d8be8841a/jupyterlab-2.0.1-py3-none-any.whl (7.7MB)\n",
            "\u001b[K     |████████████████████████████████| 7.7MB 4.9MB/s \n",
            "\u001b[?25hCollecting Keras==2.3.1\n",
            "\u001b[?25l  Downloading https://files.pythonhosted.org/packages/ad/fd/6bfe87920d7f4fd475acd28500a42482b6b84479832bdc0fe9e589a60ceb/Keras-2.3.1-py2.py3-none-any.whl (377kB)\n",
            "\u001b[K     |████████████████████████████████| 378kB 43.8MB/s \n",
            "\u001b[?25hCollecting tensorflow==2.1\n",
            "\u001b[?25l  Downloading https://files.pythonhosted.org/packages/85/d4/c0cd1057b331bc38b65478302114194bd8e1b9c2bbc06e300935c0e93d90/tensorflow-2.1.0-cp36-cp36m-manylinux2010_x86_64.whl (421.8MB)\n",
            "\u001b[K     |████████████████████████████████| 421.8MB 25kB/s \n",
            "\u001b[?25hCollecting pandas==0.22.0\n",
            "\u001b[?25l  Downloading https://files.pythonhosted.org/packages/da/c6/0936bc5814b429fddb5d6252566fe73a3e40372e6ceaf87de3dec1326f28/pandas-0.22.0-cp36-cp36m-manylinux1_x86_64.whl (26.2MB)\n",
            "\u001b[K     |████████████████████████████████| 26.3MB 116kB/s \n",
            "\u001b[?25hCollecting opencv-python==4.2.0.32\n",
            "\u001b[?25l  Downloading https://files.pythonhosted.org/packages/68/c5/09a1b82f940805c2cee30c3c42786651edcfd0710a0283eb09c6bc959340/opencv_python-4.2.0.32-cp36-cp36m-manylinux1_x86_64.whl (28.2MB)\n",
            "\u001b[K     |████████████████████████████████| 28.2MB 111kB/s \n",
            "\u001b[?25hCollecting scikit-learn==0.23.1\n",
            "\u001b[?25l  Downloading https://files.pythonhosted.org/packages/d9/3a/eb8d7bbe28f4787d140bb9df685b7d5bf6115c0e2a969def4027144e98b6/scikit_learn-0.23.1-cp36-cp36m-manylinux1_x86_64.whl (6.8MB)\n",
            "\u001b[K     |████████████████████████████████| 6.9MB 55.1MB/s \n",
            "\u001b[?25hRequirement already satisfied: scipy==1.4.1 in /usr/local/lib/python3.6/dist-packages (from -r requirements.txt (line 7)) (1.4.1)\n",
            "Collecting numpy==1.18.1\n",
            "\u001b[?25l  Downloading https://files.pythonhosted.org/packages/62/20/4d43e141b5bc426ba38274933ef8e76e85c7adea2c321ecf9ebf7421cedf/numpy-1.18.1-cp36-cp36m-manylinux1_x86_64.whl (20.1MB)\n",
            "\u001b[K     |████████████████████████████████| 20.2MB 1.4MB/s \n",
            "\u001b[?25hCollecting DateTime==4.3\n",
            "\u001b[?25l  Downloading https://files.pythonhosted.org/packages/73/22/a5297f3a1f92468cc737f8ce7ba6e5f245fcfafeae810ba37bd1039ea01c/DateTime-4.3-py2.py3-none-any.whl (60kB)\n",
            "\u001b[K     |████████████████████████████████| 61kB 8.9MB/s \n",
            "\u001b[?25hRequirement already satisfied: jinja2>=2.10 in /usr/local/lib/python3.6/dist-packages (from jupyterlab==2.0.1->-r requirements.txt (line 1)) (2.11.2)\n",
            "Requirement already satisfied: tornado!=6.0.0,!=6.0.1,!=6.0.2 in /usr/local/lib/python3.6/dist-packages (from jupyterlab==2.0.1->-r requirements.txt (line 1)) (5.1.1)\n",
            "Collecting jupyterlab-server~=1.0.0\n",
            "  Downloading https://files.pythonhosted.org/packages/6e/d7/5d276c85b434633791236b9614883cc829f1a152730814b1f9fb3669898d/jupyterlab_server-1.0.9-py3-none-any.whl\n",
            "Requirement already satisfied: notebook>=4.3.1 in /usr/local/lib/python3.6/dist-packages (from jupyterlab==2.0.1->-r requirements.txt (line 1)) (5.3.1)\n",
            "Requirement already satisfied: six>=1.9.0 in /usr/local/lib/python3.6/dist-packages (from Keras==2.3.1->-r requirements.txt (line 2)) (1.15.0)\n",
            "Collecting keras-applications>=1.0.6\n",
            "\u001b[?25l  Downloading https://files.pythonhosted.org/packages/71/e3/19762fdfc62877ae9102edf6342d71b28fbfd9dea3d2f96a882ce099b03f/Keras_Applications-1.0.8-py3-none-any.whl (50kB)\n",
            "\u001b[K     |████████████████████████████████| 51kB 7.3MB/s \n",
            "\u001b[?25hRequirement already satisfied: keras-preprocessing>=1.0.5 in /usr/local/lib/python3.6/dist-packages (from Keras==2.3.1->-r requirements.txt (line 2)) (1.1.2)\n",
            "Requirement already satisfied: pyyaml in /usr/local/lib/python3.6/dist-packages (from Keras==2.3.1->-r requirements.txt (line 2)) (3.13)\n",
            "Requirement already satisfied: h5py in /usr/local/lib/python3.6/dist-packages (from Keras==2.3.1->-r requirements.txt (line 2)) (2.10.0)\n",
            "Requirement already satisfied: absl-py>=0.7.0 in /usr/local/lib/python3.6/dist-packages (from tensorflow==2.1->-r requirements.txt (line 3)) (0.10.0)\n",
            "Requirement already satisfied: wrapt>=1.11.1 in /usr/local/lib/python3.6/dist-packages (from tensorflow==2.1->-r requirements.txt (line 3)) (1.12.1)\n",
            "Requirement already satisfied: astor>=0.6.0 in /usr/local/lib/python3.6/dist-packages (from tensorflow==2.1->-r requirements.txt (line 3)) (0.8.1)\n",
            "Collecting gast==0.2.2\n",
            "  Downloading https://files.pythonhosted.org/packages/4e/35/11749bf99b2d4e3cceb4d55ca22590b0d7c2c62b9de38ac4a4a7f4687421/gast-0.2.2.tar.gz\n",
            "Requirement already satisfied: grpcio>=1.8.6 in /usr/local/lib/python3.6/dist-packages (from tensorflow==2.1->-r requirements.txt (line 3)) (1.33.2)\n",
            "Collecting tensorflow-estimator<2.2.0,>=2.1.0rc0\n",
            "\u001b[?25l  Downloading https://files.pythonhosted.org/packages/18/90/b77c328a1304437ab1310b463e533fa7689f4bfc41549593056d812fab8e/tensorflow_estimator-2.1.0-py2.py3-none-any.whl (448kB)\n",
            "\u001b[K     |████████████████████████████████| 450kB 39.3MB/s \n",
            "\u001b[?25hRequirement already satisfied: opt-einsum>=2.3.2 in /usr/local/lib/python3.6/dist-packages (from tensorflow==2.1->-r requirements.txt (line 3)) (3.3.0)\n",
            "Collecting tensorboard<2.2.0,>=2.1.0\n",
            "\u001b[?25l  Downloading https://files.pythonhosted.org/packages/d9/41/bbf49b61370e4f4d245d4c6051dfb6db80cec672605c91b1652ac8cc3d38/tensorboard-2.1.1-py3-none-any.whl (3.8MB)\n",
            "\u001b[K     |████████████████████████████████| 3.9MB 58.7MB/s \n",
            "\u001b[?25hRequirement already satisfied: protobuf>=3.8.0 in /usr/local/lib/python3.6/dist-packages (from tensorflow==2.1->-r requirements.txt (line 3)) (3.12.4)\n",
            "Requirement already satisfied: wheel>=0.26; python_version >= \"3\" in /usr/local/lib/python3.6/dist-packages (from tensorflow==2.1->-r requirements.txt (line 3)) (0.35.1)\n",
            "Requirement already satisfied: termcolor>=1.1.0 in /usr/local/lib/python3.6/dist-packages (from tensorflow==2.1->-r requirements.txt (line 3)) (1.1.0)\n",
            "Requirement already satisfied: google-pasta>=0.1.6 in /usr/local/lib/python3.6/dist-packages (from tensorflow==2.1->-r requirements.txt (line 3)) (0.2.0)\n",
            "Requirement already satisfied: python-dateutil>=2 in /usr/local/lib/python3.6/dist-packages (from pandas==0.22.0->-r requirements.txt (line 4)) (2.8.1)\n",
            "Requirement already satisfied: pytz>=2011k in /usr/local/lib/python3.6/dist-packages (from pandas==0.22.0->-r requirements.txt (line 4)) (2018.9)\n",
            "Collecting threadpoolctl>=2.0.0\n",
            "  Downloading https://files.pythonhosted.org/packages/f7/12/ec3f2e203afa394a149911729357aa48affc59c20e2c1c8297a60f33f133/threadpoolctl-2.1.0-py3-none-any.whl\n",
            "Requirement already satisfied: joblib>=0.11 in /usr/local/lib/python3.6/dist-packages (from scikit-learn==0.23.1->-r requirements.txt (line 6)) (0.17.0)\n",
            "Collecting zope.interface\n",
            "\u001b[?25l  Downloading https://files.pythonhosted.org/packages/82/b0/da8afd9b3bd50c7665ecdac062f182982af1173c9081f9af7261091c5588/zope.interface-5.2.0-cp36-cp36m-manylinux2010_x86_64.whl (236kB)\n",
            "\u001b[K     |████████████████████████████████| 245kB 54.7MB/s \n",
            "\u001b[?25hRequirement already satisfied: MarkupSafe>=0.23 in /usr/local/lib/python3.6/dist-packages (from jinja2>=2.10->jupyterlab==2.0.1->-r requirements.txt (line 1)) (1.1.1)\n",
            "Collecting jsonschema>=3.0.1\n",
            "\u001b[?25l  Downloading https://files.pythonhosted.org/packages/c5/8f/51e89ce52a085483359217bc72cdbf6e75ee595d5b1d4b5ade40c7e018b8/jsonschema-3.2.0-py2.py3-none-any.whl (56kB)\n",
            "\u001b[K     |████████████████████████████████| 61kB 9.7MB/s \n",
            "\u001b[?25hCollecting json5\n",
            "  Downloading https://files.pythonhosted.org/packages/2b/81/22bf51a5bc60dde18bb6164fd597f18ee683de8670e141364d9c432dd3cf/json5-0.9.5-py2.py3-none-any.whl\n",
            "Requirement already satisfied: traitlets>=4.2.1 in /usr/local/lib/python3.6/dist-packages (from notebook>=4.3.1->jupyterlab==2.0.1->-r requirements.txt (line 1)) (4.3.3)\n",
            "Requirement already satisfied: Send2Trash in /usr/local/lib/python3.6/dist-packages (from notebook>=4.3.1->jupyterlab==2.0.1->-r requirements.txt (line 1)) (1.5.0)\n",
            "Requirement already satisfied: jupyter-client>=5.2.0 in /usr/local/lib/python3.6/dist-packages (from notebook>=4.3.1->jupyterlab==2.0.1->-r requirements.txt (line 1)) (5.3.5)\n",
            "Requirement already satisfied: ipykernel in /usr/local/lib/python3.6/dist-packages (from notebook>=4.3.1->jupyterlab==2.0.1->-r requirements.txt (line 1)) (4.10.1)\n",
            "Requirement already satisfied: nbconvert in /usr/local/lib/python3.6/dist-packages (from notebook>=4.3.1->jupyterlab==2.0.1->-r requirements.txt (line 1)) (5.6.1)\n",
            "Requirement already satisfied: terminado>=0.8.1 in /usr/local/lib/python3.6/dist-packages (from notebook>=4.3.1->jupyterlab==2.0.1->-r requirements.txt (line 1)) (0.9.1)\n",
            "Requirement already satisfied: jupyter-core>=4.4.0 in /usr/local/lib/python3.6/dist-packages (from notebook>=4.3.1->jupyterlab==2.0.1->-r requirements.txt (line 1)) (4.6.3)\n",
            "Requirement already satisfied: nbformat in /usr/local/lib/python3.6/dist-packages (from notebook>=4.3.1->jupyterlab==2.0.1->-r requirements.txt (line 1)) (5.0.8)\n",
            "Requirement already satisfied: ipython-genutils in /usr/local/lib/python3.6/dist-packages (from notebook>=4.3.1->jupyterlab==2.0.1->-r requirements.txt (line 1)) (0.2.0)\n",
            "Requirement already satisfied: google-auth<2,>=1.6.3 in /usr/local/lib/python3.6/dist-packages (from tensorboard<2.2.0,>=2.1.0->tensorflow==2.1->-r requirements.txt (line 3)) (1.17.2)\n",
            "Requirement already satisfied: setuptools>=41.0.0 in /usr/local/lib/python3.6/dist-packages (from tensorboard<2.2.0,>=2.1.0->tensorflow==2.1->-r requirements.txt (line 3)) (50.3.2)\n",
            "Requirement already satisfied: markdown>=2.6.8 in /usr/local/lib/python3.6/dist-packages (from tensorboard<2.2.0,>=2.1.0->tensorflow==2.1->-r requirements.txt (line 3)) (3.3.3)\n",
            "Requirement already satisfied: google-auth-oauthlib<0.5,>=0.4.1 in /usr/local/lib/python3.6/dist-packages (from tensorboard<2.2.0,>=2.1.0->tensorflow==2.1->-r requirements.txt (line 3)) (0.4.2)\n",
            "Requirement already satisfied: werkzeug>=0.11.15 in /usr/local/lib/python3.6/dist-packages (from tensorboard<2.2.0,>=2.1.0->tensorflow==2.1->-r requirements.txt (line 3)) (1.0.1)\n",
            "Requirement already satisfied: requests<3,>=2.21.0 in /usr/local/lib/python3.6/dist-packages (from tensorboard<2.2.0,>=2.1.0->tensorflow==2.1->-r requirements.txt (line 3)) (2.23.0)\n",
            "Requirement already satisfied: attrs>=17.4.0 in /usr/local/lib/python3.6/dist-packages (from jsonschema>=3.0.1->jupyterlab-server~=1.0.0->jupyterlab==2.0.1->-r requirements.txt (line 1)) (20.2.0)\n",
            "Requirement already satisfied: importlib-metadata; python_version < \"3.8\" in /usr/local/lib/python3.6/dist-packages (from jsonschema>=3.0.1->jupyterlab-server~=1.0.0->jupyterlab==2.0.1->-r requirements.txt (line 1)) (2.0.0)\n",
            "Requirement already satisfied: pyrsistent>=0.14.0 in /usr/local/lib/python3.6/dist-packages (from jsonschema>=3.0.1->jupyterlab-server~=1.0.0->jupyterlab==2.0.1->-r requirements.txt (line 1)) (0.17.3)\n",
            "Requirement already satisfied: decorator in /usr/local/lib/python3.6/dist-packages (from traitlets>=4.2.1->notebook>=4.3.1->jupyterlab==2.0.1->-r requirements.txt (line 1)) (4.4.2)\n",
            "Requirement already satisfied: pyzmq>=13 in /usr/local/lib/python3.6/dist-packages (from jupyter-client>=5.2.0->notebook>=4.3.1->jupyterlab==2.0.1->-r requirements.txt (line 1)) (19.0.2)\n",
            "Requirement already satisfied: ipython>=4.0.0 in /usr/local/lib/python3.6/dist-packages (from ipykernel->notebook>=4.3.1->jupyterlab==2.0.1->-r requirements.txt (line 1)) (5.5.0)\n",
            "Requirement already satisfied: mistune<2,>=0.8.1 in /usr/local/lib/python3.6/dist-packages (from nbconvert->notebook>=4.3.1->jupyterlab==2.0.1->-r requirements.txt (line 1)) (0.8.4)\n",
            "Requirement already satisfied: defusedxml in /usr/local/lib/python3.6/dist-packages (from nbconvert->notebook>=4.3.1->jupyterlab==2.0.1->-r requirements.txt (line 1)) (0.6.0)\n",
            "Requirement already satisfied: entrypoints>=0.2.2 in /usr/local/lib/python3.6/dist-packages (from nbconvert->notebook>=4.3.1->jupyterlab==2.0.1->-r requirements.txt (line 1)) (0.3)\n",
            "Requirement already satisfied: testpath in /usr/local/lib/python3.6/dist-packages (from nbconvert->notebook>=4.3.1->jupyterlab==2.0.1->-r requirements.txt (line 1)) (0.4.4)\n",
            "Requirement already satisfied: pandocfilters>=1.4.1 in /usr/local/lib/python3.6/dist-packages (from nbconvert->notebook>=4.3.1->jupyterlab==2.0.1->-r requirements.txt (line 1)) (1.4.3)\n",
            "Requirement already satisfied: pygments in /usr/local/lib/python3.6/dist-packages (from nbconvert->notebook>=4.3.1->jupyterlab==2.0.1->-r requirements.txt (line 1)) (2.6.1)\n",
            "Requirement already satisfied: bleach in /usr/local/lib/python3.6/dist-packages (from nbconvert->notebook>=4.3.1->jupyterlab==2.0.1->-r requirements.txt (line 1)) (3.2.1)\n",
            "Requirement already satisfied: ptyprocess; os_name != \"nt\" in /usr/local/lib/python3.6/dist-packages (from terminado>=0.8.1->notebook>=4.3.1->jupyterlab==2.0.1->-r requirements.txt (line 1)) (0.6.0)\n",
            "Requirement already satisfied: cachetools<5.0,>=2.0.0 in /usr/local/lib/python3.6/dist-packages (from google-auth<2,>=1.6.3->tensorboard<2.2.0,>=2.1.0->tensorflow==2.1->-r requirements.txt (line 3)) (4.1.1)\n",
            "Requirement already satisfied: rsa<5,>=3.1.4; python_version >= \"3\" in /usr/local/lib/python3.6/dist-packages (from google-auth<2,>=1.6.3->tensorboard<2.2.0,>=2.1.0->tensorflow==2.1->-r requirements.txt (line 3)) (4.6)\n",
            "Requirement already satisfied: pyasn1-modules>=0.2.1 in /usr/local/lib/python3.6/dist-packages (from google-auth<2,>=1.6.3->tensorboard<2.2.0,>=2.1.0->tensorflow==2.1->-r requirements.txt (line 3)) (0.2.8)\n",
            "Requirement already satisfied: requests-oauthlib>=0.7.0 in /usr/local/lib/python3.6/dist-packages (from google-auth-oauthlib<0.5,>=0.4.1->tensorboard<2.2.0,>=2.1.0->tensorflow==2.1->-r requirements.txt (line 3)) (1.3.0)\n",
            "Requirement already satisfied: idna<3,>=2.5 in /usr/local/lib/python3.6/dist-packages (from requests<3,>=2.21.0->tensorboard<2.2.0,>=2.1.0->tensorflow==2.1->-r requirements.txt (line 3)) (2.10)\n",
            "Requirement already satisfied: certifi>=2017.4.17 in /usr/local/lib/python3.6/dist-packages (from requests<3,>=2.21.0->tensorboard<2.2.0,>=2.1.0->tensorflow==2.1->-r requirements.txt (line 3)) (2020.6.20)\n",
            "Requirement already satisfied: urllib3!=1.25.0,!=1.25.1,<1.26,>=1.21.1 in /usr/local/lib/python3.6/dist-packages (from requests<3,>=2.21.0->tensorboard<2.2.0,>=2.1.0->tensorflow==2.1->-r requirements.txt (line 3)) (1.24.3)\n",
            "Requirement already satisfied: chardet<4,>=3.0.2 in /usr/local/lib/python3.6/dist-packages (from requests<3,>=2.21.0->tensorboard<2.2.0,>=2.1.0->tensorflow==2.1->-r requirements.txt (line 3)) (3.0.4)\n",
            "Requirement already satisfied: zipp>=0.5 in /usr/local/lib/python3.6/dist-packages (from importlib-metadata; python_version < \"3.8\"->jsonschema>=3.0.1->jupyterlab-server~=1.0.0->jupyterlab==2.0.1->-r requirements.txt (line 1)) (3.4.0)\n",
            "Requirement already satisfied: prompt-toolkit<2.0.0,>=1.0.4 in /usr/local/lib/python3.6/dist-packages (from ipython>=4.0.0->ipykernel->notebook>=4.3.1->jupyterlab==2.0.1->-r requirements.txt (line 1)) (1.0.18)\n",
            "Requirement already satisfied: pexpect; sys_platform != \"win32\" in /usr/local/lib/python3.6/dist-packages (from ipython>=4.0.0->ipykernel->notebook>=4.3.1->jupyterlab==2.0.1->-r requirements.txt (line 1)) (4.8.0)\n",
            "Requirement already satisfied: pickleshare in /usr/local/lib/python3.6/dist-packages (from ipython>=4.0.0->ipykernel->notebook>=4.3.1->jupyterlab==2.0.1->-r requirements.txt (line 1)) (0.7.5)\n",
            "Requirement already satisfied: simplegeneric>0.8 in /usr/local/lib/python3.6/dist-packages (from ipython>=4.0.0->ipykernel->notebook>=4.3.1->jupyterlab==2.0.1->-r requirements.txt (line 1)) (0.8.1)\n",
            "Requirement already satisfied: webencodings in /usr/local/lib/python3.6/dist-packages (from bleach->nbconvert->notebook>=4.3.1->jupyterlab==2.0.1->-r requirements.txt (line 1)) (0.5.1)\n",
            "Requirement already satisfied: packaging in /usr/local/lib/python3.6/dist-packages (from bleach->nbconvert->notebook>=4.3.1->jupyterlab==2.0.1->-r requirements.txt (line 1)) (20.4)\n",
            "Requirement already satisfied: pyasn1>=0.1.3 in /usr/local/lib/python3.6/dist-packages (from rsa<5,>=3.1.4; python_version >= \"3\"->google-auth<2,>=1.6.3->tensorboard<2.2.0,>=2.1.0->tensorflow==2.1->-r requirements.txt (line 3)) (0.4.8)\n",
            "Requirement already satisfied: oauthlib>=3.0.0 in /usr/local/lib/python3.6/dist-packages (from requests-oauthlib>=0.7.0->google-auth-oauthlib<0.5,>=0.4.1->tensorboard<2.2.0,>=2.1.0->tensorflow==2.1->-r requirements.txt (line 3)) (3.1.0)\n",
            "Requirement already satisfied: wcwidth in /usr/local/lib/python3.6/dist-packages (from prompt-toolkit<2.0.0,>=1.0.4->ipython>=4.0.0->ipykernel->notebook>=4.3.1->jupyterlab==2.0.1->-r requirements.txt (line 1)) (0.2.5)\n",
            "Requirement already satisfied: pyparsing>=2.0.2 in /usr/local/lib/python3.6/dist-packages (from packaging->bleach->nbconvert->notebook>=4.3.1->jupyterlab==2.0.1->-r requirements.txt (line 1)) (2.4.7)\n",
            "Building wheels for collected packages: gast\n",
            "  Building wheel for gast (setup.py) ... \u001b[?25l\u001b[?25hdone\n",
            "  Created wheel for gast: filename=gast-0.2.2-cp36-none-any.whl size=7542 sha256=d542b17f8b4e477414cb391f137baca275f799af963b3585d39c76d563ec7034\n",
            "  Stored in directory: /root/.cache/pip/wheels/5c/2e/7e/a1d4d4fcebe6c381f378ce7743a3ced3699feb89bcfbdadadd\n",
            "Successfully built gast\n",
            "\u001b[31mERROR: xarray 0.15.1 has requirement pandas>=0.25, but you'll have pandas 0.22.0 which is incompatible.\u001b[0m\n",
            "\u001b[31mERROR: tensorflow-probability 0.11.0 has requirement gast>=0.3.2, but you'll have gast 0.2.2 which is incompatible.\u001b[0m\n",
            "\u001b[31mERROR: seaborn 0.11.0 has requirement pandas>=0.23, but you'll have pandas 0.22.0 which is incompatible.\u001b[0m\n",
            "\u001b[31mERROR: plotnine 0.6.0 has requirement pandas>=0.25.0, but you'll have pandas 0.22.0 which is incompatible.\u001b[0m\n",
            "\u001b[31mERROR: pandas-datareader 0.9.0 has requirement pandas>=0.23, but you'll have pandas 0.22.0 which is incompatible.\u001b[0m\n",
            "\u001b[31mERROR: nbclient 0.5.1 has requirement jupyter-client>=6.1.5, but you'll have jupyter-client 5.3.5 which is incompatible.\u001b[0m\n",
            "\u001b[31mERROR: mizani 0.6.0 has requirement pandas>=0.25.0, but you'll have pandas 0.22.0 which is incompatible.\u001b[0m\n",
            "\u001b[31mERROR: google-colab 1.0.0 has requirement pandas~=1.1.0; python_version >= \"3.0\", but you'll have pandas 0.22.0 which is incompatible.\u001b[0m\n",
            "\u001b[31mERROR: fbprophet 0.7.1 has requirement pandas>=1.0.4, but you'll have pandas 0.22.0 which is incompatible.\u001b[0m\n",
            "\u001b[31mERROR: datascience 0.10.6 has requirement folium==0.2.1, but you'll have folium 0.8.3 which is incompatible.\u001b[0m\n",
            "\u001b[31mERROR: albumentations 0.1.12 has requirement imgaug<0.2.7,>=0.2.5, but you'll have imgaug 0.2.9 which is incompatible.\u001b[0m\n",
            "Installing collected packages: jsonschema, json5, jupyterlab-server, jupyterlab, numpy, keras-applications, Keras, gast, tensorflow-estimator, tensorboard, tensorflow, pandas, opencv-python, threadpoolctl, scikit-learn, zope.interface, DateTime\n",
            "  Found existing installation: jsonschema 2.6.0\n",
            "    Uninstalling jsonschema-2.6.0:\n",
            "      Successfully uninstalled jsonschema-2.6.0\n",
            "  Found existing installation: numpy 1.18.5\n",
            "    Uninstalling numpy-1.18.5:\n",
            "      Successfully uninstalled numpy-1.18.5\n",
            "  Found existing installation: Keras 2.4.3\n",
            "    Uninstalling Keras-2.4.3:\n",
            "      Successfully uninstalled Keras-2.4.3\n",
            "  Found existing installation: gast 0.3.3\n",
            "    Uninstalling gast-0.3.3:\n",
            "      Successfully uninstalled gast-0.3.3\n",
            "  Found existing installation: tensorflow-estimator 2.3.0\n",
            "    Uninstalling tensorflow-estimator-2.3.0:\n",
            "      Successfully uninstalled tensorflow-estimator-2.3.0\n",
            "  Found existing installation: tensorboard 2.3.0\n",
            "    Uninstalling tensorboard-2.3.0:\n",
            "      Successfully uninstalled tensorboard-2.3.0\n",
            "  Found existing installation: tensorflow 2.3.0\n",
            "    Uninstalling tensorflow-2.3.0:\n",
            "      Successfully uninstalled tensorflow-2.3.0\n",
            "  Found existing installation: pandas 1.1.4\n",
            "    Uninstalling pandas-1.1.4:\n",
            "      Successfully uninstalled pandas-1.1.4\n",
            "  Found existing installation: opencv-python 4.1.2.30\n",
            "    Uninstalling opencv-python-4.1.2.30:\n",
            "      Successfully uninstalled opencv-python-4.1.2.30\n",
            "  Found existing installation: scikit-learn 0.22.2.post1\n",
            "    Uninstalling scikit-learn-0.22.2.post1:\n",
            "      Successfully uninstalled scikit-learn-0.22.2.post1\n",
            "Successfully installed DateTime-4.3 Keras-2.3.1 gast-0.2.2 json5-0.9.5 jsonschema-3.2.0 jupyterlab-2.0.1 jupyterlab-server-1.0.9 keras-applications-1.0.8 numpy-1.18.1 opencv-python-4.2.0.32 pandas-0.22.0 scikit-learn-0.23.1 tensorboard-2.1.1 tensorflow-2.1.0 tensorflow-estimator-2.1.0 threadpoolctl-2.1.0 zope.interface-5.2.0\n"
          ],
          "name": "stdout"
        },
        {
          "output_type": "display_data",
          "data": {
            "application/vnd.colab-display-data+json": {
              "pip_warning": {
                "packages": [
                  "numpy",
                  "pandas"
                ]
              }
            }
          },
          "metadata": {
            "tags": []
          }
        }
      ]
    },
    {
      "cell_type": "code",
      "metadata": {
        "id": "YqzIOfEZMl0R"
      },
      "source": [
        "import numpy as np\n",
        "import pickle\n",
        "import pandas as pd\n",
        "\n",
        "from sklearn.model_selection import train_test_split\n",
        "from tensorflow.keras.applications.vgg16 import VGG16 \n",
        "\n",
        "from evaluate_features import get_features, linear_classifier, tSNE_vis"
      ],
      "execution_count": null,
      "outputs": []
    },
    {
      "cell_type": "markdown",
      "metadata": {
        "id": "HbpMmt6uMl0Z"
      },
      "source": [
        "# Load Dataframe"
      ]
    },
    {
      "cell_type": "code",
      "metadata": {
        "colab": {
          "base_uri": "https://localhost:8080/",
          "height": 476
        },
        "id": "fRGSbHANMl0a",
        "outputId": "239c1f7a-cb80-460b-9384-2898bcd7176f"
      },
      "source": [
        "df = pd.read_pickle(\"data/df.pickle\")\n",
        "df.head()"
      ],
      "execution_count": null,
      "outputs": [
        {
          "output_type": "error",
          "ename": "ModuleNotFoundError",
          "evalue": "ignored",
          "traceback": [
            "\u001b[0;31m---------------------------------------------------------------------------\u001b[0m",
            "\u001b[0;31mModuleNotFoundError\u001b[0m                       Traceback (most recent call last)",
            "\u001b[0;32m/usr/local/lib/python3.6/dist-packages/IPython/core/formatters.py\u001b[0m in \u001b[0;36m__call__\u001b[0;34m(self, obj)\u001b[0m\n\u001b[1;32m    336\u001b[0m             \u001b[0mmethod\u001b[0m \u001b[0;34m=\u001b[0m \u001b[0mget_real_method\u001b[0m\u001b[0;34m(\u001b[0m\u001b[0mobj\u001b[0m\u001b[0;34m,\u001b[0m \u001b[0mself\u001b[0m\u001b[0;34m.\u001b[0m\u001b[0mprint_method\u001b[0m\u001b[0;34m)\u001b[0m\u001b[0;34m\u001b[0m\u001b[0;34m\u001b[0m\u001b[0m\n\u001b[1;32m    337\u001b[0m             \u001b[0;32mif\u001b[0m \u001b[0mmethod\u001b[0m \u001b[0;32mis\u001b[0m \u001b[0;32mnot\u001b[0m \u001b[0;32mNone\u001b[0m\u001b[0;34m:\u001b[0m\u001b[0;34m\u001b[0m\u001b[0;34m\u001b[0m\u001b[0m\n\u001b[0;32m--> 338\u001b[0;31m                 \u001b[0;32mreturn\u001b[0m \u001b[0mmethod\u001b[0m\u001b[0;34m(\u001b[0m\u001b[0;34m)\u001b[0m\u001b[0;34m\u001b[0m\u001b[0;34m\u001b[0m\u001b[0m\n\u001b[0m\u001b[1;32m    339\u001b[0m             \u001b[0;32mreturn\u001b[0m \u001b[0;32mNone\u001b[0m\u001b[0;34m\u001b[0m\u001b[0;34m\u001b[0m\u001b[0m\n\u001b[1;32m    340\u001b[0m         \u001b[0;32melse\u001b[0m\u001b[0;34m:\u001b[0m\u001b[0;34m\u001b[0m\u001b[0;34m\u001b[0m\u001b[0m\n",
            "\u001b[0;32m/usr/local/lib/python3.6/dist-packages/pandas/core/frame.py\u001b[0m in \u001b[0;36m_repr_html_\u001b[0;34m(self)\u001b[0m\n\u001b[1;32m    796\u001b[0m \u001b[0;34m\u001b[0m\u001b[0m\n\u001b[1;32m    797\u001b[0m         \u001b[0;31m# use integer indexing because of possible duplicate column names\u001b[0m\u001b[0;34m\u001b[0m\u001b[0;34m\u001b[0m\u001b[0;34m\u001b[0m\u001b[0m\n\u001b[0;32m--> 798\u001b[0;31m         \u001b[0marrays\u001b[0m\u001b[0;34m.\u001b[0m\u001b[0mextend\u001b[0m\u001b[0;34m(\u001b[0m\u001b[0mself\u001b[0m\u001b[0;34m.\u001b[0m\u001b[0miloc\u001b[0m\u001b[0;34m[\u001b[0m\u001b[0;34m:\u001b[0m\u001b[0;34m,\u001b[0m \u001b[0mk\u001b[0m\u001b[0;34m]\u001b[0m \u001b[0;32mfor\u001b[0m \u001b[0mk\u001b[0m \u001b[0;32min\u001b[0m \u001b[0mrange\u001b[0m\u001b[0;34m(\u001b[0m\u001b[0mlen\u001b[0m\u001b[0;34m(\u001b[0m\u001b[0mself\u001b[0m\u001b[0;34m.\u001b[0m\u001b[0mcolumns\u001b[0m\u001b[0;34m)\u001b[0m\u001b[0;34m)\u001b[0m\u001b[0;34m)\u001b[0m\u001b[0;34m\u001b[0m\u001b[0;34m\u001b[0m\u001b[0m\n\u001b[0m\u001b[1;32m    799\u001b[0m \u001b[0;34m\u001b[0m\u001b[0m\n\u001b[1;32m    800\u001b[0m         \u001b[0;31m# Python 3 supports at most 255 arguments to constructor, and\u001b[0m\u001b[0;34m\u001b[0m\u001b[0;34m\u001b[0m\u001b[0;34m\u001b[0m\u001b[0m\n",
            "\u001b[0;32m/usr/local/lib/python3.6/dist-packages/pandas/io/formats/format.py\u001b[0m in \u001b[0;36mto_html\u001b[0;34m(self, buf, encoding, classes, notebook, border)\u001b[0m\n\u001b[1;32m    983\u001b[0m             \u001b[0;32mif\u001b[0m \u001b[0mself\u001b[0m\u001b[0;34m.\u001b[0m\u001b[0mmultirow\u001b[0m \u001b[0;32mand\u001b[0m \u001b[0mi\u001b[0m \u001b[0;34m<\u001b[0m \u001b[0mlen\u001b[0m\u001b[0;34m(\u001b[0m\u001b[0mstrrows\u001b[0m\u001b[0;34m)\u001b[0m \u001b[0;34m-\u001b[0m \u001b[0;36m1\u001b[0m\u001b[0;34m:\u001b[0m\u001b[0;34m\u001b[0m\u001b[0;34m\u001b[0m\u001b[0m\n\u001b[1;32m    984\u001b[0m                 \u001b[0mself\u001b[0m\u001b[0;34m.\u001b[0m\u001b[0m_print_cline\u001b[0m\u001b[0;34m(\u001b[0m\u001b[0mbuf\u001b[0m\u001b[0;34m,\u001b[0m \u001b[0mi\u001b[0m\u001b[0;34m,\u001b[0m \u001b[0mlen\u001b[0m\u001b[0;34m(\u001b[0m\u001b[0mstrcols\u001b[0m\u001b[0;34m)\u001b[0m\u001b[0;34m)\u001b[0m\u001b[0;34m\u001b[0m\u001b[0;34m\u001b[0m\u001b[0m\n\u001b[0;32m--> 985\u001b[0;31m \u001b[0;34m\u001b[0m\u001b[0m\n\u001b[0m\u001b[1;32m    986\u001b[0m         \u001b[0;32mif\u001b[0m \u001b[0;32mnot\u001b[0m \u001b[0mself\u001b[0m\u001b[0;34m.\u001b[0m\u001b[0mlongtable\u001b[0m\u001b[0;34m:\u001b[0m\u001b[0;34m\u001b[0m\u001b[0;34m\u001b[0m\u001b[0m\n\u001b[1;32m    987\u001b[0m             \u001b[0mbuf\u001b[0m\u001b[0;34m.\u001b[0m\u001b[0mwrite\u001b[0m\u001b[0;34m(\u001b[0m\u001b[0;34m'\\\\bottomrule\\n'\u001b[0m\u001b[0;34m)\u001b[0m\u001b[0;34m\u001b[0m\u001b[0;34m\u001b[0m\u001b[0m\n",
            "\u001b[0;31mModuleNotFoundError\u001b[0m: No module named 'pandas.io.formats.html'"
          ]
        },
        {
          "output_type": "execute_result",
          "data": {
            "text/plain": [
              "                                filename class_label    class_one_hot\n",
              "0   data/processed/plastic/plastic80.jpg     plastic  [0, 0, 0, 0, 1]\n",
              "1  data/processed/plastic/plastic381.jpg     plastic  [0, 0, 0, 0, 1]\n",
              "2  data/processed/plastic/plastic169.jpg     plastic  [0, 0, 0, 0, 1]\n",
              "3  data/processed/plastic/plastic354.jpg     plastic  [0, 0, 0, 0, 1]\n",
              "4  data/processed/plastic/plastic185.jpg     plastic  [0, 0, 0, 0, 1]"
            ]
          },
          "metadata": {
            "tags": []
          },
          "execution_count": 6
        }
      ]
    },
    {
      "cell_type": "code",
      "metadata": {
        "colab": {
          "base_uri": "https://localhost:8080/"
        },
        "id": "c-YZpNjEMl0g",
        "outputId": "902ed152-b99e-414f-f83c-47a2aa8c10cd"
      },
      "source": [
        "class_labels = [\"cardboard\", \"glass\", \"metal\", \"paper\", \"plastic\"]\n",
        "num_classes = len(df['class_one_hot'][0])\n",
        "\n",
        "print(\"# of training instances:\", len(df.index), \"\\n\")\n",
        "for label in class_labels:\n",
        "    print(f\"# of '{label}' training instances: {(df.class_label == label).sum()}\")"
      ],
      "execution_count": null,
      "outputs": [
        {
          "output_type": "stream",
          "text": [
            "# of training instances: 2390 \n",
            "\n",
            "# of 'cardboard' training instances: 403\n",
            "# of 'glass' training instances: 501\n",
            "# of 'metal' training instances: 410\n",
            "# of 'paper' training instances: 594\n",
            "# of 'plastic' training instances: 482\n"
          ],
          "name": "stdout"
        }
      ]
    },
    {
      "cell_type": "code",
      "metadata": {
        "colab": {
          "base_uri": "https://localhost:8080/"
        },
        "id": "d2qU1NriMl0n",
        "outputId": "cf6afe2a-990a-4fe7-c1d1-d9b429896dbb"
      },
      "source": [
        "df_train, df_val_test = train_test_split(df, test_size=0.30, random_state=42, shuffle=True)\n",
        "df_val, df_test = train_test_split(df_val_test, test_size=0.50, random_state=42, shuffle=True)\n",
        "\n",
        "print(\"# of training instances:\", len(df_train.index), \"\\n\")\n",
        "for label in class_labels:\n",
        "    print(f\"# of '{label}' training instances: {(df_train.class_label == label).sum()}\")\n",
        "    \n",
        "print()\n",
        "print(\"# of validation instances:\", len(df_val.index), \"\\n\")\n",
        "for label in class_labels:\n",
        "    print(f\"# of '{label}' training instances: {(df_val.class_label == label).sum()}\")\n",
        "\n",
        "print()\n",
        "print(\"# of test instances:\", len(df_test.index), \"\\n\")\n",
        "for label in class_labels:\n",
        "    print(f\"# of '{label}' training instances: {(df_test.class_label == label).sum()}\")\n",
        "    \n",
        "dfs = {\n",
        "    \"train\": df_train,\n",
        "    \"val\": df_val,\n",
        "    \"test\": df_test\n",
        "}"
      ],
      "execution_count": null,
      "outputs": [
        {
          "output_type": "stream",
          "text": [
            "# of training instances: 1673 \n",
            "\n",
            "# of 'cardboard' training instances: 299\n",
            "# of 'glass' training instances: 358\n",
            "# of 'metal' training instances: 286\n",
            "# of 'paper' training instances: 405\n",
            "# of 'plastic' training instances: 325\n",
            "\n",
            "# of validation instances: 358 \n",
            "\n",
            "# of 'cardboard' training instances: 47\n",
            "# of 'glass' training instances: 84\n",
            "# of 'metal' training instances: 51\n",
            "# of 'paper' training instances: 100\n",
            "# of 'plastic' training instances: 76\n",
            "\n",
            "# of test instances: 359 \n",
            "\n",
            "# of 'cardboard' training instances: 57\n",
            "# of 'glass' training instances: 59\n",
            "# of 'metal' training instances: 73\n",
            "# of 'paper' training instances: 89\n",
            "# of 'plastic' training instances: 81\n"
          ],
          "name": "stdout"
        }
      ]
    },
    {
      "cell_type": "code",
      "metadata": {
        "id": "N9GgCItGMl0u"
      },
      "source": [
        "# Img size\n",
        "size = 80\n",
        "height_img = size\n",
        "width_img = size\n",
        "\n",
        "input_shape = (height_img, width_img, 3)"
      ],
      "execution_count": null,
      "outputs": []
    },
    {
      "cell_type": "markdown",
      "metadata": {
        "id": "yYrLvS3iMl0y"
      },
      "source": [
        "# Load pretrained VGG16 & Feature evaluation"
      ]
    },
    {
      "cell_type": "code",
      "metadata": {
        "colab": {
          "base_uri": "https://localhost:8080/"
        },
        "id": "4z587NS5Ml00",
        "outputId": "29908c5e-b50b-4eb1-e33d-cbb4f0c787f0"
      },
      "source": [
        "params_vgg16 = {'weights': \"imagenet\", \n",
        "                'include_top': False, \n",
        "                'input_shape': input_shape, \n",
        "                'pooling': None}\n",
        "\n",
        "# Design model\n",
        "base_model = VGG16(**params_vgg16)\n",
        "base_model.summary()"
      ],
      "execution_count": null,
      "outputs": [
        {
          "output_type": "stream",
          "text": [
            "Downloading data from https://github.com/fchollet/deep-learning-models/releases/download/v0.1/vgg16_weights_tf_dim_ordering_tf_kernels_notop.h5\n",
            "58892288/58889256 [==============================] - 2s 0us/step\n",
            "Model: \"vgg16\"\n",
            "_________________________________________________________________\n",
            "Layer (type)                 Output Shape              Param #   \n",
            "=================================================================\n",
            "input_1 (InputLayer)         [(None, 80, 80, 3)]       0         \n",
            "_________________________________________________________________\n",
            "block1_conv1 (Conv2D)        (None, 80, 80, 64)        1792      \n",
            "_________________________________________________________________\n",
            "block1_conv2 (Conv2D)        (None, 80, 80, 64)        36928     \n",
            "_________________________________________________________________\n",
            "block1_pool (MaxPooling2D)   (None, 40, 40, 64)        0         \n",
            "_________________________________________________________________\n",
            "block2_conv1 (Conv2D)        (None, 40, 40, 128)       73856     \n",
            "_________________________________________________________________\n",
            "block2_conv2 (Conv2D)        (None, 40, 40, 128)       147584    \n",
            "_________________________________________________________________\n",
            "block2_pool (MaxPooling2D)   (None, 20, 20, 128)       0         \n",
            "_________________________________________________________________\n",
            "block3_conv1 (Conv2D)        (None, 20, 20, 256)       295168    \n",
            "_________________________________________________________________\n",
            "block3_conv2 (Conv2D)        (None, 20, 20, 256)       590080    \n",
            "_________________________________________________________________\n",
            "block3_conv3 (Conv2D)        (None, 20, 20, 256)       590080    \n",
            "_________________________________________________________________\n",
            "block3_pool (MaxPooling2D)   (None, 10, 10, 256)       0         \n",
            "_________________________________________________________________\n",
            "block4_conv1 (Conv2D)        (None, 10, 10, 512)       1180160   \n",
            "_________________________________________________________________\n",
            "block4_conv2 (Conv2D)        (None, 10, 10, 512)       2359808   \n",
            "_________________________________________________________________\n",
            "block4_conv3 (Conv2D)        (None, 10, 10, 512)       2359808   \n",
            "_________________________________________________________________\n",
            "block4_pool (MaxPooling2D)   (None, 5, 5, 512)         0         \n",
            "_________________________________________________________________\n",
            "block5_conv1 (Conv2D)        (None, 5, 5, 512)         2359808   \n",
            "_________________________________________________________________\n",
            "block5_conv2 (Conv2D)        (None, 5, 5, 512)         2359808   \n",
            "_________________________________________________________________\n",
            "block5_conv3 (Conv2D)        (None, 5, 5, 512)         2359808   \n",
            "_________________________________________________________________\n",
            "block5_pool (MaxPooling2D)   (None, 2, 2, 512)         0         \n",
            "=================================================================\n",
            "Total params: 14,714,688\n",
            "Trainable params: 14,714,688\n",
            "Non-trainable params: 0\n",
            "_________________________________________________________________\n"
          ],
          "name": "stdout"
        }
      ]
    },
    {
      "cell_type": "code",
      "metadata": {
        "id": "XcdE2JU5Ml04"
      },
      "source": [
        "feat_dim = 2 * 2 * 512"
      ],
      "execution_count": null,
      "outputs": []
    },
    {
      "cell_type": "markdown",
      "metadata": {
        "id": "75j95YbIMl09"
      },
      "source": [
        "# Build SimCLR-Model"
      ]
    },
    {
      "cell_type": "code",
      "metadata": {
        "id": "pNq93i59Ml0-"
      },
      "source": [
        "from DataGeneratorSimCLR import DataGeneratorSimCLR as DataGenerator\n",
        "from SimCLR import SimCLR"
      ],
      "execution_count": null,
      "outputs": []
    },
    {
      "cell_type": "markdown",
      "metadata": {
        "id": "b0_nz95NMl1D"
      },
      "source": [
        "### Properties"
      ]
    },
    {
      "cell_type": "code",
      "metadata": {
        "id": "EqkkdfRPMl1E"
      },
      "source": [
        "batch_size = 32\n",
        "# Projection_head\n",
        "num_layers_ph = 2\n",
        "feat_dims_ph = [2048, 128]\n",
        "num_of_unfrozen_layers = 4 #Note: with 1, all weights of the base_model are still frozen (last layer is max_pool)\n",
        "save_path = 'models/dr'"
      ],
      "execution_count": null,
      "outputs": []
    },
    {
      "cell_type": "code",
      "metadata": {
        "id": "X1dGZztKMl1K"
      },
      "source": [
        "SimCLR = SimCLR(\n",
        "        base_model = base_model,\n",
        "        input_shape = input_shape,\n",
        "        batch_size = batch_size,\n",
        "        feat_dim = feat_dim,\n",
        "        feat_dims_ph = feat_dims_ph,\n",
        "        num_of_unfrozen_layers = num_of_unfrozen_layers,\n",
        "        save_path = save_path\n",
        "    )"
      ],
      "execution_count": null,
      "outputs": []
    },
    {
      "cell_type": "code",
      "metadata": {
        "id": "bvdVxJTiMl1W"
      },
      "source": [
        "params_generator = {'batch_size': batch_size,\n",
        "                    'shuffle' : True,\n",
        "                    'width':width_img,\n",
        "                    'height': height_img,\n",
        "                    'VGG': True\n",
        "                   }\n",
        "\n",
        "# Generators\n",
        "data_train = DataGenerator(df_train.reset_index(drop=True), **params_generator)\n",
        "data_val = DataGenerator(df_val.reset_index(drop=True), subset = \"val\", **params_generator) #val keeps the unity values on the same random places ~42\n",
        "data_test = DataGenerator(df_test.reset_index(drop=True), subset = \"test\", **params_generator) #test keeps the unity values on the diagonal"
      ],
      "execution_count": null,
      "outputs": []
    },
    {
      "cell_type": "code",
      "metadata": {
        "colab": {
          "background_save": true
        },
        "id": "-ipobvp7Ml1a"
      },
      "source": [
        "y_predict_test_before = SimCLR.predict(data_test)"
      ],
      "execution_count": null,
      "outputs": []
    },
    {
      "cell_type": "markdown",
      "metadata": {
        "id": "pssY8CS6Ml1g"
      },
      "source": [
        "## Training SimCLR"
      ]
    },
    {
      "cell_type": "code",
      "metadata": {
        "colab": {
          "base_uri": "https://localhost:8080/",
          "height": 439
        },
        "id": "JLMsqpJcMl1h",
        "outputId": "4df6a650-cdfd-4f02-bd88-978690701b1c"
      },
      "source": [
        "SimCLR.unfreeze_and_train(data_train, \n",
        "                          data_val, \n",
        "                          num_of_unfrozen_layers = 4, \n",
        "                          r = 4, \n",
        "                          lr = 1e-6, \n",
        "                          epochs = 5)  "
      ],
      "execution_count": null,
      "outputs": [
        {
          "output_type": "stream",
          "text": [
            "Train for 53 steps, validate for 12 steps\n",
            "Epoch 1/5\n",
            "52/53 [============================>.] - ETA: 1s - loss: 389.5823\n",
            "Epoch 00001: val_loss improved from inf to 339.24903, saving model to models/trashnet/SimCLR/SimCLR_07_25_09h_27.h5\n",
            "53/53 [==============================] - 75s 1s/step - loss: 388.6704 - val_loss: 339.2490\n",
            "Epoch 2/5\n",
            "52/53 [============================>.] - ETA: 0s - loss: 296.5550\n",
            "Epoch 00002: val_loss improved from 339.24903 to 252.58843, saving model to models/trashnet/SimCLR/SimCLR_07_25_09h_27.h5\n",
            "53/53 [==============================] - 49s 919ms/step - loss: 295.7576 - val_loss: 252.5884\n",
            "Epoch 3/5\n",
            "52/53 [============================>.] - ETA: 0s - loss: 216.1633\n",
            "Epoch 00003: val_loss improved from 252.58843 to 179.10358, saving model to models/trashnet/SimCLR/SimCLR_07_25_09h_27.h5\n",
            "53/53 [==============================] - 49s 933ms/step - loss: 215.4898 - val_loss: 179.1036\n",
            "Epoch 4/5\n",
            "52/53 [============================>.] - ETA: 0s - loss: 149.2019\n",
            "Epoch 00004: val_loss improved from 179.10358 to 119.28032, saving model to models/trashnet/SimCLR/SimCLR_07_25_09h_27.h5\n",
            "53/53 [==============================] - 49s 923ms/step - loss: 148.6581 - val_loss: 119.2803\n",
            "Epoch 5/5\n",
            "52/53 [============================>.] - ETA: 0s - loss: 95.8626\n",
            "Epoch 00005: val_loss improved from 119.28032 to 72.98396, saving model to models/trashnet/SimCLR/SimCLR_07_25_09h_27.h5\n",
            "53/53 [==============================] - 49s 926ms/step - loss: 95.4462 - val_loss: 72.9840\n",
            "trainable parameters: 4.46 M.\n",
            "non-trainable parameters: 14.71 M.\n"
          ],
          "name": "stdout"
        }
      ]
    },
    {
      "cell_type": "code",
      "metadata": {
        "id": "YfWiM4gfMl1n"
      },
      "source": [
        "y_predict_test_after = SimCLR.predict(data_test)"
      ],
      "execution_count": null,
      "outputs": []
    },
    {
      "cell_type": "markdown",
      "metadata": {
        "id": "MITBpHs6Ml1r"
      },
      "source": [
        "## SimCLR-output check"
      ]
    },
    {
      "cell_type": "code",
      "metadata": {
        "colab": {
          "base_uri": "https://localhost:8080/",
          "height": 72
        },
        "id": "M92VNCQHMl1s",
        "outputId": "b635b3f2-6307-4ffb-f9fd-6b28fca009c6"
      },
      "source": [
        "print(f\"Random guess accuracy: {round(1/(2*batch_size),4)}\")\n",
        "\n",
        "print(f\"accuracy - test - before: {np.round(np.sum(data_test[0][1] * y_predict_test_before[:batch_size])/(2*batch_size),2)}\")\n",
        "print(f\"accuracy - test - after: {np.round(np.sum(data_test[0][1] * y_predict_test_after[:batch_size])/(2*batch_size),2)}\")"
      ],
      "execution_count": null,
      "outputs": [
        {
          "output_type": "stream",
          "text": [
            "Random guess accuracy: 0.0156\n",
            "accuracy - test - before: 0.6\n",
            "accuracy - test - after: 0.93\n"
          ],
          "name": "stdout"
        }
      ]
    },
    {
      "cell_type": "code",
      "metadata": {
        "colab": {
          "base_uri": "https://localhost:8080/",
          "height": 182
        },
        "id": "K7NxSEoyMl1w",
        "outputId": "b65bf69f-62e8-447b-95b2-398d513cbf90"
      },
      "source": [
        "print(\"y_predict_test_before\")\n",
        "for i in range(min(batch_size, 15)):\n",
        "    print(np.round(y_predict_test_before[i][i],2), end=\" | \")\n",
        "print(\"\\n\")    \n",
        "print(\"y_predict_test_after\")\n",
        "for i in range(min(batch_size, 15)):\n",
        "    print(np.round(y_predict_test_after[i][i],2), end=\" | \")\n",
        "print(\"\\n\") \n",
        "print(\"y_predict_test_after - Second diagonal\")\n",
        "for i in range(min(batch_size, 15)):\n",
        "    print(np.round(y_predict_test_after[i + 2 * batch_size][i],2), end=\" | \")\n",
        "print(\"\\n\")    "
      ],
      "execution_count": null,
      "outputs": [
        {
          "output_type": "stream",
          "text": [
            "y_predict_test_before\n",
            "0.85 | 0.52 | 0.51 | 0.23 | 0.81 | 0.78 | 0.81 | 0.73 | 0.56 | 0.58 | 0.62 | 0.81 | 0.36 | 0.88 | 0.74 | \n",
            "\n",
            "y_predict_test_after\n",
            "0.99 | 0.99 | 0.97 | 0.99 | 0.99 | 0.99 | 0.99 | 0.93 | 0.99 | 0.99 | 0.97 | 0.95 | 0.05 | 0.66 | 0.98 | \n",
            "\n",
            "y_predict_test_after - Second diagonal\n",
            "0.97 | 0.99 | 0.98 | 0.95 | 0.98 | 0.99 | 0.96 | 0.72 | 0.98 | 0.96 | 0.74 | 0.99 | 0.98 | 0.92 | 0.89 | \n",
            "\n"
          ],
          "name": "stdout"
        }
      ]
    },
    {
      "cell_type": "markdown",
      "metadata": {
        "id": "IMdwX9kXMl3R"
      },
      "source": [
        "## Feature Evaluation"
      ]
    },
    {
      "cell_type": "markdown",
      "metadata": {
        "id": "pO4paMl9Ml3R"
      },
      "source": [
        "### Logistic Regression"
      ]
    },
    {
      "cell_type": "code",
      "metadata": {
        "id": "P-IHH1xVMl3S"
      },
      "source": [
        "base_model = SimCLR.base_model"
      ],
      "execution_count": null,
      "outputs": []
    },
    {
      "cell_type": "code",
      "metadata": {
        "colab": {
          "base_uri": "https://localhost:8080/",
          "height": 35
        },
        "id": "cnECT4QJMl3T",
        "outputId": "f24df18b-daaa-4ded-9d6e-c9262adf4b0e"
      },
      "source": [
        "features_train, y_train, feats = get_features(base_model, df_train, class_labels)\n",
        "features_test, y_test, feats = get_features(base_model, df_test, class_labels)\n",
        "np.count_nonzero(features_train[0])"
      ],
      "execution_count": null,
      "outputs": [
        {
          "output_type": "execute_result",
          "data": {
            "text/plain": [
              "1103"
            ]
          },
          "metadata": {
            "tags": []
          },
          "execution_count": 44
        }
      ]
    },
    {
      "cell_type": "code",
      "metadata": {
        "colab": {
          "base_uri": "https://localhost:8080/",
          "height": 899
        },
        "id": "TU8NPJBkMl3X",
        "outputId": "1f39db1c-684b-4b85-e199-1a77c0563abb"
      },
      "source": [
        "# Training logistic regression classifier on 3 fractions of the data\n",
        "# Optimal regularization is determined from a 5-fold cross-validation\n",
        "fractions = [1.0, 0.2, 0.05]\n",
        "for fraction in fractions:\n",
        "    print(f\"    ==== {fraction * 100}% of the training data used ==== \\n\")\n",
        "    linear_classifier(features_train, y_train, features_test, y_test, class_labels, fraction = fraction)"
      ],
      "execution_count": null,
      "outputs": [
        {
          "output_type": "stream",
          "text": [
            "    ==== 100.0% of the training data used ==== \n",
            "\n",
            "Accuracy on test: 0.83 \n",
            "\n",
            "              precision    recall  f1-score   support\n",
            "\n",
            "   cardboard       0.90      0.82      0.86        57\n",
            "       glass       0.80      0.80      0.80        59\n",
            "       metal       0.79      0.90      0.84        73\n",
            "       paper       0.84      0.89      0.86        89\n",
            "     plastic       0.83      0.72      0.77        81\n",
            "\n",
            "    accuracy                           0.83       359\n",
            "   macro avg       0.83      0.83      0.83       359\n",
            "weighted avg       0.83      0.83      0.83       359\n",
            "\n",
            "    ==== 20.0% of the training data used ==== \n",
            "\n",
            "Accuracy on test: 0.82 \n",
            "\n",
            "              precision    recall  f1-score   support\n",
            "\n",
            "   cardboard       0.92      0.84      0.88        57\n",
            "       glass       0.77      0.80      0.78        59\n",
            "       metal       0.79      0.85      0.82        73\n",
            "       paper       0.81      0.89      0.85        89\n",
            "     plastic       0.83      0.73      0.78        81\n",
            "\n",
            "    accuracy                           0.82       359\n",
            "   macro avg       0.83      0.82      0.82       359\n",
            "weighted avg       0.82      0.82      0.82       359\n",
            "\n",
            "    ==== 5.0% of the training data used ==== \n",
            "\n",
            "Accuracy on test: 0.82 \n",
            "\n",
            "              precision    recall  f1-score   support\n",
            "\n",
            "   cardboard       0.91      0.88      0.89        57\n",
            "       glass       0.75      0.76      0.76        59\n",
            "       metal       0.81      0.88      0.84        73\n",
            "       paper       0.86      0.89      0.87        89\n",
            "     plastic       0.79      0.72      0.75        81\n",
            "\n",
            "    accuracy                           0.82       359\n",
            "   macro avg       0.82      0.82      0.82       359\n",
            "weighted avg       0.82      0.82      0.82       359\n",
            "\n"
          ],
          "name": "stdout"
        }
      ]
    },
    {
      "cell_type": "markdown",
      "metadata": {
        "id": "XlVebWE7Ml3Z"
      },
      "source": [
        "### Fine tuned model"
      ]
    },
    {
      "cell_type": "code",
      "metadata": {
        "id": "vhnYkrhZMl3a"
      },
      "source": [
        "batch_size_classifier = 32\n",
        "params_generator_classifier = {'max_width':width_img,\n",
        "                            'max_height': height_img,\n",
        "                            'num_classes': num_classes,\n",
        "                            'VGG': True\n",
        "                            }\n",
        "params_training_classifier = {'1.0':{\n",
        "                                \"reg_dense\" : 0.005,\n",
        "                                \"reg_out\" : 0.005,\n",
        "                                \"nums_of_unfrozen_layers\" : [5, 5, 6, 7],\n",
        "                                \"lrs\" : [1e-3, 1e-4, 5e-5, 5e-5],\n",
        "                                \"epochs\" : [5, 5, 15, 10]\n",
        "                                },\n",
        "                              '0.2':{\n",
        "                                \"reg_dense\" : 0.075,\n",
        "                                \"reg_out\" : 0.01,\n",
        "                                \"nums_of_unfrozen_layers\" : [5, 5, 6, 7],\n",
        "                                \"lrs\" : [1e-3, 1e-4, 5e-5, 5e-5],\n",
        "                                \"epochs\" : [5, 5, 20, 15]\n",
        "                              },\n",
        "                              '0.05':{\n",
        "                                \"reg_dense\" : 0.01,\n",
        "                                \"reg_out\" : 0.02,\n",
        "                                \"nums_of_unfrozen_layers\" : [5, 5, 6, 7],\n",
        "                                \"lrs\" : [1e-3, 1e-4, 5e-5, 1e-5],\n",
        "                                \"epochs\" : [5, 5, 20, 15]\n",
        "                              }                              \n",
        "                            }"
      ],
      "execution_count": null,
      "outputs": []
    },
    {
      "cell_type": "code",
      "metadata": {
        "colab": {
          "base_uri": "https://localhost:8080/",
          "height": 862
        },
        "id": "QtoW3bL4Ml3g",
        "outputId": "a985cb18-c039-41cd-e1ad-daca9010c85b"
      },
      "source": [
        "for fraction in fractions:    \n",
        "    print(f\"    ==== {fraction * 100}% of the training data used ==== \\n\")\n",
        "    SimCLR.train_NL_and_evaluate(dfs = dfs,\n",
        "                                batch_size = batch_size_classifier,\n",
        "                                params_generator = params_generator_classifier,\n",
        "                                fraction = fraction,\n",
        "                                class_labels = class_labels,\n",
        "                                reg_dense = params_training_classifier[str(fraction)][\"reg_dense\"],\n",
        "                                reg_out = params_training_classifier[str(fraction)][\"reg_out\"],\n",
        "                                nums_of_unfrozen_layers = params_training_classifier[str(fraction)][\"nums_of_unfrozen_layers\"],\n",
        "                                lrs = params_training_classifier[str(fraction)][\"lrs\"],\n",
        "                                epochs = params_training_classifier[str(fraction)][\"epochs\"],\n",
        "                                verbose_epoch = 0,\n",
        "                                verbose_cycle = 0\n",
        "                                )"
      ],
      "execution_count": null,
      "outputs": [
        {
          "output_type": "stream",
          "text": [
            "    ==== 100.0% of the training data used ==== \n",
            "\n",
            "Best result from attempt 3\n",
            "              precision    recall  f1-score   support\n",
            "\n",
            "   cardboard       0.96      0.91      0.94        57\n",
            "       glass       0.85      0.88      0.87        59\n",
            "       metal       0.81      0.89      0.85        73\n",
            "       paper       0.90      0.94      0.92        89\n",
            "     plastic       0.92      0.80      0.86        81\n",
            "\n",
            "    accuracy                           0.89       359\n",
            "   macro avg       0.89      0.89      0.89       359\n",
            "weighted avg       0.89      0.89      0.89       359\n",
            "\n",
            "    ==== 20.0% of the training data used ==== \n",
            "\n",
            "Best result from attempt 1\n",
            "              precision    recall  f1-score   support\n",
            "\n",
            "   cardboard       0.90      0.95      0.92        57\n",
            "       glass       0.83      0.83      0.83        59\n",
            "       metal       0.81      0.86      0.83        73\n",
            "       paper       0.92      0.92      0.92        89\n",
            "     plastic       0.90      0.81      0.86        81\n",
            "\n",
            "    accuracy                           0.87       359\n",
            "   macro avg       0.87      0.88      0.87       359\n",
            "weighted avg       0.88      0.87      0.87       359\n",
            "\n",
            "    ==== 5.0% of the training data used ==== \n",
            "\n",
            "Learning diverged, stopped.\n",
            "Best result from attempt 1\n",
            "              precision    recall  f1-score   support\n",
            "\n",
            "   cardboard       0.89      0.88      0.88        57\n",
            "       glass       0.81      0.81      0.81        59\n",
            "       metal       0.83      0.81      0.82        73\n",
            "       paper       0.85      0.96      0.90        89\n",
            "     plastic       0.90      0.81      0.86        81\n",
            "\n",
            "    accuracy                           0.86       359\n",
            "   macro avg       0.86      0.85      0.85       359\n",
            "weighted avg       0.86      0.86      0.86       359\n",
            "\n"
          ],
          "name": "stdout"
        }
      ]
    },
    {
      "cell_type": "code",
      "metadata": {
        "colab": {
          "base_uri": "https://localhost:8080/",
          "height": 380
        },
        "id": "PAyCxLZXMl3j",
        "outputId": "0919bb05-c696-4eb5-9ed5-a8a2db6e29cd"
      },
      "source": [
        "tSNE_vis(df_train, features_train, class_labels)"
      ],
      "execution_count": null,
      "outputs": [
        {
          "output_type": "display_data",
          "data": {
            "image/png": "[encoded data removed]",
            "text/plain": [
              "<Figure size 432x432 with 1 Axes>"
            ]
          },
          "metadata": {
            "tags": []
          }
        }
      ]
    }
  ]
}