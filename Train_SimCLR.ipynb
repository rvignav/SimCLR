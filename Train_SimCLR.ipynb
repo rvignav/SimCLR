{
  "nbformat": 4,
  "nbformat_minor": 0,
  "metadata": {
    "accelerator": "GPU",
    "colab": {
      "name": "Train_SimCLR.ipynb",
      "provenance": [],
      "collapsed_sections": [],
      "include_colab_link": true
    },
    "kernelspec": {
      "display_name": "Python 3",
      "language": "python",
      "name": "python3"
    },
    "language_info": {
      "codemirror_mode": {
        "name": "ipython",
        "version": 3
      },
      "file_extension": ".py",
      "mimetype": "text/x-python",
      "name": "python",
      "nbconvert_exporter": "python",
      "pygments_lexer": "ipython3",
      "version": "3.6.1"
    }
  },
  "cells": [
    {
      "cell_type": "markdown",
      "metadata": {
        "id": "view-in-github",
        "colab_type": "text"
      },
      "source": [
        "<a href=\"https://colab.research.google.com/github/rvignav/SimCLR/blob/main/Train_SimCLR.ipynb\" target=\"_parent\"><img src=\"https://colab.research.google.com/assets/colab-badge.svg\" alt=\"Open In Colab\"/></a>"
      ]
    },
    {
      "cell_type": "code",
      "metadata": {
        "colab": {
          "base_uri": "https://localhost:8080/",
          "height": 1000
        },
        "id": "hsi65mRTMl0G",
        "outputId": "41358587-0610-4318-9c8e-eb33749a81a2"
      },
      "source": [
        "%cd /scratch/users/rvignav/SimCLR\n",
        "# !pip install -r requirements.txt"
      ],
      "execution_count": null,
      "outputs": [
        {
          "output_type": "stream",
          "text": [
            "/scratch/users/rvignav/SimCLR\n"
          ],
          "name": "stdout"
        }
      ]
    },
    {
      "cell_type": "code",
      "metadata": {
        "collapsed": true,
        "id": "YqzIOfEZMl0R"
      },
      "source": [
        "import numpy as np\n",
        "import pickle\n",
        "import pandas as pd\n",
        "\n",
        "from sklearn.model_selection import train_test_split\n",
        "from tensorflow.keras.applications.vgg16 import VGG16 \n",
        "\n",
        "from evaluate_features import get_features, linear_classifier, tSNE_vis"
      ],
      "execution_count": null,
      "outputs": []
    },
    {
      "cell_type": "markdown",
      "metadata": {
        "id": "HbpMmt6uMl0Z"
      },
      "source": [
        "# Load Dataframe"
      ]
    },
    {
      "cell_type": "code",
      "metadata": {
        "colab": {
          "base_uri": "https://localhost:8080/",
          "height": 476
        },
        "id": "fRGSbHANMl0a",
        "outputId": "239c1f7a-cb80-460b-9384-2898bcd7176f"
      },
      "source": [
        "import csv\n",
        "class_labels = [\"none\", \"mild\", \"moderate\", \"severe\", \"proliferative\"]\n",
        "\n",
        "csv_file = open('/scratch/users/rvignav/SimCLR/data/trainLabels.csv', mode='r')\n",
        "d = csv.DictReader(csv_file)\n",
        "\n",
        "fname = []\n",
        "label = []\n",
        "one_hot = []\n",
        "\n",
        "for row in d:\n",
        "    fname.append('/scratch/users/rvignav/SimCLR/data/train/' + row['image'] + '.jpeg')\n",
        "    l = int(row['level'])\n",
        "    label.append(class_labels[l])\n",
        "    arr = [0, 0, 0, 0, 0]\n",
        "    arr[l] = 1\n",
        "    one_hot.append(arr)\n",
        "\n",
        "df = pd.DataFrame({\"filename\": fname, \"class_label\": label, \"class_one_hot\": one_hot})\n",
        "\n",
        "df.head()"
      ],
      "execution_count": null,
      "outputs": [
        {
          "output_type": "execute_result",
          "data": {
            "text/html": [
              "<div>\n",
              "<style scoped>\n",
              "    .dataframe tbody tr th:only-of-type {\n",
              "        vertical-align: middle;\n",
              "    }\n",
              "\n",
              "    .dataframe tbody tr th {\n",
              "        vertical-align: top;\n",
              "    }\n",
              "\n",
              "    .dataframe thead th {\n",
              "        text-align: right;\n",
              "    }\n",
              "</style>\n",
              "<table border=\"1\" class=\"dataframe\">\n",
              "  <thead>\n",
              "    <tr style=\"text-align: right;\">\n",
              "      <th></th>\n",
              "      <th>class_label</th>\n",
              "      <th>class_one_hot</th>\n",
              "      <th>filename</th>\n",
              "    </tr>\n",
              "  </thead>\n",
              "  <tbody>\n",
              "    <tr>\n",
              "      <th>0</th>\n",
              "      <td>none</td>\n",
              "      <td>[1, 0, 0, 0, 0]</td>\n",
              "      <td>/scratch/users/rvignav/SimCLR/data/train/10_le...</td>\n",
              "    </tr>\n",
              "    <tr>\n",
              "      <th>1</th>\n",
              "      <td>none</td>\n",
              "      <td>[1, 0, 0, 0, 0]</td>\n",
              "      <td>/scratch/users/rvignav/SimCLR/data/train/10_ri...</td>\n",
              "    </tr>\n",
              "    <tr>\n",
              "      <th>2</th>\n",
              "      <td>none</td>\n",
              "      <td>[1, 0, 0, 0, 0]</td>\n",
              "      <td>/scratch/users/rvignav/SimCLR/data/train/13_le...</td>\n",
              "    </tr>\n",
              "    <tr>\n",
              "      <th>3</th>\n",
              "      <td>none</td>\n",
              "      <td>[1, 0, 0, 0, 0]</td>\n",
              "      <td>/scratch/users/rvignav/SimCLR/data/train/13_ri...</td>\n",
              "    </tr>\n",
              "    <tr>\n",
              "      <th>4</th>\n",
              "      <td>mild</td>\n",
              "      <td>[0, 1, 0, 0, 0]</td>\n",
              "      <td>/scratch/users/rvignav/SimCLR/data/train/15_le...</td>\n",
              "    </tr>\n",
              "  </tbody>\n",
              "</table>\n",
              "</div>"
            ],
            "text/plain": [
              "  class_label    class_one_hot  \\\n",
              "0        none  [1, 0, 0, 0, 0]   \n",
              "1        none  [1, 0, 0, 0, 0]   \n",
              "2        none  [1, 0, 0, 0, 0]   \n",
              "3        none  [1, 0, 0, 0, 0]   \n",
              "4        mild  [0, 1, 0, 0, 0]   \n",
              "\n",
              "                                            filename  \n",
              "0  /scratch/users/rvignav/SimCLR/data/train/10_le...  \n",
              "1  /scratch/users/rvignav/SimCLR/data/train/10_ri...  \n",
              "2  /scratch/users/rvignav/SimCLR/data/train/13_le...  \n",
              "3  /scratch/users/rvignav/SimCLR/data/train/13_ri...  \n",
              "4  /scratch/users/rvignav/SimCLR/data/train/15_le...  "
            ]
          },
          "metadata": {
            "tags": []
          },
          "execution_count": 3
        }
      ]
    },
    {
      "cell_type": "code",
      "metadata": {
        "colab": {
          "base_uri": "https://localhost:8080/"
        },
        "id": "c-YZpNjEMl0g",
        "outputId": "902ed152-b99e-414f-f83c-47a2aa8c10cd"
      },
      "source": [
        "num_classes = len(df['class_one_hot'][0])\n",
        "\n",
        "print(\"# of training instances:\", len(df.index), \"\\n\")\n",
        "for label in class_labels:\n",
        "    print(f\"# of '{label}' training instances: {(df.class_label == label).sum()}\")"
      ],
      "execution_count": null,
      "outputs": [
        {
          "output_type": "stream",
          "text": [
            "# of training instances: 35126 \n",
            "\n",
            "# of 'none' training instances: 25810\n",
            "# of 'mild' training instances: 2443\n",
            "# of 'moderate' training instances: 5292\n",
            "# of 'severe' training instances: 873\n",
            "# of 'proliferative' training instances: 708\n"
          ],
          "name": "stdout"
        }
      ]
    },
    {
      "cell_type": "code",
      "metadata": {
        "colab": {
          "base_uri": "https://localhost:8080/"
        },
        "id": "d2qU1NriMl0n",
        "outputId": "cf6afe2a-990a-4fe7-c1d1-d9b429896dbb"
      },
      "source": [
        "df_train, df_val_test = train_test_split(df, test_size=0.30, random_state=42, shuffle=True)\n",
        "df_val, df_test = train_test_split(df_val_test, test_size=0.50, random_state=42, shuffle=True)\n",
        "\n",
        "print(\"# of training instances:\", len(df_train.index), \"\\n\")\n",
        "for label in class_labels:\n",
        "    print(f\"# of '{label}' training instances: {(df_train.class_label == label).sum()}\")\n",
        "    \n",
        "print()\n",
        "print(\"# of validation instances:\", len(df_val.index), \"\\n\")\n",
        "for label in class_labels:\n",
        "    print(f\"# of '{label}' training instances: {(df_val.class_label == label).sum()}\")\n",
        "\n",
        "print()\n",
        "print(\"# of test instances:\", len(df_test.index), \"\\n\")\n",
        "for label in class_labels:\n",
        "    print(f\"# of '{label}' training instances: {(df_test.class_label == label).sum()}\")\n",
        "    \n",
        "dfs = {\n",
        "    \"train\": df_train,\n",
        "    \"val\": df_val,\n",
        "    \"test\": df_test\n",
        "}"
      ],
      "execution_count": null,
      "outputs": [
        {
          "output_type": "stream",
          "text": [
            "# of training instances: 24588 \n",
            "\n",
            "# of 'none' training instances: 18045\n",
            "# of 'mild' training instances: 1725\n",
            "# of 'moderate' training instances: 3707\n",
            "# of 'severe' training instances: 621\n",
            "# of 'proliferative' training instances: 490\n",
            "\n",
            "# of validation instances: 5269 \n",
            "\n",
            "# of 'none' training instances: 3877\n",
            "# of 'mild' training instances: 358\n",
            "# of 'moderate' training instances: 781\n",
            "# of 'severe' training instances: 134\n",
            "# of 'proliferative' training instances: 119\n",
            "\n",
            "# of test instances: 5269 \n",
            "\n",
            "# of 'none' training instances: 3888\n",
            "# of 'mild' training instances: 360\n",
            "# of 'moderate' training instances: 804\n",
            "# of 'severe' training instances: 118\n",
            "# of 'proliferative' training instances: 99\n"
          ],
          "name": "stdout"
        }
      ]
    },
    {
      "cell_type": "code",
      "metadata": {
        "collapsed": true,
        "id": "N9GgCItGMl0u"
      },
      "source": [
        "# Img size\n",
        "size = 128\n",
        "height_img = size\n",
        "width_img = size\n",
        "\n",
        "input_shape = (height_img, width_img, 3)"
      ],
      "execution_count": null,
      "outputs": []
    },
    {
      "cell_type": "markdown",
      "metadata": {
        "id": "yYrLvS3iMl0y"
      },
      "source": [
        "# Load pretrained VGG16 & Feature evaluation"
      ]
    },
    {
      "cell_type": "code",
      "metadata": {
        "colab": {
          "base_uri": "https://localhost:8080/"
        },
        "id": "4z587NS5Ml00",
        "outputId": "29908c5e-b50b-4eb1-e33d-cbb4f0c787f0"
      },
      "source": [
        "params_vgg16 = {'weights': \"imagenet\", \n",
        "                'include_top': False, \n",
        "                'input_shape': input_shape, \n",
        "                'pooling': None}\n",
        "\n",
        "# Design model\n",
        "base_model = VGG16(**params_vgg16)\n",
        "base_model.summary()"
      ],
      "execution_count": null,
      "outputs": [
        {
          "output_type": "stream",
          "text": [
            "Model: \"vgg16\"\n",
            "_________________________________________________________________\n",
            "Layer (type)                 Output Shape              Param #   \n",
            "=================================================================\n",
            "input_1 (InputLayer)         [(None, 128, 128, 3)]     0         \n",
            "_________________________________________________________________\n",
            "block1_conv1 (Conv2D)        (None, 128, 128, 64)      1792      \n",
            "_________________________________________________________________\n",
            "block1_conv2 (Conv2D)        (None, 128, 128, 64)      36928     \n",
            "_________________________________________________________________\n",
            "block1_pool (MaxPooling2D)   (None, 64, 64, 64)        0         \n",
            "_________________________________________________________________\n",
            "block2_conv1 (Conv2D)        (None, 64, 64, 128)       73856     \n",
            "_________________________________________________________________\n",
            "block2_conv2 (Conv2D)        (None, 64, 64, 128)       147584    \n",
            "_________________________________________________________________\n",
            "block2_pool (MaxPooling2D)   (None, 32, 32, 128)       0         \n",
            "_________________________________________________________________\n",
            "block3_conv1 (Conv2D)        (None, 32, 32, 256)       295168    \n",
            "_________________________________________________________________\n",
            "block3_conv2 (Conv2D)        (None, 32, 32, 256)       590080    \n",
            "_________________________________________________________________\n",
            "block3_conv3 (Conv2D)        (None, 32, 32, 256)       590080    \n",
            "_________________________________________________________________\n",
            "block3_pool (MaxPooling2D)   (None, 16, 16, 256)       0         \n",
            "_________________________________________________________________\n",
            "block4_conv1 (Conv2D)        (None, 16, 16, 512)       1180160   \n",
            "_________________________________________________________________\n",
            "block4_conv2 (Conv2D)        (None, 16, 16, 512)       2359808   \n",
            "_________________________________________________________________\n",
            "block4_conv3 (Conv2D)        (None, 16, 16, 512)       2359808   \n",
            "_________________________________________________________________\n",
            "block4_pool (MaxPooling2D)   (None, 8, 8, 512)         0         \n",
            "_________________________________________________________________\n",
            "block5_conv1 (Conv2D)        (None, 8, 8, 512)         2359808   \n",
            "_________________________________________________________________\n",
            "block5_conv2 (Conv2D)        (None, 8, 8, 512)         2359808   \n",
            "_________________________________________________________________\n",
            "block5_conv3 (Conv2D)        (None, 8, 8, 512)         2359808   \n",
            "_________________________________________________________________\n",
            "block5_pool (MaxPooling2D)   (None, 4, 4, 512)         0         \n",
            "=================================================================\n",
            "Total params: 14,714,688\n",
            "Trainable params: 14,714,688\n",
            "Non-trainable params: 0\n",
            "_________________________________________________________________\n"
          ],
          "name": "stdout"
        }
      ]
    },
    {
      "cell_type": "code",
      "metadata": {
        "collapsed": true,
        "id": "XcdE2JU5Ml04"
      },
      "source": [
        "feat_dim = 2 * 2 * 512"
      ],
      "execution_count": null,
      "outputs": []
    },
    {
      "cell_type": "markdown",
      "metadata": {
        "id": "75j95YbIMl09"
      },
      "source": [
        "# Build SimCLR-Model"
      ]
    },
    {
      "cell_type": "code",
      "metadata": {
        "id": "pNq93i59Ml0-",
        "outputId": "91b9aa6c-9257-4b0c-82d6-f18dafc50c53"
      },
      "source": [
        "from DataGeneratorSimCLR import DataGeneratorSimCLR as DataGenerator\n",
        "from SimCLR import SimCLR"
      ],
      "execution_count": null,
      "outputs": [
        {
          "output_type": "stream",
          "text": [
            "Using TensorFlow backend.\n"
          ],
          "name": "stderr"
        }
      ]
    },
    {
      "cell_type": "markdown",
      "metadata": {
        "id": "b0_nz95NMl1D"
      },
      "source": [
        "### Properties"
      ]
    },
    {
      "cell_type": "code",
      "metadata": {
        "collapsed": true,
        "id": "EqkkdfRPMl1E"
      },
      "source": [
        "batch_size = 16\n",
        "# Projection_head\n",
        "num_layers_ph = 2\n",
        "feat_dims_ph = [2048, 128]\n",
        "num_of_unfrozen_layers = 4\n",
        "save_path = '/scratch/users/rvignav/models/dr'"
      ],
      "execution_count": null,
      "outputs": []
    },
    {
      "cell_type": "code",
      "metadata": {
        "collapsed": true,
        "id": "X1dGZztKMl1K"
      },
      "source": [
        "SimCLR = SimCLR(\n",
        "        base_model = base_model,\n",
        "        input_shape = input_shape,\n",
        "        batch_size = batch_size,\n",
        "        feat_dim = feat_dim,\n",
        "        feat_dims_ph = feat_dims_ph,\n",
        "        num_of_unfrozen_layers = num_of_unfrozen_layers,\n",
        "        save_path = save_path\n",
        "    )"
      ],
      "execution_count": null,
      "outputs": []
    },
    {
      "cell_type": "code",
      "metadata": {
        "collapsed": true,
        "id": "bvdVxJTiMl1W"
      },
      "source": [
        "params_generator = {'batch_size': batch_size,\n",
        "                    'shuffle' : True,\n",
        "                    'width':width_img,\n",
        "                    'height': height_img,\n",
        "                    'VGG': True\n",
        "                   }\n",
        "\n",
        "# Generators\n",
        "data_train = DataGenerator(df_train.reset_index(drop=True), **params_generator)\n",
        "data_val = DataGenerator(df_val.reset_index(drop=True), subset = \"val\", **params_generator) #val keeps the unity values on the same random places ~42\n",
        "data_test = DataGenerator(df_test.reset_index(drop=True), subset = \"test\", **params_generator) #test keeps the unity values on the diagonal"
      ],
      "execution_count": null,
      "outputs": []
    },
    {
      "cell_type": "code",
      "metadata": {
        "colab": {
          "background_save": true
        },
        "collapsed": true,
        "id": "-ipobvp7Ml1a"
      },
      "source": [
        "y_predict_test_before = SimCLR.predict(data_test)"
      ],
      "execution_count": null,
      "outputs": []
    },
    {
      "cell_type": "markdown",
      "metadata": {
        "id": "pssY8CS6Ml1g"
      },
      "source": [
        "## Training SimCLR"
      ]
    },
    {
      "cell_type": "code",
      "metadata": {
        "colab": {
          "base_uri": "https://localhost:8080/",
          "height": 439
        },
        "id": "JLMsqpJcMl1h",
        "outputId": "4df6a650-cdfd-4f02-bd88-978690701b1c"
      },
      "source": [
        "SimCLR.unfreeze_and_train(data_train, \n",
        "                          data_val, \n",
        "                          num_of_unfrozen_layers = 4, \n",
        "                          r = 4, \n",
        "                          lr = 1e-6,\n",
        "                          epochs = 5)"
      ],
      "execution_count": null,
      "outputs": [
        {
          "output_type": "stream",
          "text": [
            "trainable parameters: 24.12 M.\n",
            "non-trainable parameters: 7.64 M.\n",
            "Train for 1537 steps, validate for 330 steps\n",
            "Epoch 1/5\n",
            "1536/1537 [============================>.] - ETA: 3s - loss: 993.3493\n",
            "Epoch 00001: val_loss improved from inf to 934.88759, saving model to /scratch/users/rvignav/models/dr/SimCLR/SimCLR_07_14_01h_21.h5\n",
            "1537/1537 [==============================] - 6969s 5s/step - loss: 993.3114 - val_loss: 934.8876\n",
            "Epoch 2/5\n",
            "1536/1537 [============================>.] - ETA: 3s - loss: 878.7364\n",
            "Epoch 00002: val_loss improved from 934.88759 to 823.52380, saving model to /scratch/users/rvignav/models/dr/SimCLR/SimCLR_07_14_01h_21.h5\n",
            "1537/1537 [==============================] - 6881s 4s/step - loss: 878.7006 - val_loss: 823.5238\n",
            "Epoch 3/5\n",
            "1536/1537 [============================>.] - ETA: 3s - loss: 770.8118\n",
            "Epoch 00003: val_loss improved from 823.52380 to 719.20680, saving model to /scratch/users/rvignav/models/dr/SimCLR/SimCLR_07_14_01h_21.h5\n",
            "1537/1537 [==============================] - 6992s 5s/step - loss: 770.7783 - val_loss: 719.2068\n",
            "Epoch 4/5\n",
            "1536/1537 [============================>.] - ETA: 3s - loss: 670.2253\n",
            "Epoch 00004: val_loss improved from 719.20680 to 622.37751, saving model to /scratch/users/rvignav/models/dr/SimCLR/SimCLR_07_14_01h_21.h5\n",
            "1537/1537 [==============================] - 7104s 5s/step - loss: 670.1942 - val_loss: 622.3775\n",
            "Epoch 5/5\n",
            "1536/1537 [============================>.] - ETA: 3s - loss: 577.1874\n",
            "Epoch 00005: val_loss improved from 622.37751 to 533.14481, saving model to /scratch/users/rvignav/models/dr/SimCLR/SimCLR_07_14_01h_21.h5\n",
            "1537/1537 [==============================] - 7254s 5s/step - loss: 577.1588 - val_loss: 533.1448\n",
            "trainable parameters: 24.12 M.\n",
            "non-trainable parameters: 7.64 M.\n"
          ],
          "name": "stdout"
        }
      ]
    },
    {
      "cell_type": "code",
      "metadata": {
        "collapsed": true,
        "id": "YfWiM4gfMl1n"
      },
      "source": [
        "y_predict_test_after = SimCLR.predict(data_test)"
      ],
      "execution_count": null,
      "outputs": []
    },
    {
      "cell_type": "markdown",
      "metadata": {
        "id": "MITBpHs6Ml1r"
      },
      "source": [
        "## SimCLR-output check"
      ]
    },
    {
      "cell_type": "code",
      "metadata": {
        "collapsed": true,
        "id": "M92VNCQHMl1s"
      },
      "source": [
        "# print(f\"Random guess accuracy: {round(1/(2*batch_size),4)}\")\n",
        "# print(f\"accuracy - test - before: {np.round(np.sum(data_test[0][1] * y_predict_test_before[:batch_size])/(2*batch_size),2)}\")\n",
        "# print(f\"accuracy - test - after: {np.round(np.sum(data_test[0][1] * y_predict_test_after[:batch_size])/(2*batch_size),2)}\")"
      ],
      "execution_count": null,
      "outputs": []
    },
    {
      "cell_type": "code",
      "metadata": {
        "collapsed": true,
        "id": "K7NxSEoyMl1w"
      },
      "source": [
        "# print(\"y_predict_test_before\")\n",
        "# for i in range(min(batch_size, 15)):\n",
        "#     print(np.round(y_predict_test_before[i][i],2), end=\" | \")\n",
        "# print(\"\\n\")    \n",
        "# print(\"y_predict_test_after\")\n",
        "# for i in range(min(batch_size, 15)):\n",
        "#     print(np.round(y_predict_test_after[i][i],2), end=\" | \")\n",
        "# print(\"\\n\") \n",
        "# print(\"y_predict_test_after - Second diagonal\")\n",
        "# for i in range(min(batch_size, 15)):\n",
        "#     print(np.round(y_predict_test_after[i + 2 * batch_size][i],2), end=\" | \")\n",
        "# print(\"\\n\")"
      ],
      "execution_count": null,
      "outputs": []
    },
    {
      "cell_type": "markdown",
      "metadata": {
        "id": "IMdwX9kXMl3R"
      },
      "source": [
        "## Feature Evaluation"
      ]
    },
    {
      "cell_type": "markdown",
      "metadata": {
        "id": "pO4paMl9Ml3R"
      },
      "source": [
        "### Logistic Regression"
      ]
    },
    {
      "cell_type": "code",
      "metadata": {
        "collapsed": true,
        "id": "P-IHH1xVMl3S"
      },
      "source": [
        "base_model = SimCLR.base_model"
      ],
      "execution_count": null,
      "outputs": []
    },
    {
      "cell_type": "code",
      "metadata": {
        "colab": {
          "base_uri": "https://localhost:8080/",
          "height": 35
        },
        "id": "cnECT4QJMl3T",
        "outputId": "f24df18b-daaa-4ded-9d6e-c9262adf4b0e"
      },
      "source": [
        "features_train, y_train, feats = get_features(base_model, df_train, class_labels)\n",
        "tSNE_vis(df_train, features_train, class_labels)"
      ],
      "execution_count": null,
      "outputs": [
        {
          "output_type": "error",
          "ename": "TypeError",
          "evalue": "legend() missing 1 required positional argument: 'handles'",
          "traceback": [
            "\u001b[0;31m---------------------------------------------------------------------------\u001b[0m",
            "\u001b[0;31mTypeError\u001b[0m                                 Traceback (most recent call last)",
            "\u001b[0;32m<ipython-input-19-ff1e04be38bd>\u001b[0m in \u001b[0;36m<module>\u001b[0;34m()\u001b[0m\n\u001b[1;32m      1\u001b[0m \u001b[0mfeatures_train\u001b[0m\u001b[0;34m,\u001b[0m \u001b[0my_train\u001b[0m\u001b[0;34m,\u001b[0m \u001b[0mfeats\u001b[0m \u001b[0;34m=\u001b[0m \u001b[0mget_features\u001b[0m\u001b[0;34m(\u001b[0m\u001b[0mbase_model\u001b[0m\u001b[0;34m,\u001b[0m \u001b[0mdf_train\u001b[0m\u001b[0;34m,\u001b[0m \u001b[0mclass_labels\u001b[0m\u001b[0;34m)\u001b[0m\u001b[0;34m\u001b[0m\u001b[0m\n\u001b[0;32m----> 2\u001b[0;31m \u001b[0mtSNE_vis\u001b[0m\u001b[0;34m(\u001b[0m\u001b[0mdf_train\u001b[0m\u001b[0;34m,\u001b[0m \u001b[0mfeatures_train\u001b[0m\u001b[0;34m,\u001b[0m \u001b[0mclass_labels\u001b[0m\u001b[0;34m)\u001b[0m\u001b[0;34m\u001b[0m\u001b[0m\n\u001b[0m",
            "\u001b[0;32m/scratch/users/rvignav/SimCLR/evaluate_features.py\u001b[0m in \u001b[0;36mtSNE_vis\u001b[0;34m(df, features, class_labels, save_tag, save_figure, feats_in_plot)\u001b[0m\n\u001b[1;32m    176\u001b[0m         \u001b[0mloc\u001b[0m\u001b[0;34m=\u001b[0m\u001b[0;34m\"lower left\"\u001b[0m\u001b[0;34m,\u001b[0m\u001b[0;34m\u001b[0m\u001b[0m\n\u001b[1;32m    177\u001b[0m         \u001b[0mncol\u001b[0m\u001b[0;34m=\u001b[0m\u001b[0;36m1\u001b[0m\u001b[0;34m,\u001b[0m\u001b[0;34m\u001b[0m\u001b[0m\n\u001b[0;32m--> 178\u001b[0;31m         \u001b[0mlabels\u001b[0m\u001b[0;34m=\u001b[0m\u001b[0mclass_labels\u001b[0m\u001b[0;34m,\u001b[0m\u001b[0;34m\u001b[0m\u001b[0m\n\u001b[0m\u001b[1;32m    179\u001b[0m     )\n\u001b[1;32m    180\u001b[0m     \u001b[0;32mif\u001b[0m \u001b[0msave_figure\u001b[0m\u001b[0;34m:\u001b[0m\u001b[0;34m\u001b[0m\u001b[0m\n",
            "\u001b[0;31mTypeError\u001b[0m: legend() missing 1 required positional argument: 'handles'"
          ]
        }
      ]
    },
    {
      "cell_type": "markdown",
      "metadata": {
        "id": "XlVebWE7Ml3Z"
      },
      "source": [
        "### Fine tuned model"
      ]
    },
    {
      "cell_type": "code",
      "metadata": {
        "collapsed": true,
        "id": "vhnYkrhZMl3a"
      },
      "source": [
        "batch_size_classifier = 32\n",
        "params_generator_classifier = {'max_width':width_img,\n",
        "                            'max_height': height_img,\n",
        "                            'num_classes': num_classes,\n",
        "                            'VGG': True\n",
        "                            }\n",
        "params_training_classifier = {'1.0':{\n",
        "                                \"reg_dense\" : 0.005,\n",
        "                                \"reg_out\" : 0.005,\n",
        "                                \"nums_of_unfrozen_layers\" : [5, 5, 6, 7],\n",
        "                                \"lrs\" : [1e-3, 1e-4, 5e-5, 5e-5],\n",
        "                                \"epochs\" : [5, 5, 15, 10]\n",
        "                                },\n",
        "                              '0.2':{\n",
        "                                \"reg_dense\" : 0.075,\n",
        "                                \"reg_out\" : 0.01,\n",
        "                                \"nums_of_unfrozen_layers\" : [5, 5, 6, 7],\n",
        "                                \"lrs\" : [1e-3, 1e-4, 5e-5, 5e-5],\n",
        "                                \"epochs\" : [5, 5, 20, 15]\n",
        "                              },\n",
        "                              '0.05':{\n",
        "                                \"reg_dense\" : 0.01,\n",
        "                                \"reg_out\" : 0.02,\n",
        "                                \"nums_of_unfrozen_layers\" : [5, 5, 6, 7],\n",
        "                                \"lrs\" : [1e-3, 1e-4, 5e-5, 1e-5],\n",
        "                                \"epochs\" : [5, 5, 20, 15]\n",
        "                              }                              \n",
        "                            }"
      ],
      "execution_count": null,
      "outputs": []
    },
    {
      "cell_type": "code",
      "metadata": {
        "collapsed": true,
        "id": "QtoW3bL4Ml3g"
      },
      "source": [
        "for fraction in fractions:    \n",
        "    print(f\"    ==== {fraction * 100}% of the training data used ==== \\n\")\n",
        "    SimCLR.train_NL_and_evaluate(dfs = dfs,\n",
        "                                batch_size = batch_size_classifier,\n",
        "                                params_generator = params_generator_classifier,\n",
        "                                fraction = fraction,\n",
        "                                class_labels = class_labels,\n",
        "                                reg_dense = params_training_classifier[str(fraction)][\"reg_dense\"],\n",
        "                                reg_out = params_training_classifier[str(fraction)][\"reg_out\"],\n",
        "                                nums_of_unfrozen_layers = params_training_classifier[str(fraction)][\"nums_of_unfrozen_layers\"],\n",
        "                                lrs = params_training_classifier[str(fraction)][\"lrs\"],\n",
        "                                epochs = params_training_classifier[str(fraction)][\"epochs\"],\n",
        "                                verbose_epoch = 0,\n",
        "                                verbose_cycle = 0\n",
        "                                )"
      ],
      "execution_count": null,
      "outputs": []
    },
    {
      "cell_type": "code",
      "metadata": {
        "collapsed": true,
        "id": "PAyCxLZXMl3j"
      },
      "source": [
        "features_test, y_test, feats = get_features(base_model, df_test, class_labels)\n",
        "np.count_nonzero(features_train[0])"
      ],
      "execution_count": null,
      "outputs": []
    },
    {
      "cell_type": "code",
      "metadata": {
        "collapsed": true,
        "id": "_WuNN1CE6Vo_"
      },
      "source": [
        "# Training logistic regression classifier on 3 fractions of the data\n",
        "# Optimal regularization is determined from a 5-fold cross-validation\n",
        "fractions = [1.0, 0.2, 0.05]\n",
        "for fraction in fractions:\n",
        "    print(f\"    ==== {fraction * 100}% of the training data used ==== \\n\")\n",
        "    linear_classifier(features_train, y_train, features_test, y_test, class_labels, fraction = fraction)"
      ],
      "execution_count": null,
      "outputs": []
    }
  ]
}