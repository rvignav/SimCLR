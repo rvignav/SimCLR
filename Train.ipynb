{
  "nbformat": 4,
  "nbformat_minor": 0,
  "metadata": {
    "accelerator": "GPU",
    "colab": {
      "name": "Train.ipynb",
      "provenance": [],
      "collapsed_sections": [],
      "include_colab_link": true
    },
    "kernelspec": {
      "display_name": "Python 3",
      "language": "python",
      "name": "python3"
    },
    "language_info": {
      "codemirror_mode": {
        "name": "ipython",
        "version": 3
      },
      "file_extension": ".py",
      "mimetype": "text/x-python",
      "name": "python",
      "nbconvert_exporter": "python",
      "pygments_lexer": "ipython3",
      "version": "3.6.1"
    }
  },
  "cells": [
    {
      "cell_type": "markdown",
      "metadata": {
        "id": "view-in-github",
        "colab_type": "text"
      },
      "source": [
        "<a href=\"https://colab.research.google.com/github/rvignav/SimCLR/blob/main/Train.ipynb\" target=\"_parent\"><img src=\"https://colab.research.google.com/assets/colab-badge.svg\" alt=\"Open In Colab\"/></a>"
      ]
    },
    {
      "cell_type": "code",
      "metadata": {
        "id": "hsi65mRTMl0G",
        "outputId": "dd43777c-b3fb-4762-863d-f605c68871eb"
      },
      "source": [
        "%cd /scratch/users/rvignav/SimCLR\n",
        "!pip install -r requirements.txt"
      ],
      "execution_count": null,
      "outputs": [
        {
          "name": "stdout",
          "output_type": "stream",
          "text": [
            "/scratch/users/rvignav/SimCLR\n",
            "Defaulting to user installation because normal site-packages is not writeable\n",
            "Requirement already satisfied: jupyterlab==2.0.1 in /home/users/rvignav/.local/lib/python3.6/site-packages (from -r requirements.txt (line 1)) (2.0.1)\n",
            "Requirement already satisfied: Keras==2.3.1 in /share/software/user/open/py-keras/2.3.1_py36/lib/python3.6/site-packages (from -r requirements.txt (line 2)) (2.3.1)\n",
            "Requirement already satisfied: tensorflow==2.1 in /share/software/user/open/py-tensorflow/2.1.0_py36/lib/python3.6/site-packages (from -r requirements.txt (line 3)) (2.1.0)\n",
            "Requirement already satisfied: opencv-python==4.2.0.32 in /home/users/rvignav/.local/lib/python3.6/site-packages (from -r requirements.txt (line 4)) (4.2.0.32)\n",
            "Requirement already satisfied: scikit-learn==0.23.1 in /home/users/rvignav/.local/lib/python3.6/site-packages (from -r requirements.txt (line 5)) (0.23.1)\n",
            "Requirement already satisfied: scipy==1.4.1 in /share/software/user/open/py-scipy/1.4.1_py36/lib/python3.6/site-packages (from -r requirements.txt (line 6)) (1.4.1)\n",
            "Requirement already satisfied: numpy==1.18.1 in /share/software/user/open/py-numpy/1.18.1_py36/lib/python3.6/site-packages (from -r requirements.txt (line 7)) (1.18.1)\n",
            "Requirement already satisfied: DateTime==4.3 in /home/users/rvignav/.local/lib/python3.6/site-packages (from -r requirements.txt (line 8)) (4.3)\n",
            "Requirement already satisfied: pandas==0.22.0 in /home/users/rvignav/.local/lib/python3.6/site-packages (from -r requirements.txt (line 9)) (0.22.0)\n",
            "Requirement already satisfied: notebook>=4.3.1 in /share/software/user/open/py-jupyter/1.0.0_py36/lib/python3.6/site-packages (from jupyterlab==2.0.1->-r requirements.txt (line 1)) (5.0.0)\n",
            "Requirement already satisfied: tornado!=6.0.0,!=6.0.1,!=6.0.2 in /share/software/user/open/py-jupyter/1.0.0_py36/lib/python3.6/site-packages (from jupyterlab==2.0.1->-r requirements.txt (line 1)) (4.5.1)\n",
            "Collecting jinja2>=2.10\n",
            "  Using cached Jinja2-3.0.1-py3-none-any.whl (133 kB)\n",
            "Requirement already satisfied: jupyterlab-server~=1.0.0 in /home/users/rvignav/.local/lib/python3.6/site-packages (from jupyterlab==2.0.1->-r requirements.txt (line 1)) (1.0.9)\n",
            "Requirement already satisfied: pyyaml in /share/software/user/open/py-keras/2.3.1_py36/lib/python3.6/site-packages (from Keras==2.3.1->-r requirements.txt (line 2)) (5.3)\n",
            "Requirement already satisfied: keras-preprocessing>=1.0.5 in /share/software/user/open/py-keras/2.3.1_py36/lib/python3.6/site-packages (from Keras==2.3.1->-r requirements.txt (line 2)) (1.1.0)\n",
            "Requirement already satisfied: h5py in /share/software/user/open/py-h5py/2.10.0_py36/lib/python3.6/site-packages (from Keras==2.3.1->-r requirements.txt (line 2)) (2.10.0)\n",
            "Requirement already satisfied: six>=1.9.0 in /share/software/user/open/py-h5py/2.10.0_py36/lib/python3.6/site-packages (from Keras==2.3.1->-r requirements.txt (line 2)) (1.14.0)\n",
            "Requirement already satisfied: keras-applications>=1.0.6 in /share/software/user/open/py-keras/2.3.1_py36/lib/python3.6/site-packages (from Keras==2.3.1->-r requirements.txt (line 2)) (1.0.8)\n",
            "Requirement already satisfied: google-pasta>=0.1.6 in /share/software/user/open/py-tensorflow/2.1.0_py36/lib/python3.6/site-packages (from tensorflow==2.1->-r requirements.txt (line 3)) (0.2.0)\n",
            "Requirement already satisfied: termcolor>=1.1.0 in /share/software/user/open/py-tensorflow/2.1.0_py36/lib/python3.6/site-packages (from tensorflow==2.1->-r requirements.txt (line 3)) (1.1.0)\n",
            "Requirement already satisfied: wrapt>=1.11.1 in /share/software/user/open/py-tensorflow/2.1.0_py36/lib/python3.6/site-packages (from tensorflow==2.1->-r requirements.txt (line 3)) (1.12.1)\n",
            "Requirement already satisfied: tensorflow-estimator<2.2.0,>=2.1.0rc0 in /share/software/user/open/py-tensorflow/2.1.0_py36/lib/python3.6/site-packages (from tensorflow==2.1->-r requirements.txt (line 3)) (2.1.0)\n",
            "Requirement already satisfied: tensorboard<2.2.0,>=2.1.0 in /share/software/user/open/py-tensorflow/2.1.0_py36/lib/python3.6/site-packages (from tensorflow==2.1->-r requirements.txt (line 3)) (2.1.1)\n",
            "Requirement already satisfied: astor>=0.6.0 in /share/software/user/open/py-tensorflow/2.1.0_py36/lib/python3.6/site-packages (from tensorflow==2.1->-r requirements.txt (line 3)) (0.8.1)\n",
            "Requirement already satisfied: absl-py>=0.7.0 in /share/software/user/open/py-tensorflow/2.1.0_py36/lib/python3.6/site-packages (from tensorflow==2.1->-r requirements.txt (line 3)) (0.9.0)\n",
            "Requirement already satisfied: wheel>=0.26 in /share/software/user/open/python/3.6.1/lib/python3.6/site-packages (from tensorflow==2.1->-r requirements.txt (line 3)) (0.32.3)\n",
            "Requirement already satisfied: opt-einsum>=2.3.2 in /share/software/user/open/py-tensorflow/2.1.0_py36/lib/python3.6/site-packages (from tensorflow==2.1->-r requirements.txt (line 3)) (3.2.0)\n",
            "Requirement already satisfied: grpcio>=1.8.6 in /share/software/user/open/py-tensorflow/2.1.0_py36/lib/python3.6/site-packages (from tensorflow==2.1->-r requirements.txt (line 3)) (1.27.2)\n",
            "Requirement already satisfied: gast==0.2.2 in /share/software/user/open/py-tensorflow/2.1.0_py36/lib/python3.6/site-packages (from tensorflow==2.1->-r requirements.txt (line 3)) (0.2.2)\n",
            "Requirement already satisfied: protobuf>=3.8.0 in /share/software/user/open/py-tensorflow/2.1.0_py36/lib/python3.6/site-packages (from tensorflow==2.1->-r requirements.txt (line 3)) (3.11.3)\n",
            "Requirement already satisfied: joblib>=0.11 in /home/users/rvignav/.local/lib/python3.6/site-packages (from scikit-learn==0.23.1->-r requirements.txt (line 5)) (1.0.0)\n",
            "Requirement already satisfied: threadpoolctl>=2.0.0 in /home/users/rvignav/.local/lib/python3.6/site-packages (from scikit-learn==0.23.1->-r requirements.txt (line 5)) (2.1.0)\n",
            "Requirement already satisfied: pytz in /home/users/rvignav/.local/lib/python3.6/site-packages (from DateTime==4.3->-r requirements.txt (line 8)) (2020.5)\n",
            "Requirement already satisfied: zope.interface in /home/users/rvignav/.local/lib/python3.6/site-packages (from DateTime==4.3->-r requirements.txt (line 8)) (5.4.0)\n",
            "Requirement already satisfied: python-dateutil>=2 in /share/software/user/open/py-jupyter/1.0.0_py36/lib/python3.6/site-packages (from pandas==0.22.0->-r requirements.txt (line 9)) (2.6.1)\n",
            "Collecting MarkupSafe>=2.0\n",
            "  Using cached MarkupSafe-2.0.1-cp36-cp36m-manylinux_2_5_x86_64.manylinux1_x86_64.manylinux_2_12_x86_64.manylinux2010_x86_64.whl (30 kB)\n",
            "Requirement already satisfied: json5 in /home/users/rvignav/.local/lib/python3.6/site-packages (from jupyterlab-server~=1.0.0->jupyterlab==2.0.1->-r requirements.txt (line 1)) (0.9.6)\n",
            "Collecting jsonschema>=3.0.1\n",
            "  Using cached jsonschema-3.2.0-py2.py3-none-any.whl (56 kB)\n",
            "Requirement already satisfied: setuptools in /share/software/user/open/py-tensorflow/2.1.0_py36/lib/python3.6/site-packages (from jsonschema>=3.0.1->jupyterlab-server~=1.0.0->jupyterlab==2.0.1->-r requirements.txt (line 1)) (46.0.0)\n",
            "Requirement already satisfied: attrs>=17.4.0 in /home/users/rvignav/.local/lib/python3.6/site-packages (from jsonschema>=3.0.1->jupyterlab-server~=1.0.0->jupyterlab==2.0.1->-r requirements.txt (line 1)) (21.2.0)\n",
            "Requirement already satisfied: importlib-metadata in /home/users/rvignav/.local/lib/python3.6/site-packages (from jsonschema>=3.0.1->jupyterlab-server~=1.0.0->jupyterlab==2.0.1->-r requirements.txt (line 1)) (3.10.0)\n",
            "Requirement already satisfied: pyrsistent>=0.14.0 in /home/users/rvignav/.local/lib/python3.6/site-packages (from jsonschema>=3.0.1->jupyterlab-server~=1.0.0->jupyterlab==2.0.1->-r requirements.txt (line 1)) (0.18.0)\n",
            "Requirement already satisfied: ipykernel in /share/software/user/open/py-jupyter/1.0.0_py36/lib/python3.6/site-packages (from notebook>=4.3.1->jupyterlab==2.0.1->-r requirements.txt (line 1)) (4.6.1)\n",
            "Requirement already satisfied: traitlets>=4.2.1 in /share/software/user/open/py-jupyter/1.0.0_py36/lib/python3.6/site-packages (from notebook>=4.3.1->jupyterlab==2.0.1->-r requirements.txt (line 1)) (4.3.2)\n",
            "Requirement already satisfied: ipython-genutils in /share/software/user/open/py-jupyter/1.0.0_py36/lib/python3.6/site-packages (from notebook>=4.3.1->jupyterlab==2.0.1->-r requirements.txt (line 1)) (0.2.0)\n",
            "Requirement already satisfied: terminado>=0.3.3 in /share/software/user/open/py-jupyter/1.0.0_py36/lib/python3.6/site-packages (from notebook>=4.3.1->jupyterlab==2.0.1->-r requirements.txt (line 1)) (0.6)\n",
            "Requirement already satisfied: nbformat in /share/software/user/open/py-jupyter/1.0.0_py36/lib/python3.6/site-packages (from notebook>=4.3.1->jupyterlab==2.0.1->-r requirements.txt (line 1)) (4.3.0)\n",
            "Requirement already satisfied: jupyter-core in /share/software/user/open/py-jupyter/1.0.0_py36/lib/python3.6/site-packages (from notebook>=4.3.1->jupyterlab==2.0.1->-r requirements.txt (line 1)) (4.3.0)\n",
            "Requirement already satisfied: jupyter-client in /share/software/user/open/py-jupyter/1.0.0_py36/lib/python3.6/site-packages (from notebook>=4.3.1->jupyterlab==2.0.1->-r requirements.txt (line 1)) (5.1.0)\n",
            "Requirement already satisfied: nbconvert in /share/software/user/open/py-jupyter/1.0.0_py36/lib/python3.6/site-packages (from notebook>=4.3.1->jupyterlab==2.0.1->-r requirements.txt (line 1)) (5.2.1)\n"
          ]
        },
        {
          "name": "stdout",
          "output_type": "stream",
          "text": [
            "Requirement already satisfied: requests<3,>=2.21.0 in /share/software/user/open/py-tensorflow/2.1.0_py36/lib/python3.6/site-packages (from tensorboard<2.2.0,>=2.1.0->tensorflow==2.1->-r requirements.txt (line 3)) (2.23.0)\n",
            "Requirement already satisfied: markdown>=2.6.8 in /share/software/user/open/py-tensorflow/2.1.0_py36/lib/python3.6/site-packages (from tensorboard<2.2.0,>=2.1.0->tensorflow==2.1->-r requirements.txt (line 3)) (3.2.1)\n",
            "Requirement already satisfied: google-auth<2,>=1.6.3 in /share/software/user/open/py-tensorflow/2.1.0_py36/lib/python3.6/site-packages (from tensorboard<2.2.0,>=2.1.0->tensorflow==2.1->-r requirements.txt (line 3)) (1.11.3)\n",
            "Requirement already satisfied: werkzeug>=0.11.15 in /share/software/user/open/py-tensorflow/2.1.0_py36/lib/python3.6/site-packages (from tensorboard<2.2.0,>=2.1.0->tensorflow==2.1->-r requirements.txt (line 3)) (1.0.0)\n",
            "Requirement already satisfied: google-auth-oauthlib<0.5,>=0.4.1 in /share/software/user/open/py-tensorflow/2.1.0_py36/lib/python3.6/site-packages (from tensorboard<2.2.0,>=2.1.0->tensorflow==2.1->-r requirements.txt (line 3)) (0.4.1)\n",
            "Requirement already satisfied: pyasn1-modules>=0.2.1 in /share/software/user/open/py-tensorflow/2.1.0_py36/lib/python3.6/site-packages (from google-auth<2,>=1.6.3->tensorboard<2.2.0,>=2.1.0->tensorflow==2.1->-r requirements.txt (line 3)) (0.2.8)\n",
            "Requirement already satisfied: cachetools<5.0,>=2.0.0 in /share/software/user/open/py-tensorflow/2.1.0_py36/lib/python3.6/site-packages (from google-auth<2,>=1.6.3->tensorboard<2.2.0,>=2.1.0->tensorflow==2.1->-r requirements.txt (line 3)) (4.0.0)\n",
            "Requirement already satisfied: rsa<4.1,>=3.1.4 in /share/software/user/open/py-tensorflow/2.1.0_py36/lib/python3.6/site-packages (from google-auth<2,>=1.6.3->tensorboard<2.2.0,>=2.1.0->tensorflow==2.1->-r requirements.txt (line 3)) (4.0)\n",
            "Requirement already satisfied: requests-oauthlib>=0.7.0 in /share/software/user/open/py-tensorflow/2.1.0_py36/lib/python3.6/site-packages (from google-auth-oauthlib<0.5,>=0.4.1->tensorboard<2.2.0,>=2.1.0->tensorflow==2.1->-r requirements.txt (line 3)) (1.3.0)\n",
            "Requirement already satisfied: pyasn1<0.5.0,>=0.4.6 in /share/software/user/open/py-tensorflow/2.1.0_py36/lib/python3.6/site-packages (from pyasn1-modules>=0.2.1->google-auth<2,>=1.6.3->tensorboard<2.2.0,>=2.1.0->tensorflow==2.1->-r requirements.txt (line 3)) (0.4.8)\n",
            "Requirement already satisfied: certifi>=2017.4.17 in /share/software/user/open/py-tensorflow/2.1.0_py36/lib/python3.6/site-packages (from requests<3,>=2.21.0->tensorboard<2.2.0,>=2.1.0->tensorflow==2.1->-r requirements.txt (line 3)) (2019.11.28)\n",
            "Requirement already satisfied: idna<3,>=2.5 in /share/software/user/open/py-tensorflow/2.1.0_py36/lib/python3.6/site-packages (from requests<3,>=2.21.0->tensorboard<2.2.0,>=2.1.0->tensorflow==2.1->-r requirements.txt (line 3)) (2.9)\n",
            "Requirement already satisfied: urllib3!=1.25.0,!=1.25.1,<1.26,>=1.21.1 in /share/software/user/open/py-tensorflow/2.1.0_py36/lib/python3.6/site-packages (from requests<3,>=2.21.0->tensorboard<2.2.0,>=2.1.0->tensorflow==2.1->-r requirements.txt (line 3)) (1.25.8)\n",
            "Requirement already satisfied: chardet<4,>=3.0.2 in /share/software/user/open/py-tensorflow/2.1.0_py36/lib/python3.6/site-packages (from requests<3,>=2.21.0->tensorboard<2.2.0,>=2.1.0->tensorflow==2.1->-r requirements.txt (line 3)) (3.0.4)\n",
            "Requirement already satisfied: oauthlib>=3.0.0 in /share/software/user/open/py-tensorflow/2.1.0_py36/lib/python3.6/site-packages (from requests-oauthlib>=0.7.0->google-auth-oauthlib<0.5,>=0.4.1->tensorboard<2.2.0,>=2.1.0->tensorflow==2.1->-r requirements.txt (line 3)) (3.1.0)\n",
            "Requirement already satisfied: ptyprocess in /share/software/user/open/py-jupyter/1.0.0_py36/lib/python3.6/site-packages (from terminado>=0.3.3->notebook>=4.3.1->jupyterlab==2.0.1->-r requirements.txt (line 1)) (0.5.2)\n",
            "Requirement already satisfied: decorator in /share/software/user/open/py-jupyter/1.0.0_py36/lib/python3.6/site-packages (from traitlets>=4.2.1->notebook>=4.3.1->jupyterlab==2.0.1->-r requirements.txt (line 1)) (4.1.2)\n",
            "Requirement already satisfied: typing-extensions>=3.6.4 in /home/users/rvignav/.local/lib/python3.6/site-packages (from importlib-metadata->jsonschema>=3.0.1->jupyterlab-server~=1.0.0->jupyterlab==2.0.1->-r requirements.txt (line 1)) (3.7.4.3)\n",
            "Requirement already satisfied: zipp>=0.5 in /home/users/rvignav/.local/lib/python3.6/site-packages (from importlib-metadata->jsonschema>=3.0.1->jupyterlab-server~=1.0.0->jupyterlab==2.0.1->-r requirements.txt (line 1)) (3.4.0)\n",
            "Requirement already satisfied: ipython>=4.0.0 in /share/software/user/open/py-jupyter/1.0.0_py36/lib/python3.6/site-packages (from ipykernel->notebook>=4.3.1->jupyterlab==2.0.1->-r requirements.txt (line 1)) (6.1.0)\n",
            "Requirement already satisfied: pygments in /share/software/user/open/py-jupyter/1.0.0_py36/lib/python3.6/site-packages (from ipython>=4.0.0->ipykernel->notebook>=4.3.1->jupyterlab==2.0.1->-r requirements.txt (line 1)) (2.2.0)\n",
            "Requirement already satisfied: jedi>=0.10 in /share/software/user/open/py-jupyter/1.0.0_py36/lib/python3.6/site-packages (from ipython>=4.0.0->ipykernel->notebook>=4.3.1->jupyterlab==2.0.1->-r requirements.txt (line 1)) (0.10.2)\n",
            "Requirement already satisfied: prompt-toolkit<2.0.0,>=1.0.4 in /share/software/user/open/py-jupyter/1.0.0_py36/lib/python3.6/site-packages (from ipython>=4.0.0->ipykernel->notebook>=4.3.1->jupyterlab==2.0.1->-r requirements.txt (line 1)) (1.0.15)\n",
            "Requirement already satisfied: pexpect in /share/software/user/open/py-jupyter/1.0.0_py36/lib/python3.6/site-packages (from ipython>=4.0.0->ipykernel->notebook>=4.3.1->jupyterlab==2.0.1->-r requirements.txt (line 1)) (4.2.1)\n",
            "Requirement already satisfied: pickleshare in /share/software/user/open/py-jupyter/1.0.0_py36/lib/python3.6/site-packages (from ipython>=4.0.0->ipykernel->notebook>=4.3.1->jupyterlab==2.0.1->-r requirements.txt (line 1)) (0.7.4)\n",
            "Requirement already satisfied: simplegeneric>0.8 in /share/software/user/open/py-jupyter/1.0.0_py36/lib/python3.6/site-packages (from ipython>=4.0.0->ipykernel->notebook>=4.3.1->jupyterlab==2.0.1->-r requirements.txt (line 1)) (0.8.1)\n",
            "Requirement already satisfied: wcwidth in /share/software/user/open/py-jupyter/1.0.0_py36/lib/python3.6/site-packages (from prompt-toolkit<2.0.0,>=1.0.4->ipython>=4.0.0->ipykernel->notebook>=4.3.1->jupyterlab==2.0.1->-r requirements.txt (line 1)) (0.1.7)\n",
            "Requirement already satisfied: pyzmq>=13 in /share/software/user/open/py-jupyter/1.0.0_py36/lib/python3.6/site-packages (from jupyter-client->notebook>=4.3.1->jupyterlab==2.0.1->-r requirements.txt (line 1)) (16.0.2)\n",
            "Requirement already satisfied: testpath in /share/software/user/open/py-jupyter/1.0.0_py36/lib/python3.6/site-packages (from nbconvert->notebook>=4.3.1->jupyterlab==2.0.1->-r requirements.txt (line 1)) (0.3.1)\n",
            "Requirement already satisfied: bleach in /share/software/user/open/py-jupyter/1.0.0_py36/lib/python3.6/site-packages (from nbconvert->notebook>=4.3.1->jupyterlab==2.0.1->-r requirements.txt (line 1)) (2.0.0)\n",
            "Requirement already satisfied: entrypoints>=0.2.2 in /share/software/user/open/py-jupyter/1.0.0_py36/lib/python3.6/site-packages (from nbconvert->notebook>=4.3.1->jupyterlab==2.0.1->-r requirements.txt (line 1)) (0.2.3)\n",
            "Requirement already satisfied: pandocfilters>=1.4.1 in /share/software/user/open/py-jupyter/1.0.0_py36/lib/python3.6/site-packages (from nbconvert->notebook>=4.3.1->jupyterlab==2.0.1->-r requirements.txt (line 1)) (1.4.2)\n",
            "Requirement already satisfied: mistune!=0.6 in /share/software/user/open/py-jupyter/1.0.0_py36/lib/python3.6/site-packages (from nbconvert->notebook>=4.3.1->jupyterlab==2.0.1->-r requirements.txt (line 1)) (0.7.4)\n",
            "Requirement already satisfied: html5lib>=0.99999999 in /share/software/user/open/py-jupyter/1.0.0_py36/lib/python3.6/site-packages (from bleach->nbconvert->notebook>=4.3.1->jupyterlab==2.0.1->-r requirements.txt (line 1)) (0.999999999)\n",
            "Requirement already satisfied: webencodings in /share/software/user/open/py-jupyter/1.0.0_py36/lib/python3.6/site-packages (from html5lib>=0.99999999->bleach->nbconvert->notebook>=4.3.1->jupyterlab==2.0.1->-r requirements.txt (line 1)) (0.5.1)\n",
            "Installing collected packages: MarkupSafe, jsonschema, jinja2\n"
          ]
        },
        {
          "name": "stdout",
          "output_type": "stream",
          "text": [
            "Successfully installed MarkupSafe-2.0.1 jinja2-3.0.1 jsonschema-3.2.0\n",
            "\u001b[33mWARNING: You are using pip version 21.2.2; however, version 21.2.4 is available.\n",
            "You should consider upgrading via the '/share/software/user/open/python/3.6.1/bin/python3.6 -m pip install --upgrade pip' command.\u001b[0m\n"
          ]
        }
      ]
    },
    {
      "cell_type": "code",
      "metadata": {
        "collapsed": true,
        "id": "YqzIOfEZMl0R"
      },
      "source": [
        "import numpy as np\n",
        "import pickle\n",
        "import pandas as pd\n",
        "\n",
        "from sklearn.model_selection import train_test_split\n",
        "from tensorflow.keras.applications.vgg16 import VGG16 \n",
        "\n",
        "from evaluate_features import get_features, linear_classifier, tSNE_vis"
      ],
      "execution_count": null,
      "outputs": []
    },
    {
      "cell_type": "markdown",
      "metadata": {
        "id": "HbpMmt6uMl0Z"
      },
      "source": [
        "# Load Dataframe"
      ]
    },
    {
      "cell_type": "code",
      "metadata": {
        "id": "fRGSbHANMl0a",
        "outputId": "a0ae5713-2659-4858-a789-02843f58de2c"
      },
      "source": [
        "import csv\n",
        "class_labels = [\"none\", \"mild\", \"moderate\", \"severe\", \"proliferative\"]\n",
        "\n",
        "csv_file = open('data/trainLabels.csv', mode='r')\n",
        "d = csv.DictReader(csv_file)\n",
        "\n",
        "fname = []\n",
        "label = []\n",
        "one_hot = []\n",
        "\n",
        "for row in d:\n",
        "    fname.append('/scratch/groups/rubin/SimCLR/stylized-input/' + row['image'] + '.jpeg')\n",
        "    l = int(row['level'])\n",
        "    label.append(class_labels[l])\n",
        "    arr = [0, 0, 0, 0, 0]\n",
        "    arr[l] = 1\n",
        "    one_hot.append(arr)\n",
        "\n",
        "df = pd.DataFrame({\"filename\": fname, \"class_label\": label, \"class_one_hot\": one_hot})\n",
        "\n",
        "df.head()"
      ],
      "execution_count": null,
      "outputs": [
        {
          "data": {
            "text/html": [
              "<div>\n",
              "<style scoped>\n",
              "    .dataframe tbody tr th:only-of-type {\n",
              "        vertical-align: middle;\n",
              "    }\n",
              "\n",
              "    .dataframe tbody tr th {\n",
              "        vertical-align: top;\n",
              "    }\n",
              "\n",
              "    .dataframe thead th {\n",
              "        text-align: right;\n",
              "    }\n",
              "</style>\n",
              "<table border=\"1\" class=\"dataframe\">\n",
              "  <thead>\n",
              "    <tr style=\"text-align: right;\">\n",
              "      <th></th>\n",
              "      <th>class_label</th>\n",
              "      <th>class_one_hot</th>\n",
              "      <th>filename</th>\n",
              "    </tr>\n",
              "  </thead>\n",
              "  <tbody>\n",
              "    <tr>\n",
              "      <th>0</th>\n",
              "      <td>none</td>\n",
              "      <td>[1, 0, 0, 0, 0]</td>\n",
              "      <td>/scratch/groups/rubin/SimCLR/stylized-input/10...</td>\n",
              "    </tr>\n",
              "    <tr>\n",
              "      <th>1</th>\n",
              "      <td>none</td>\n",
              "      <td>[1, 0, 0, 0, 0]</td>\n",
              "      <td>/scratch/groups/rubin/SimCLR/stylized-input/10...</td>\n",
              "    </tr>\n",
              "    <tr>\n",
              "      <th>2</th>\n",
              "      <td>none</td>\n",
              "      <td>[1, 0, 0, 0, 0]</td>\n",
              "      <td>/scratch/groups/rubin/SimCLR/stylized-input/13...</td>\n",
              "    </tr>\n",
              "    <tr>\n",
              "      <th>3</th>\n",
              "      <td>none</td>\n",
              "      <td>[1, 0, 0, 0, 0]</td>\n",
              "      <td>/scratch/groups/rubin/SimCLR/stylized-input/13...</td>\n",
              "    </tr>\n",
              "    <tr>\n",
              "      <th>4</th>\n",
              "      <td>mild</td>\n",
              "      <td>[0, 1, 0, 0, 0]</td>\n",
              "      <td>/scratch/groups/rubin/SimCLR/stylized-input/15...</td>\n",
              "    </tr>\n",
              "  </tbody>\n",
              "</table>\n",
              "</div>"
            ],
            "text/plain": [
              "  class_label    class_one_hot  \\\n",
              "0        none  [1, 0, 0, 0, 0]   \n",
              "1        none  [1, 0, 0, 0, 0]   \n",
              "2        none  [1, 0, 0, 0, 0]   \n",
              "3        none  [1, 0, 0, 0, 0]   \n",
              "4        mild  [0, 1, 0, 0, 0]   \n",
              "\n",
              "                                            filename  \n",
              "0  /scratch/groups/rubin/SimCLR/stylized-input/10...  \n",
              "1  /scratch/groups/rubin/SimCLR/stylized-input/10...  \n",
              "2  /scratch/groups/rubin/SimCLR/stylized-input/13...  \n",
              "3  /scratch/groups/rubin/SimCLR/stylized-input/13...  \n",
              "4  /scratch/groups/rubin/SimCLR/stylized-input/15...  "
            ]
          },
          "execution_count": 3,
          "metadata": {},
          "output_type": "execute_result"
        }
      ]
    },
    {
      "cell_type": "code",
      "metadata": {
        "colab": {
          "base_uri": "https://localhost:8080/"
        },
        "id": "c-YZpNjEMl0g",
        "outputId": "902ed152-b99e-414f-f83c-47a2aa8c10cd"
      },
      "source": [
        "num_classes = len(df['class_one_hot'][0])\n",
        "\n",
        "print(\"# of training instances:\", len(df.index), \"\\n\")\n",
        "for label in class_labels:\n",
        "    print(f\"# of '{label}' training instances: {(df.class_label == label).sum()}\")"
      ],
      "execution_count": null,
      "outputs": [
        {
          "name": "stdout",
          "output_type": "stream",
          "text": [
            "# of training instances: 35126 \n",
            "\n",
            "# of 'none' training instances: 25810\n",
            "# of 'mild' training instances: 2443\n",
            "# of 'moderate' training instances: 5292\n",
            "# of 'severe' training instances: 873\n",
            "# of 'proliferative' training instances: 708\n"
          ]
        }
      ]
    },
    {
      "cell_type": "code",
      "metadata": {
        "colab": {
          "base_uri": "https://localhost:8080/"
        },
        "id": "d2qU1NriMl0n",
        "outputId": "cf6afe2a-990a-4fe7-c1d1-d9b429896dbb"
      },
      "source": [
        "df_train, df_val_test = train_test_split(df, test_size=0.30, random_state=42, shuffle=True)\n",
        "df_val, df_test = train_test_split(df_val_test, test_size=0.50, random_state=42, shuffle=True)\n",
        "\n",
        "print(\"# of training instances:\", len(df_train.index), \"\\n\")\n",
        "for label in class_labels:\n",
        "    print(f\"# of '{label}' training instances: {(df_train.class_label == label).sum()}\")\n",
        "    \n",
        "print()\n",
        "print(\"# of validation instances:\", len(df_val.index), \"\\n\")\n",
        "for label in class_labels:\n",
        "    print(f\"# of '{label}' training instances: {(df_val.class_label == label).sum()}\")\n",
        "\n",
        "print()\n",
        "print(\"# of test instances:\", len(df_test.index), \"\\n\")\n",
        "for label in class_labels:\n",
        "    print(f\"# of '{label}' training instances: {(df_test.class_label == label).sum()}\")\n",
        "    \n",
        "dfs = {\n",
        "    \"train\": df_train,\n",
        "    \"val\": df_val,\n",
        "    \"test\": df_test\n",
        "}"
      ],
      "execution_count": null,
      "outputs": [
        {
          "name": "stdout",
          "output_type": "stream",
          "text": [
            "# of training instances: 24588 \n",
            "\n",
            "# of 'none' training instances: 18045\n",
            "# of 'mild' training instances: 1725\n",
            "# of 'moderate' training instances: 3707\n",
            "# of 'severe' training instances: 621\n",
            "# of 'proliferative' training instances: 490\n",
            "\n",
            "# of validation instances: 5269 \n",
            "\n",
            "# of 'none' training instances: 3877\n",
            "# of 'mild' training instances: 358\n",
            "# of 'moderate' training instances: 781\n",
            "# of 'severe' training instances: 134\n",
            "# of 'proliferative' training instances: 119\n",
            "\n",
            "# of test instances: 5269 \n",
            "\n",
            "# of 'none' training instances: 3888\n",
            "# of 'mild' training instances: 360\n",
            "# of 'moderate' training instances: 804\n",
            "# of 'severe' training instances: 118\n",
            "# of 'proliferative' training instances: 99\n"
          ]
        }
      ]
    },
    {
      "cell_type": "code",
      "metadata": {
        "collapsed": true,
        "id": "N9GgCItGMl0u"
      },
      "source": [
        "# Img size\n",
        "size = 128\n",
        "height_img = size\n",
        "width_img = size\n",
        "\n",
        "input_shape = (height_img, width_img, 3)"
      ],
      "execution_count": null,
      "outputs": []
    },
    {
      "cell_type": "markdown",
      "metadata": {
        "id": "yYrLvS3iMl0y"
      },
      "source": [
        "# Load pretrained VGG16 & Feature evaluation"
      ]
    },
    {
      "cell_type": "code",
      "metadata": {
        "colab": {
          "base_uri": "https://localhost:8080/"
        },
        "id": "4z587NS5Ml00",
        "outputId": "29908c5e-b50b-4eb1-e33d-cbb4f0c787f0"
      },
      "source": [
        "params_vgg16 = {'weights': \"imagenet\", \n",
        "                'include_top': False, \n",
        "                'input_shape': input_shape, \n",
        "                'pooling': None}\n",
        "\n",
        "# Design model\n",
        "base_model = VGG16(**params_vgg16)\n",
        "base_model.summary()"
      ],
      "execution_count": null,
      "outputs": [
        {
          "name": "stdout",
          "output_type": "stream",
          "text": [
            "Model: \"vgg16\"\n",
            "_________________________________________________________________\n",
            "Layer (type)                 Output Shape              Param #   \n",
            "=================================================================\n",
            "input_1 (InputLayer)         [(None, 128, 128, 3)]     0         \n",
            "_________________________________________________________________\n",
            "block1_conv1 (Conv2D)        (None, 128, 128, 64)      1792      \n",
            "_________________________________________________________________\n",
            "block1_conv2 (Conv2D)        (None, 128, 128, 64)      36928     \n",
            "_________________________________________________________________\n",
            "block1_pool (MaxPooling2D)   (None, 64, 64, 64)        0         \n",
            "_________________________________________________________________\n",
            "block2_conv1 (Conv2D)        (None, 64, 64, 128)       73856     \n",
            "_________________________________________________________________\n",
            "block2_conv2 (Conv2D)        (None, 64, 64, 128)       147584    \n",
            "_________________________________________________________________\n",
            "block2_pool (MaxPooling2D)   (None, 32, 32, 128)       0         \n",
            "_________________________________________________________________\n",
            "block3_conv1 (Conv2D)        (None, 32, 32, 256)       295168    \n",
            "_________________________________________________________________\n",
            "block3_conv2 (Conv2D)        (None, 32, 32, 256)       590080    \n",
            "_________________________________________________________________\n",
            "block3_conv3 (Conv2D)        (None, 32, 32, 256)       590080    \n",
            "_________________________________________________________________\n",
            "block3_pool (MaxPooling2D)   (None, 16, 16, 256)       0         \n",
            "_________________________________________________________________\n",
            "block4_conv1 (Conv2D)        (None, 16, 16, 512)       1180160   \n",
            "_________________________________________________________________\n",
            "block4_conv2 (Conv2D)        (None, 16, 16, 512)       2359808   \n",
            "_________________________________________________________________\n",
            "block4_conv3 (Conv2D)        (None, 16, 16, 512)       2359808   \n",
            "_________________________________________________________________\n",
            "block4_pool (MaxPooling2D)   (None, 8, 8, 512)         0         \n",
            "_________________________________________________________________\n",
            "block5_conv1 (Conv2D)        (None, 8, 8, 512)         2359808   \n",
            "_________________________________________________________________\n",
            "block5_conv2 (Conv2D)        (None, 8, 8, 512)         2359808   \n",
            "_________________________________________________________________\n",
            "block5_conv3 (Conv2D)        (None, 8, 8, 512)         2359808   \n",
            "_________________________________________________________________\n",
            "block5_pool (MaxPooling2D)   (None, 4, 4, 512)         0         \n",
            "=================================================================\n",
            "Total params: 14,714,688\n",
            "Trainable params: 14,714,688\n",
            "Non-trainable params: 0\n",
            "_________________________________________________________________\n"
          ]
        }
      ]
    },
    {
      "cell_type": "code",
      "metadata": {
        "collapsed": true,
        "id": "XcdE2JU5Ml04"
      },
      "source": [
        "feat_dim = 2 * 2 * 512"
      ],
      "execution_count": null,
      "outputs": []
    },
    {
      "cell_type": "markdown",
      "metadata": {
        "id": "75j95YbIMl09"
      },
      "source": [
        "# Build SimCLR-Model"
      ]
    },
    {
      "cell_type": "code",
      "metadata": {
        "id": "pNq93i59Ml0-",
        "outputId": "91b9aa6c-9257-4b0c-82d6-f18dafc50c53"
      },
      "source": [
        "from DataGeneratorSimCLR import DataGeneratorSimCLR as DataGenerator\n",
        "from SimCLR import SimCLR"
      ],
      "execution_count": null,
      "outputs": [
        {
          "name": "stderr",
          "output_type": "stream",
          "text": [
            "Using TensorFlow backend.\n"
          ]
        }
      ]
    },
    {
      "cell_type": "markdown",
      "metadata": {
        "id": "b0_nz95NMl1D"
      },
      "source": [
        "### Properties"
      ]
    },
    {
      "cell_type": "code",
      "metadata": {
        "collapsed": true,
        "id": "EqkkdfRPMl1E"
      },
      "source": [
        "batch_size = 16\n",
        "# Projection_head\n",
        "num_layers_ph = 2\n",
        "feat_dims_ph = [2048, 128]\n",
        "num_of_unfrozen_layers = 4\n",
        "save_path = 'models/dr-stylized'"
      ],
      "execution_count": null,
      "outputs": []
    },
    {
      "cell_type": "code",
      "metadata": {
        "collapsed": true,
        "id": "X1dGZztKMl1K"
      },
      "source": [
        "SimCLR = SimCLR(\n",
        "        base_model = base_model,\n",
        "        input_shape = input_shape,\n",
        "        batch_size = batch_size,\n",
        "        feat_dim = feat_dim,\n",
        "        feat_dims_ph = feat_dims_ph,\n",
        "        num_of_unfrozen_layers = num_of_unfrozen_layers,\n",
        "        save_path = save_path\n",
        "    )"
      ],
      "execution_count": null,
      "outputs": []
    },
    {
      "cell_type": "code",
      "metadata": {
        "collapsed": true,
        "id": "bvdVxJTiMl1W"
      },
      "source": [
        "params_generator = {'batch_size': batch_size,\n",
        "                    'shuffle' : True,\n",
        "                    'width':width_img,\n",
        "                    'height': height_img,\n",
        "                    'VGG': True\n",
        "                   }\n",
        "\n",
        "# Generators\n",
        "data_train = DataGenerator(df_train.reset_index(drop=True), **params_generator)\n",
        "data_val = DataGenerator(df_val.reset_index(drop=True), subset = \"val\", **params_generator) #val keeps the unity values on the same random places ~42\n",
        "data_test = DataGenerator(df_test.reset_index(drop=True), subset = \"test\", **params_generator) #test keeps the unity values on the diagonal"
      ],
      "execution_count": null,
      "outputs": []
    },
    {
      "cell_type": "markdown",
      "metadata": {
        "id": "pssY8CS6Ml1g"
      },
      "source": [
        "## Training SimCLR"
      ]
    },
    {
      "cell_type": "code",
      "metadata": {
        "colab": {
          "base_uri": "https://localhost:8080/",
          "height": 439
        },
        "id": "JLMsqpJcMl1h",
        "outputId": "4df6a650-cdfd-4f02-bd88-978690701b1c"
      },
      "source": [
        "SimCLR.unfreeze_and_train(data_train, \n",
        "                          data_val, \n",
        "                          num_of_unfrozen_layers = 4, \n",
        "                          r = 4, \n",
        "                          lr = 1e-6,\n",
        "                          epochs = 25)"
      ],
      "execution_count": null,
      "outputs": [
        {
          "name": "stdout",
          "output_type": "stream",
          "text": [
            "trainable parameters: 24.12 M.\n",
            "non-trainable parameters: 7.64 M.\n",
            "Train for 1537 steps, validate for 330 steps\n",
            "Epoch 1/25\n",
            "1536/1537 [============================>.] - ETA: 1s - loss: 992.5721\n",
            "Epoch 00001: val_loss improved from inf to 933.38373, saving model to models/dr-stylized/SimCLR/SimCLR_08_21_16h_37.h5\n",
            "1537/1537 [==============================] - 2780s 2s/step - loss: 992.5337 - val_loss: 933.3837\n",
            "Epoch 2/25\n",
            "1536/1537 [============================>.] - ETA: 0s - loss: 876.0794\n",
            "Epoch 00002: val_loss improved from 933.38373 to 819.66817, saving model to models/dr-stylized/SimCLR/SimCLR_08_21_16h_37.h5\n",
            "1537/1537 [==============================] - 1068s 695ms/step - loss: 876.0428 - val_loss: 819.6682\n",
            "Epoch 3/25\n",
            "1536/1537 [============================>.] - ETA: 0s - loss: 765.7489\n",
            "Epoch 00003: val_loss improved from 819.66817 to 712.93881, saving model to models/dr-stylized/SimCLR/SimCLR_08_21_16h_37.h5\n",
            "1537/1537 [==============================] - 1117s 726ms/step - loss: 765.7146 - val_loss: 712.9388\n",
            "Epoch 4/25\n",
            "1536/1537 [============================>.] - ETA: 0s - loss: 662.8266\n",
            "Epoch 00004: val_loss improved from 712.93881 to 613.87257, saving model to models/dr-stylized/SimCLR/SimCLR_08_21_16h_37.h5\n",
            "1537/1537 [==============================] - 1079s 702ms/step - loss: 662.7948 - val_loss: 613.8726\n",
            "Epoch 5/25\n",
            "1536/1537 [============================>.] - ETA: 0s - loss: 567.6371\n",
            "Epoch 00005: val_loss improved from 613.87257 to 522.58929, saving model to models/dr-stylized/SimCLR/SimCLR_08_21_16h_37.h5\n",
            "1537/1537 [==============================] - 1082s 704ms/step - loss: 567.6078 - val_loss: 522.5893\n",
            "Epoch 6/25\n",
            "1536/1537 [============================>.] - ETA: 0s - loss: 480.2517\n",
            "Epoch 00006: val_loss improved from 522.58929 to 439.10662, saving model to models/dr-stylized/SimCLR/SimCLR_08_21_16h_37.h5\n",
            "1537/1537 [==============================] - 1115s 725ms/step - loss: 480.2250 - val_loss: 439.1066\n",
            "Epoch 7/25\n",
            "1536/1537 [============================>.] - ETA: 0s - loss: 400.6617\n",
            "Epoch 00007: val_loss improved from 439.10662 to 363.42188, saving model to models/dr-stylized/SimCLR/SimCLR_08_21_16h_37.h5\n",
            "1537/1537 [==============================] - 1076s 700ms/step - loss: 400.6375 - val_loss: 363.4219\n",
            "Epoch 8/25\n",
            "1536/1537 [============================>.] - ETA: 0s - loss: 328.8775\n",
            "Epoch 00008: val_loss improved from 363.42188 to 295.55309, saving model to models/dr-stylized/SimCLR/SimCLR_08_21_16h_37.h5\n",
            "1537/1537 [==============================] - 1075s 699ms/step - loss: 328.8558 - val_loss: 295.5531\n",
            "Epoch 9/25\n",
            "1536/1537 [============================>.] - ETA: 0s - loss: 264.9127\n",
            "Epoch 00009: val_loss improved from 295.55309 to 235.48920, saving model to models/dr-stylized/SimCLR/SimCLR_08_21_16h_37.h5\n",
            "1537/1537 [==============================] - 1115s 725ms/step - loss: 264.8936 - val_loss: 235.4892\n",
            "Epoch 10/25\n",
            "1536/1537 [============================>.] - ETA: 0s - loss: 208.7299\n",
            "Epoch 00010: val_loss improved from 235.48920 to 183.19316, saving model to models/dr-stylized/SimCLR/SimCLR_08_21_16h_37.h5\n",
            "1537/1537 [==============================] - 1078s 701ms/step - loss: 208.7133 - val_loss: 183.1932\n",
            "Epoch 11/25\n",
            "1536/1537 [============================>.] - ETA: 0s - loss: 160.3069\n",
            "Epoch 00011: val_loss improved from 183.19316 to 138.66179, saving model to models/dr-stylized/SimCLR/SimCLR_08_21_16h_37.h5\n",
            "1537/1537 [==============================] - 1066s 694ms/step - loss: 160.2928 - val_loss: 138.6618\n",
            "Epoch 12/25\n",
            "1536/1537 [============================>.] - ETA: 0s - loss: 119.6430\n",
            "Epoch 00012: val_loss improved from 138.66179 to 101.86907, saving model to models/dr-stylized/SimCLR/SimCLR_08_21_16h_37.h5\n",
            "1537/1537 [==============================] - 1119s 728ms/step - loss: 119.6314 - val_loss: 101.8691\n",
            "Epoch 13/25\n",
            "1536/1537 [============================>.] - ETA: 0s - loss: 86.7131\n",
            "Epoch 00013: val_loss improved from 101.86907 to 72.81232, saving model to models/dr-stylized/SimCLR/SimCLR_08_21_16h_37.h5\n",
            "1537/1537 [==============================] - 1080s 703ms/step - loss: 86.7040 - val_loss: 72.8123\n",
            "Epoch 14/25\n",
            "1536/1537 [============================>.] - ETA: 0s - loss: 61.4980\n",
            "Epoch 00014: val_loss improved from 72.81232 to 51.42894, saving model to models/dr-stylized/SimCLR/SimCLR_08_21_16h_37.h5\n",
            "1537/1537 [==============================] - 1074s 699ms/step - loss: 61.4915 - val_loss: 51.4289\n",
            "Epoch 15/25\n",
            "1536/1537 [============================>.] - ETA: 0s - loss: 43.9055\n",
            "Epoch 00015: val_loss improved from 51.42894 to 37.62488, saving model to models/dr-stylized/SimCLR/SimCLR_08_21_16h_37.h5\n",
            "1537/1537 [==============================] - 1129s 735ms/step - loss: 43.9015 - val_loss: 37.6249\n",
            "Epoch 16/25\n",
            "1536/1537 [============================>.] - ETA: 0s - loss: 33.8658\n",
            "Epoch 00016: val_loss improved from 37.62488 to 31.22997, saving model to models/dr-stylized/SimCLR/SimCLR_08_21_16h_37.h5\n",
            "1537/1537 [==============================] - 1072s 698ms/step - loss: 33.8641 - val_loss: 31.2300\n",
            "Epoch 17/25\n",
            "1536/1537 [============================>.] - ETA: 0s - loss: 29.5549\n",
            "Epoch 00017: val_loss improved from 31.22997 to 28.02910, saving model to models/dr-stylized/SimCLR/SimCLR_08_21_16h_37.h5\n",
            "1537/1537 [==============================] - 1123s 731ms/step - loss: 29.5539 - val_loss: 28.0291\n",
            "Epoch 18/25\n",
            "1536/1537 [============================>.] - ETA: 0s - loss: 26.7140\n",
            "Epoch 00018: val_loss improved from 28.02910 to 25.47860, saving model to models/dr-stylized/SimCLR/SimCLR_08_21_16h_37.h5\n",
            "1537/1537 [==============================] - 1067s 694ms/step - loss: 26.7132 - val_loss: 25.4786\n",
            "Epoch 19/25\n",
            "1536/1537 [============================>.] - ETA: 0s - loss: 24.3785\n",
            "Epoch 00019: val_loss improved from 25.47860 to 23.33349, saving model to models/dr-stylized/SimCLR/SimCLR_08_21_16h_37.h5\n",
            "1537/1537 [==============================] - 1076s 700ms/step - loss: 24.3778 - val_loss: 23.3335\n",
            "Epoch 20/25\n",
            "1536/1537 [============================>.] - ETA: 0s - loss: 22.3943\n",
            "Epoch 00020: val_loss improved from 23.33349 to 21.49572, saving model to models/dr-stylized/SimCLR/SimCLR_08_21_16h_37.h5\n",
            "1537/1537 [==============================] - 1114s 725ms/step - loss: 22.3938 - val_loss: 21.4957\n",
            "Epoch 21/25\n",
            "1536/1537 [============================>.] - ETA: 0s - loss: 20.6718\n",
            "Epoch 00021: val_loss improved from 21.49572 to 19.88212, saving model to models/dr-stylized/SimCLR/SimCLR_08_21_16h_37.h5\n",
            "1537/1537 [==============================] - 1067s 694ms/step - loss: 20.6713 - val_loss: 19.8821\n",
            "Epoch 22/25\n",
            "1536/1537 [============================>.] - ETA: 0s - loss: 19.1536\n",
            "Epoch 00022: val_loss improved from 19.88212 to 18.45107, saving model to models/dr-stylized/SimCLR/SimCLR_08_21_16h_37.h5\n",
            "1537/1537 [==============================] - 1130s 735ms/step - loss: 19.1532 - val_loss: 18.4511\n",
            "Epoch 23/25\n",
            "1536/1537 [============================>.] - ETA: 0s - loss: 17.8008\n",
            "Epoch 00023: val_loss improved from 18.45107 to 17.17001, saving model to models/dr-stylized/SimCLR/SimCLR_08_21_16h_37.h5\n",
            "1537/1537 [==============================] - 1070s 696ms/step - loss: 17.8004 - val_loss: 17.1700\n",
            "Epoch 24/25\n",
            "1536/1537 [============================>.] - ETA: 0s - loss: 16.5861\n",
            "Epoch 00024: val_loss improved from 17.17001 to 16.01986, saving model to models/dr-stylized/SimCLR/SimCLR_08_21_16h_37.h5\n",
            "1537/1537 [==============================] - 1066s 694ms/step - loss: 16.5857 - val_loss: 16.0199\n",
            "Epoch 25/25\n",
            "1536/1537 [============================>.] - ETA: 0s - loss: 15.4897\n",
            "Epoch 00025: val_loss improved from 16.01986 to 14.97664, saving model to models/dr-stylized/SimCLR/SimCLR_08_21_16h_37.h5\n",
            "1537/1537 [==============================] - 1119s 728ms/step - loss: 15.4894 - val_loss: 14.9766\n",
            "trainable parameters: 24.12 M.\n",
            "non-trainable parameters: 7.64 M.\n"
          ]
        }
      ]
    }
  ]
}