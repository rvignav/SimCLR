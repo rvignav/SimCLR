{
 "cells": [
  {
   "cell_type": "code",
   "execution_count": 1,
   "metadata": {
    "colab": {
     "base_uri": "https://localhost:8080/",
     "height": 1000
    },
    "id": "hsi65mRTMl0G",
    "outputId": "41358587-0610-4318-9c8e-eb33749a81a2"
   },
   "outputs": [
    {
     "name": "stdout",
     "output_type": "stream",
     "text": [
      "/scratch/users/rvignav/SimCLR\n"
     ]
    }
   ],
   "source": [
    "%cd /scratch/users/rvignav/SimCLR\n",
    "# !pip install -r requirements.txt"
   ]
  },
  {
   "cell_type": "code",
   "execution_count": 2,
   "metadata": {
    "collapsed": true,
    "id": "YqzIOfEZMl0R"
   },
   "outputs": [],
   "source": [
    "import numpy as np\n",
    "import pickle\n",
    "import pandas as pd\n",
    "\n",
    "from sklearn.model_selection import train_test_split\n",
    "from tensorflow.keras.applications.vgg16 import VGG16 \n",
    "from tensorflow.keras.models import load_model \n",
    "from swish import Swish\n",
    "from SoftmaxCosineSim import SoftmaxCosineSim\n",
    "\n",
    "from evaluate_features import get_features, linear_classifier, tSNE_vis"
   ]
  },
  {
   "cell_type": "markdown",
   "metadata": {
    "id": "HbpMmt6uMl0Z"
   },
   "source": [
    "# Load Dataframe"
   ]
  },
  {
   "cell_type": "code",
   "execution_count": 3,
   "metadata": {
    "colab": {
     "base_uri": "https://localhost:8080/",
     "height": 476
    },
    "id": "fRGSbHANMl0a",
    "outputId": "239c1f7a-cb80-460b-9384-2898bcd7176f"
   },
   "outputs": [
    {
     "data": {
      "text/html": [
       "<div>\n",
       "<style scoped>\n",
       "    .dataframe tbody tr th:only-of-type {\n",
       "        vertical-align: middle;\n",
       "    }\n",
       "\n",
       "    .dataframe tbody tr th {\n",
       "        vertical-align: top;\n",
       "    }\n",
       "\n",
       "    .dataframe thead th {\n",
       "        text-align: right;\n",
       "    }\n",
       "</style>\n",
       "<table border=\"1\" class=\"dataframe\">\n",
       "  <thead>\n",
       "    <tr style=\"text-align: right;\">\n",
       "      <th></th>\n",
       "      <th>class_label</th>\n",
       "      <th>class_one_hot</th>\n",
       "      <th>filename</th>\n",
       "    </tr>\n",
       "  </thead>\n",
       "  <tbody>\n",
       "    <tr>\n",
       "      <th>0</th>\n",
       "      <td>none</td>\n",
       "      <td>[1, 0, 0, 0, 0]</td>\n",
       "      <td>/scratch/groups/rubin/SimCLR/stylized-input/10...</td>\n",
       "    </tr>\n",
       "    <tr>\n",
       "      <th>1</th>\n",
       "      <td>none</td>\n",
       "      <td>[1, 0, 0, 0, 0]</td>\n",
       "      <td>/scratch/groups/rubin/SimCLR/stylized-input/10...</td>\n",
       "    </tr>\n",
       "    <tr>\n",
       "      <th>2</th>\n",
       "      <td>none</td>\n",
       "      <td>[1, 0, 0, 0, 0]</td>\n",
       "      <td>/scratch/groups/rubin/SimCLR/stylized-input/13...</td>\n",
       "    </tr>\n",
       "    <tr>\n",
       "      <th>3</th>\n",
       "      <td>none</td>\n",
       "      <td>[1, 0, 0, 0, 0]</td>\n",
       "      <td>/scratch/groups/rubin/SimCLR/stylized-input/13...</td>\n",
       "    </tr>\n",
       "    <tr>\n",
       "      <th>4</th>\n",
       "      <td>mild</td>\n",
       "      <td>[0, 1, 0, 0, 0]</td>\n",
       "      <td>/scratch/groups/rubin/SimCLR/stylized-input/15...</td>\n",
       "    </tr>\n",
       "  </tbody>\n",
       "</table>\n",
       "</div>"
      ],
      "text/plain": [
       "  class_label    class_one_hot  \\\n",
       "0        none  [1, 0, 0, 0, 0]   \n",
       "1        none  [1, 0, 0, 0, 0]   \n",
       "2        none  [1, 0, 0, 0, 0]   \n",
       "3        none  [1, 0, 0, 0, 0]   \n",
       "4        mild  [0, 1, 0, 0, 0]   \n",
       "\n",
       "                                            filename  \n",
       "0  /scratch/groups/rubin/SimCLR/stylized-input/10...  \n",
       "1  /scratch/groups/rubin/SimCLR/stylized-input/10...  \n",
       "2  /scratch/groups/rubin/SimCLR/stylized-input/13...  \n",
       "3  /scratch/groups/rubin/SimCLR/stylized-input/13...  \n",
       "4  /scratch/groups/rubin/SimCLR/stylized-input/15...  "
      ]
     },
     "execution_count": 3,
     "metadata": {},
     "output_type": "execute_result"
    }
   ],
   "source": [
    "import csv\n",
    "class_labels = [\"none\", \"mild\", \"moderate\", \"severe\", \"proliferative\"]\n",
    "\n",
    "csv_file = open('/scratch/users/rvignav/TRAIN_SimCLR/data/trainLabels.csv', mode='r')\n",
    "d = csv.DictReader(csv_file)\n",
    "\n",
    "fname = []\n",
    "label = []\n",
    "one_hot = []\n",
    "\n",
    "for row in d:\n",
    "    fname.append('/scratch/groups/rubin/SimCLR/stylized-input/' + row['image'] + '.jpeg')\n",
    "    l = int(row['level'])\n",
    "    label.append(class_labels[l])\n",
    "    arr = [0, 0, 0, 0, 0]\n",
    "    arr[l] = 1\n",
    "    one_hot.append(arr)\n",
    "\n",
    "df = pd.DataFrame({\"filename\": fname, \"class_label\": label, \"class_one_hot\": one_hot})\n",
    "\n",
    "df.head()"
   ]
  },
  {
   "cell_type": "code",
   "execution_count": 4,
   "metadata": {
    "colab": {
     "base_uri": "https://localhost:8080/"
    },
    "id": "c-YZpNjEMl0g",
    "outputId": "902ed152-b99e-414f-f83c-47a2aa8c10cd"
   },
   "outputs": [
    {
     "name": "stdout",
     "output_type": "stream",
     "text": [
      "# of training instances: 35126 \n",
      "\n",
      "# of 'none' training instances: 25810\n",
      "# of 'mild' training instances: 2443\n",
      "# of 'moderate' training instances: 5292\n",
      "# of 'severe' training instances: 873\n",
      "# of 'proliferative' training instances: 708\n"
     ]
    }
   ],
   "source": [
    "num_classes = len(df['class_one_hot'][0])\n",
    "\n",
    "print(\"# of training instances:\", len(df.index), \"\\n\")\n",
    "for label in class_labels:\n",
    "    print(f\"# of '{label}' training instances: {(df.class_label == label).sum()}\")"
   ]
  },
  {
   "cell_type": "code",
   "execution_count": 5,
   "metadata": {
    "colab": {
     "base_uri": "https://localhost:8080/"
    },
    "id": "d2qU1NriMl0n",
    "outputId": "cf6afe2a-990a-4fe7-c1d1-d9b429896dbb"
   },
   "outputs": [
    {
     "name": "stdout",
     "output_type": "stream",
     "text": [
      "# of training instances: 24588 \n",
      "\n",
      "# of 'none' training instances: 18045\n",
      "# of 'mild' training instances: 1725\n",
      "# of 'moderate' training instances: 3707\n",
      "# of 'severe' training instances: 621\n",
      "# of 'proliferative' training instances: 490\n",
      "\n",
      "# of validation instances: 5269 \n",
      "\n",
      "# of 'none' training instances: 3877\n",
      "# of 'mild' training instances: 358\n",
      "# of 'moderate' training instances: 781\n",
      "# of 'severe' training instances: 134\n",
      "# of 'proliferative' training instances: 119\n",
      "\n",
      "# of test instances: 5269 \n",
      "\n",
      "# of 'none' training instances: 3888\n",
      "# of 'mild' training instances: 360\n",
      "# of 'moderate' training instances: 804\n",
      "# of 'severe' training instances: 118\n",
      "# of 'proliferative' training instances: 99\n"
     ]
    }
   ],
   "source": [
    "df_train, df_val_test = train_test_split(df, test_size=0.30, random_state=42, shuffle=True)\n",
    "df_val, df_test = train_test_split(df_val_test, test_size=0.50, random_state=42, shuffle=True)\n",
    "\n",
    "print(\"# of training instances:\", len(df_train.index), \"\\n\")\n",
    "for label in class_labels:\n",
    "    print(f\"# of '{label}' training instances: {(df_train.class_label == label).sum()}\")\n",
    "    \n",
    "print()\n",
    "print(\"# of validation instances:\", len(df_val.index), \"\\n\")\n",
    "for label in class_labels:\n",
    "    print(f\"# of '{label}' training instances: {(df_val.class_label == label).sum()}\")\n",
    "\n",
    "print()\n",
    "print(\"# of test instances:\", len(df_test.index), \"\\n\")\n",
    "for label in class_labels:\n",
    "    print(f\"# of '{label}' training instances: {(df_test.class_label == label).sum()}\")\n",
    "    \n",
    "dfs = {\n",
    "    \"train\": df_train,\n",
    "    \"val\": df_val,\n",
    "    \"test\": df_test\n",
    "}"
   ]
  },
  {
   "cell_type": "code",
   "execution_count": 6,
   "metadata": {
    "collapsed": true,
    "id": "N9GgCItGMl0u"
   },
   "outputs": [],
   "source": [
    "# Img size\n",
    "size = 128\n",
    "height_img = size\n",
    "width_img = size\n",
    "\n",
    "input_shape = (height_img, width_img, 3)"
   ]
  },
  {
   "cell_type": "markdown",
   "metadata": {
    "id": "yYrLvS3iMl0y"
   },
   "source": [
    "# Load pretrained VGG16 & Feature evaluation"
   ]
  },
  {
   "cell_type": "code",
   "execution_count": 7,
   "metadata": {
    "colab": {
     "base_uri": "https://localhost:8080/"
    },
    "id": "4z587NS5Ml00",
    "outputId": "29908c5e-b50b-4eb1-e33d-cbb4f0c787f0"
   },
   "outputs": [
    {
     "name": "stdout",
     "output_type": "stream",
     "text": [
      "WARNING:tensorflow:No training configuration found in save file: the model was *not* compiled. Compile it manually.\n",
      "Model: \"vgg16\"\n",
      "_________________________________________________________________\n",
      "Layer (type)                 Output Shape              Param #   \n",
      "=================================================================\n",
      "input_1 (InputLayer)         [(None, 128, 128, 3)]     0         \n",
      "_________________________________________________________________\n",
      "block1_conv1 (Conv2D)        (None, 128, 128, 64)      1792      \n",
      "_________________________________________________________________\n",
      "block1_conv2 (Conv2D)        (None, 128, 128, 64)      36928     \n",
      "_________________________________________________________________\n",
      "block1_pool (MaxPooling2D)   (None, 64, 64, 64)        0         \n",
      "_________________________________________________________________\n",
      "block2_conv1 (Conv2D)        (None, 64, 64, 128)       73856     \n",
      "_________________________________________________________________\n",
      "block2_conv2 (Conv2D)        (None, 64, 64, 128)       147584    \n",
      "_________________________________________________________________\n",
      "block2_pool (MaxPooling2D)   (None, 32, 32, 128)       0         \n",
      "_________________________________________________________________\n",
      "block3_conv1 (Conv2D)        (None, 32, 32, 256)       295168    \n",
      "_________________________________________________________________\n",
      "block3_conv2 (Conv2D)        (None, 32, 32, 256)       590080    \n",
      "_________________________________________________________________\n",
      "block3_conv3 (Conv2D)        (None, 32, 32, 256)       590080    \n",
      "_________________________________________________________________\n",
      "block3_pool (MaxPooling2D)   (None, 16, 16, 256)       0         \n",
      "_________________________________________________________________\n",
      "block4_conv1 (Conv2D)        (None, 16, 16, 512)       1180160   \n",
      "_________________________________________________________________\n",
      "block4_conv2 (Conv2D)        (None, 16, 16, 512)       2359808   \n",
      "_________________________________________________________________\n",
      "block4_conv3 (Conv2D)        (None, 16, 16, 512)       2359808   \n",
      "_________________________________________________________________\n",
      "block4_pool (MaxPooling2D)   (None, 8, 8, 512)         0         \n",
      "_________________________________________________________________\n",
      "block5_conv1 (Conv2D)        (None, 8, 8, 512)         2359808   \n",
      "_________________________________________________________________\n",
      "block5_conv2 (Conv2D)        (None, 8, 8, 512)         2359808   \n",
      "_________________________________________________________________\n",
      "block5_conv3 (Conv2D)        (None, 8, 8, 512)         2359808   \n",
      "_________________________________________________________________\n",
      "block5_pool (MaxPooling2D)   (None, 4, 4, 512)         0         \n",
      "=================================================================\n",
      "Total params: 14,714,688\n",
      "Trainable params: 7,079,424\n",
      "Non-trainable params: 7,635,264\n",
      "_________________________________________________________________\n"
     ]
    }
   ],
   "source": [
    "BASE_MODEL_PATH = '/scratch/users/rvignav/TRAIN_SimCLR/models/dr-stylized/base_model/base_model_round_4.h5'\n",
    "base_model = load_model(BASE_MODEL_PATH)\n",
    "base_model.summary()"
   ]
  },
  {
   "cell_type": "code",
   "execution_count": 8,
   "metadata": {
    "collapsed": true,
    "id": "XcdE2JU5Ml04"
   },
   "outputs": [],
   "source": [
    "feat_dim = 2 * 2 * 512"
   ]
  },
  {
   "cell_type": "markdown",
   "metadata": {
    "id": "75j95YbIMl09"
   },
   "source": [
    "# Build SimCLR-Model"
   ]
  },
  {
   "cell_type": "code",
   "execution_count": 9,
   "metadata": {
    "id": "pNq93i59Ml0-"
   },
   "outputs": [
    {
     "name": "stderr",
     "output_type": "stream",
     "text": [
      "Using TensorFlow backend.\n"
     ]
    }
   ],
   "source": [
    "from DataGeneratorSimCLR import DataGeneratorSimCLR as DataGenerator\n",
    "from SimCLR import SimCLR"
   ]
  },
  {
   "cell_type": "markdown",
   "metadata": {
    "id": "b0_nz95NMl1D"
   },
   "source": [
    "### Properties"
   ]
  },
  {
   "cell_type": "code",
   "execution_count": 10,
   "metadata": {
    "collapsed": true,
    "id": "EqkkdfRPMl1E"
   },
   "outputs": [],
   "source": [
    "batch_size = 16\n",
    "# Projection_head\n",
    "num_layers_ph = 2\n",
    "feat_dims_ph = [2048, 128]\n",
    "num_of_unfrozen_layers = 4\n",
    "save_path = '/scratch/users/rvignav/TRAIN_SimCLR/models/dr-stylized'"
   ]
  },
  {
   "cell_type": "code",
   "execution_count": 11,
   "metadata": {
    "collapsed": true,
    "id": "X1dGZztKMl1K"
   },
   "outputs": [],
   "source": [
    "# SIMCLR_MODEL_PATH = '/scratch/users/rvignav/models/dr/SimCLR/SimCLR_07_14_01h_21.h5'\n",
    "SIMCLR_MODEL_PATH = '/scratch/users/rvignav/TRAIN_SimCLR/models/dr-stylized/SimCLR/SimCLR_08_21_16h_37.h5'\n",
    "customObjects = {\n",
    "    'Swish': Swish,\n",
    "    'SoftmaxCosineSim': SoftmaxCosineSim,\n",
    "}\n",
    "SimCLR = load_model(SIMCLR_MODEL_PATH, custom_objects=customObjects)"
   ]
  },
  {
   "cell_type": "code",
   "execution_count": 12,
   "metadata": {
    "collapsed": true,
    "id": "bvdVxJTiMl1W"
   },
   "outputs": [],
   "source": [
    "params_generator = {'batch_size': batch_size,\n",
    "                    'shuffle' : True,\n",
    "                    'width':width_img,\n",
    "                    'height': height_img,\n",
    "                    'VGG': True\n",
    "                   }\n",
    "\n",
    "# Generators\n",
    "data_train = DataGenerator(df_train.reset_index(drop=True), **params_generator)\n",
    "data_val = DataGenerator(df_val.reset_index(drop=True), subset = \"val\", **params_generator) #val keeps the unity values on the same random places ~42\n",
    "data_test = DataGenerator(df_test.reset_index(drop=True), subset = \"test\", **params_generator) #test keeps the unity values on the diagonal"
   ]
  },
  {
   "cell_type": "markdown",
   "metadata": {
    "id": "IMdwX9kXMl3R"
   },
   "source": [
    "## Feature Evaluation"
   ]
  },
  {
   "cell_type": "markdown",
   "metadata": {
    "id": "XlVebWE7Ml3Z"
   },
   "source": [
    "### Fine tuned model"
   ]
  },
  {
   "cell_type": "code",
   "execution_count": 13,
   "metadata": {
    "collapsed": true,
    "id": "vhnYkrhZMl3a"
   },
   "outputs": [],
   "source": [
    "batch_size_classifier = 32\n",
    "params_generator_classifier = {'max_width':width_img,\n",
    "                            'max_height': height_img,\n",
    "                            'num_classes': num_classes,\n",
    "                            'VGG': True\n",
    "                            }\n",
    "params_training_classifier = {'1.0':{\n",
    "                                \"reg_dense\" : 0.005,\n",
    "                                \"reg_out\" : 0.005,\n",
    "                                \"nums_of_unfrozen_layers\" : [5, 5, 6, 7],\n",
    "                                \"lrs\" : [1e-3, 1e-4, 5e-5, 5e-5],\n",
    "                                \"epochs\" : [1]\n",
    "#                                 \"epochs\" : [5, 5, 15, 10]\n",
    "                                },\n",
    "                              '0.8':{\n",
    "                                \"reg_dense\" : 0.005,\n",
    "                                \"reg_out\" : 0.005,\n",
    "                                \"nums_of_unfrozen_layers\" : [5, 5, 6, 7],\n",
    "                                \"lrs\" : [1e-3, 1e-4, 5e-5, 5e-5],\n",
    "                                \"epochs\" : [1]\n",
    "#                                 \"epochs\" : [5, 5, 15, 10]\n",
    "                                },\n",
    "                              '0.6':{\n",
    "                                \"reg_dense\" : 0.005,\n",
    "                                \"reg_out\" : 0.005,\n",
    "                                \"nums_of_unfrozen_layers\" : [5, 5, 6, 7],\n",
    "                                \"lrs\" : [1e-3, 1e-4, 5e-5, 5e-5],\n",
    "                                \"epochs\" : [1]\n",
    "#                                 \"epochs\" : [5, 5, 15, 10]\n",
    "                                },\n",
    "                              '0.4':{\n",
    "                                \"reg_dense\" : 0.005,\n",
    "                                \"reg_out\" : 0.005,\n",
    "                                \"nums_of_unfrozen_layers\" : [5, 5, 6, 7],\n",
    "                                \"lrs\" : [1e-3, 1e-4, 5e-5, 5e-5],\n",
    "                                \"epochs\" : [1]\n",
    "#                                 \"epochs\" : [5, 5, 15, 10]\n",
    "                                },\n",
    "                              \n",
    "                              '0.2':{\n",
    "                                \"reg_dense\" : 0.075,\n",
    "                                \"reg_out\" : 0.01,\n",
    "                                \"nums_of_unfrozen_layers\" : [5, 5, 6, 7],\n",
    "                                \"lrs\" : [1e-3, 1e-4, 5e-5, 5e-5],\n",
    "                                \"epochs\" : [1]\n",
    "#                                 \"epochs\" : [5, 5, 20, 15]\n",
    "                              },\n",
    "#                               '0.05':{\n",
    "#                                 \"reg_dense\" : 0.01,\n",
    "#                                 \"reg_out\" : 0.02,\n",
    "#                                 \"nums_of_unfrozen_layers\" : [5, 5, 6, 7],\n",
    "#                                 \"lrs\" : [1e-3, 1e-4, 5e-5, 1e-5],\n",
    "#                                 \"epochs\" : [5, 5, 20, 15]\n",
    "#                               }                              \n",
    "                            }"
   ]
  },
  {
   "cell_type": "code",
   "execution_count": 14,
   "metadata": {
    "collapsed": true
   },
   "outputs": [],
   "source": [
    "from Classifier import Classifier\n",
    "\n",
    "def train_NL_and_evaluate(\n",
    "        base_model,\n",
    "        dfs,\n",
    "        batch_size,\n",
    "        params_generator,\n",
    "        fraction,\n",
    "        class_labels,\n",
    "        reg_dense=0.005,\n",
    "        reg_out=0.005,\n",
    "        nums_of_unfrozen_layers=[5, 5, 6, 7],\n",
    "        lrs=[1e-3, 1e-4, 5e-5, 1e-5],\n",
    "        epochs=[1],\n",
    "        verbose_epoch=0,\n",
    "        verbose_cycle=1,\n",
    "    ):\n",
    "        \"\"\" Trains and evaluates a nonlinear classifier on top of the base_model\n",
    "        \"\"\"\n",
    "        results = {\"acc\": 0}\n",
    "        for i in range(1):\n",
    "            if verbose_cycle:\n",
    "                print(f\"Learning attempt {i+1}\")\n",
    "\n",
    "            classifier = Classifier(\n",
    "                base_model=base_model,\n",
    "                num_classes=params_generator[\"num_classes\"],\n",
    "                reg_dense=reg_dense,\n",
    "                reg_out=reg_out,\n",
    "            )\n",
    "\n",
    "            data_train, data_val, data_test = classifier.get_generators(\n",
    "                dfs, fraction, batch_size, params_generator\n",
    "            )\n",
    "\n",
    "            classifier.train(\n",
    "                data_train,\n",
    "                data_val,\n",
    "                fraction,\n",
    "                nums_of_unfrozen_layers,\n",
    "                lrs,\n",
    "                epochs,\n",
    "                verbose_epoch,\n",
    "                verbose_cycle,\n",
    "            )\n",
    "            acc, report = classifier.evaluate_on_test(\n",
    "                dfs[\"test\"], data_test, class_labels\n",
    "            )\n",
    "\n",
    "            if results[\"acc\"] < acc:\n",
    "                results[\"acc\"] = acc\n",
    "                results[\"report\"] = report\n",
    "                results[\"attempt\"] = i + 1\n",
    "\n",
    "        print(\"Best result from attempt\", str(results[\"attempt\"]))\n",
    "        print(results[\"report\"])"
   ]
  },
  {
   "cell_type": "code",
   "execution_count": 15,
   "metadata": {
    "colab": {
     "base_uri": "https://localhost:8080/",
     "height": 862
    },
    "id": "QtoW3bL4Ml3g",
    "outputId": "a985cb18-c039-41cd-e1ad-daca9010c85b"
   },
   "outputs": [
    {
     "name": "stdout",
     "output_type": "stream",
     "text": [
      "    ==== 100.0% of the training data used ==== \n",
      "\n",
      "Learning attempt 1\n",
      "Train for 769 steps, validate for 165 steps\n",
      "769/769 [==============================] - 532s 691ms/step - loss: 1.8635 - categorical_accuracy: 0.7210 - val_loss: 1.1703 - val_categorical_accuracy: 0.7347\n",
      "CYCLE 0: num_of_unfrozen_layers: 5 - epochs: 1 - lr: 1.0e-03 | Training Loss at end of cycle: 1.86- Training Acc: 0.72- Validation Acc: 0.73\n"
     ]
    },
    {
     "name": "stderr",
     "output_type": "stream",
     "text": [
      "/home/users/rvignav/.local/lib/python3.6/site-packages/sklearn/metrics/_classification.py:1221: UndefinedMetricWarning: Precision and F-score are ill-defined and being set to 0.0 in labels with no predicted samples. Use `zero_division` parameter to control this behavior.\n",
      "  _warn_prf(average, modifier, msg_start, len(result))\n"
     ]
    },
    {
     "name": "stdout",
     "output_type": "stream",
     "text": [
      "Best result from attempt 1\n",
      "               precision    recall  f1-score   support\n",
      "\n",
      "         none       0.74      1.00      0.85      3888\n",
      "         mild       0.00      0.00      0.00       360\n",
      "     moderate       0.17      0.00      0.00       804\n",
      "       severe       0.00      0.00      0.00       118\n",
      "proliferative       0.00      0.00      0.00        99\n",
      "\n",
      "     accuracy                           0.74      5269\n",
      "    macro avg       0.18      0.20      0.17      5269\n",
      " weighted avg       0.57      0.74      0.63      5269\n",
      "\n",
      "    ==== 80.0% of the training data used ==== \n",
      "\n",
      "Learning attempt 1\n",
      "Train for 615 steps, validate for 165 steps\n",
      "615/615 [==============================] - 444s 722ms/step - loss: 1.9001 - categorical_accuracy: 0.7159 - val_loss: 1.2341 - val_categorical_accuracy: 0.7352\n",
      "CYCLE 0: num_of_unfrozen_layers: 5 - epochs: 1 - lr: 1.0e-03 | Training Loss at end of cycle: 1.90- Training Acc: 0.72- Validation Acc: 0.74\n"
     ]
    },
    {
     "name": "stderr",
     "output_type": "stream",
     "text": [
      "/home/users/rvignav/.local/lib/python3.6/site-packages/sklearn/metrics/_classification.py:1221: UndefinedMetricWarning: Precision and F-score are ill-defined and being set to 0.0 in labels with no predicted samples. Use `zero_division` parameter to control this behavior.\n",
      "  _warn_prf(average, modifier, msg_start, len(result))\n"
     ]
    },
    {
     "name": "stdout",
     "output_type": "stream",
     "text": [
      "Best result from attempt 1\n",
      "               precision    recall  f1-score   support\n",
      "\n",
      "         none       0.74      1.00      0.85      3888\n",
      "         mild       0.00      0.00      0.00       360\n",
      "     moderate       0.17      0.00      0.00       804\n",
      "       severe       0.00      0.00      0.00       118\n",
      "proliferative       0.00      0.00      0.00        99\n",
      "\n",
      "     accuracy                           0.74      5269\n",
      "    macro avg       0.18      0.20      0.17      5269\n",
      " weighted avg       0.57      0.74      0.63      5269\n",
      "\n",
      "    ==== 60.0% of the training data used ==== \n",
      "\n",
      "Learning attempt 1\n",
      "Train for 462 steps, validate for 165 steps\n",
      "462/462 [==============================] - 351s 759ms/step - loss: 2.0154 - categorical_accuracy: 0.7150 - val_loss: 1.2492 - val_categorical_accuracy: 0.7350\n",
      "CYCLE 0: num_of_unfrozen_layers: 5 - epochs: 1 - lr: 1.0e-03 | Training Loss at end of cycle: 2.02- Training Acc: 0.72- Validation Acc: 0.74\n"
     ]
    },
    {
     "name": "stderr",
     "output_type": "stream",
     "text": [
      "/home/users/rvignav/.local/lib/python3.6/site-packages/sklearn/metrics/_classification.py:1221: UndefinedMetricWarning: Precision and F-score are ill-defined and being set to 0.0 in labels with no predicted samples. Use `zero_division` parameter to control this behavior.\n",
      "  _warn_prf(average, modifier, msg_start, len(result))\n"
     ]
    },
    {
     "name": "stdout",
     "output_type": "stream",
     "text": [
      "Best result from attempt 1\n",
      "               precision    recall  f1-score   support\n",
      "\n",
      "         none       0.74      1.00      0.85      3888\n",
      "         mild       0.00      0.00      0.00       360\n",
      "     moderate       0.22      0.01      0.01       804\n",
      "       severe       0.00      0.00      0.00       118\n",
      "proliferative       0.00      0.00      0.00        99\n",
      "\n",
      "     accuracy                           0.74      5269\n",
      "    macro avg       0.19      0.20      0.17      5269\n",
      " weighted avg       0.58      0.74      0.63      5269\n",
      "\n",
      "    ==== 40.0% of the training data used ==== \n",
      "\n",
      "Learning attempt 1\n",
      "Train for 308 steps, validate for 165 steps\n",
      "308/308 [==============================] - 265s 861ms/step - loss: 2.5032 - categorical_accuracy: 0.6970 - val_loss: 1.3143 - val_categorical_accuracy: 0.7324\n",
      "CYCLE 0: num_of_unfrozen_layers: 5 - epochs: 1 - lr: 1.0e-03 | Training Loss at end of cycle: 2.50- Training Acc: 0.70- Validation Acc: 0.73\n"
     ]
    },
    {
     "name": "stderr",
     "output_type": "stream",
     "text": [
      "/home/users/rvignav/.local/lib/python3.6/site-packages/sklearn/metrics/_classification.py:1221: UndefinedMetricWarning: Precision and F-score are ill-defined and being set to 0.0 in labels with no predicted samples. Use `zero_division` parameter to control this behavior.\n",
      "  _warn_prf(average, modifier, msg_start, len(result))\n"
     ]
    },
    {
     "name": "stdout",
     "output_type": "stream",
     "text": [
      "Best result from attempt 1\n",
      "               precision    recall  f1-score   support\n",
      "\n",
      "         none       0.74      0.99      0.85      3888\n",
      "         mild       0.00      0.00      0.00       360\n",
      "     moderate       0.25      0.03      0.05       804\n",
      "       severe       0.00      0.00      0.00       118\n",
      "proliferative       0.00      0.00      0.00        99\n",
      "\n",
      "     accuracy                           0.74      5269\n",
      "    macro avg       0.20      0.20      0.18      5269\n",
      " weighted avg       0.59      0.74      0.64      5269\n",
      "\n",
      "    ==== 20.0% of the training data used ==== \n",
      "\n",
      "Learning attempt 1\n",
      "Train for 154 steps, validate for 165 steps\n",
      "154/154 [==============================] - 181s 1s/step - loss: 23.5269 - categorical_accuracy: 0.7141 - val_loss: 3.8328 - val_categorical_accuracy: 0.7358\n",
      "CYCLE 0: num_of_unfrozen_layers: 5 - epochs: 1 - lr: 1.0e-03 | Training Loss at end of cycle: 23.53- Training Acc: 0.71- Validation Acc: 0.74\n",
      "Best result from attempt 1\n",
      "               precision    recall  f1-score   support\n",
      "\n",
      "         none       0.74      1.00      0.85      3888\n",
      "         mild       0.00      0.00      0.00       360\n",
      "     moderate       0.00      0.00      0.00       804\n",
      "       severe       0.00      0.00      0.00       118\n",
      "proliferative       0.00      0.00      0.00        99\n",
      "\n",
      "     accuracy                           0.74      5269\n",
      "    macro avg       0.15      0.20      0.17      5269\n",
      " weighted avg       0.54      0.74      0.63      5269\n",
      "\n"
     ]
    },
    {
     "name": "stderr",
     "output_type": "stream",
     "text": [
      "/home/users/rvignav/.local/lib/python3.6/site-packages/sklearn/metrics/_classification.py:1221: UndefinedMetricWarning: Precision and F-score are ill-defined and being set to 0.0 in labels with no predicted samples. Use `zero_division` parameter to control this behavior.\n",
      "  _warn_prf(average, modifier, msg_start, len(result))\n"
     ]
    }
   ],
   "source": [
    "fractions = [1.0, 0.8, 0.6, 0.4, 0.2]\n",
    "for fraction in fractions:    \n",
    "    print(f\"    ==== {fraction * 100}% of the training data used ==== \\n\")\n",
    "    train_NL_and_evaluate(base_model = base_model, dfs = dfs,\n",
    "                                batch_size = batch_size_classifier,\n",
    "                                params_generator = params_generator_classifier,\n",
    "                                fraction = fraction,\n",
    "                                class_labels = class_labels,\n",
    "                                reg_dense = params_training_classifier[str(fraction)][\"reg_dense\"],\n",
    "                                reg_out = params_training_classifier[str(fraction)][\"reg_out\"],\n",
    "                                nums_of_unfrozen_layers = params_training_classifier[str(fraction)][\"nums_of_unfrozen_layers\"],\n",
    "                                lrs = params_training_classifier[str(fraction)][\"lrs\"],\n",
    "                                epochs = params_training_classifier[str(fraction)][\"epochs\"],\n",
    "                                verbose_epoch = 1,\n",
    "                                verbose_cycle = 1\n",
    "                                )"
   ]
  },
  {
   "cell_type": "markdown",
   "metadata": {
    "id": "pO4paMl9Ml3R"
   },
   "source": [
    "### Logistic Regression"
   ]
  },
  {
   "cell_type": "code",
   "execution_count": 16,
   "metadata": {
    "colab": {
     "base_uri": "https://localhost:8080/",
     "height": 35
    },
    "id": "cnECT4QJMl3T",
    "outputId": "f24df18b-daaa-4ded-9d6e-c9262adf4b0e"
   },
   "outputs": [
    {
     "data": {
      "text/plain": [
       "1439"
      ]
     },
     "execution_count": 16,
     "metadata": {},
     "output_type": "execute_result"
    }
   ],
   "source": [
    "features_train, y_train, feats = get_features(base_model, df_train, class_labels)\n",
    "features_test, y_test, feats = get_features(base_model, df_test, class_labels)\n",
    "np.count_nonzero(features_train[0])"
   ]
  },
  {
   "cell_type": "code",
   "execution_count": 17,
   "metadata": {},
   "outputs": [
    {
     "name": "stdout",
     "output_type": "stream",
     "text": [
      "    ==== 100.0% of the training data used ==== \n",
      "\n"
     ]
    },
    {
     "ename": "TerminatedWorkerError",
     "evalue": "A worker process managed by the executor was unexpectedly terminated. This could be caused by a segmentation fault while calling the function or by an excessive memory usage causing the Operating System to kill the worker.\n\nThe exit codes of the workers are {SIGKILL(-9)}",
     "output_type": "error",
     "traceback": [
      "\u001b[0;31m---------------------------------------------------------------------------\u001b[0m",
      "\u001b[0;31mTerminatedWorkerError\u001b[0m                     Traceback (most recent call last)",
      "\u001b[0;32m<ipython-input-17-b4f4b0fe9bf5>\u001b[0m in \u001b[0;36m<module>\u001b[0;34m()\u001b[0m\n\u001b[1;32m      3\u001b[0m \u001b[0;32mfor\u001b[0m \u001b[0mfraction\u001b[0m \u001b[0;32min\u001b[0m \u001b[0mfractions\u001b[0m\u001b[0;34m:\u001b[0m\u001b[0;34m\u001b[0m\u001b[0m\n\u001b[1;32m      4\u001b[0m     \u001b[0mprint\u001b[0m\u001b[0;34m(\u001b[0m\u001b[0;34mf\"    ==== {fraction * 100}% of the training data used ==== \\n\"\u001b[0m\u001b[0;34m)\u001b[0m\u001b[0;34m\u001b[0m\u001b[0m\n\u001b[0;32m----> 5\u001b[0;31m     \u001b[0mlinear_classifier\u001b[0m\u001b[0;34m(\u001b[0m\u001b[0mfeatures_train\u001b[0m\u001b[0;34m,\u001b[0m \u001b[0my_train\u001b[0m\u001b[0;34m,\u001b[0m \u001b[0mfeatures_test\u001b[0m\u001b[0;34m,\u001b[0m \u001b[0my_test\u001b[0m\u001b[0;34m,\u001b[0m \u001b[0mclass_labels\u001b[0m\u001b[0;34m,\u001b[0m \u001b[0mfraction\u001b[0m \u001b[0;34m=\u001b[0m \u001b[0mfraction\u001b[0m\u001b[0;34m)\u001b[0m\u001b[0;34m\u001b[0m\u001b[0m\n\u001b[0m",
      "\u001b[0;32m/scratch/users/rvignav/SimCLR/evaluate_features.py\u001b[0m in \u001b[0;36mlinear_classifier\u001b[0;34m(features_train, y_train, features_test, y_test, class_labels, fraction, test_size)\u001b[0m\n\u001b[1;32m    100\u001b[0m \u001b[0;34m\u001b[0m\u001b[0m\n\u001b[1;32m    101\u001b[0m     clf = LogisticRegressionCV(cv=5, max_iter=1000, verbose=0, n_jobs=8).fit(\n\u001b[0;32m--> 102\u001b[0;31m         \u001b[0mfeatures_train\u001b[0m\u001b[0;34m,\u001b[0m \u001b[0my_train\u001b[0m\u001b[0;34m\u001b[0m\u001b[0m\n\u001b[0m\u001b[1;32m    103\u001b[0m     )\n\u001b[1;32m    104\u001b[0m \u001b[0;34m\u001b[0m\u001b[0m\n",
      "\u001b[0;32m~/.local/lib/python3.6/site-packages/sklearn/linear_model/_logistic.py\u001b[0m in \u001b[0;36mfit\u001b[0;34m(self, X, y, sample_weight)\u001b[0m\n\u001b[1;32m   1897\u001b[0m                       \u001b[0ml1_ratio\u001b[0m\u001b[0;34m=\u001b[0m\u001b[0ml1_ratio\u001b[0m\u001b[0;34m\u001b[0m\u001b[0m\n\u001b[1;32m   1898\u001b[0m                       )\n\u001b[0;32m-> 1899\u001b[0;31m             \u001b[0;32mfor\u001b[0m \u001b[0mlabel\u001b[0m \u001b[0;32min\u001b[0m \u001b[0miter_encoded_labels\u001b[0m\u001b[0;34m\u001b[0m\u001b[0m\n\u001b[0m\u001b[1;32m   1900\u001b[0m             \u001b[0;32mfor\u001b[0m \u001b[0mtrain\u001b[0m\u001b[0;34m,\u001b[0m \u001b[0mtest\u001b[0m \u001b[0;32min\u001b[0m \u001b[0mfolds\u001b[0m\u001b[0;34m\u001b[0m\u001b[0m\n\u001b[1;32m   1901\u001b[0m             for l1_ratio in l1_ratios_)\n",
      "\u001b[0;32m~/.local/lib/python3.6/site-packages/joblib/parallel.py\u001b[0m in \u001b[0;36m__call__\u001b[0;34m(self, iterable)\u001b[0m\n\u001b[1;32m   1052\u001b[0m \u001b[0;34m\u001b[0m\u001b[0m\n\u001b[1;32m   1053\u001b[0m             \u001b[0;32mwith\u001b[0m \u001b[0mself\u001b[0m\u001b[0;34m.\u001b[0m\u001b[0m_backend\u001b[0m\u001b[0;34m.\u001b[0m\u001b[0mretrieval_context\u001b[0m\u001b[0;34m(\u001b[0m\u001b[0;34m)\u001b[0m\u001b[0;34m:\u001b[0m\u001b[0;34m\u001b[0m\u001b[0m\n\u001b[0;32m-> 1054\u001b[0;31m                 \u001b[0mself\u001b[0m\u001b[0;34m.\u001b[0m\u001b[0mretrieve\u001b[0m\u001b[0;34m(\u001b[0m\u001b[0;34m)\u001b[0m\u001b[0;34m\u001b[0m\u001b[0m\n\u001b[0m\u001b[1;32m   1055\u001b[0m             \u001b[0;31m# Make sure that we get a last message telling us we are done\u001b[0m\u001b[0;34m\u001b[0m\u001b[0;34m\u001b[0m\u001b[0m\n\u001b[1;32m   1056\u001b[0m             \u001b[0melapsed_time\u001b[0m \u001b[0;34m=\u001b[0m \u001b[0mtime\u001b[0m\u001b[0;34m.\u001b[0m\u001b[0mtime\u001b[0m\u001b[0;34m(\u001b[0m\u001b[0;34m)\u001b[0m \u001b[0;34m-\u001b[0m \u001b[0mself\u001b[0m\u001b[0;34m.\u001b[0m\u001b[0m_start_time\u001b[0m\u001b[0;34m\u001b[0m\u001b[0m\n",
      "\u001b[0;32m~/.local/lib/python3.6/site-packages/joblib/parallel.py\u001b[0m in \u001b[0;36mretrieve\u001b[0;34m(self)\u001b[0m\n\u001b[1;32m    931\u001b[0m             \u001b[0;32mtry\u001b[0m\u001b[0;34m:\u001b[0m\u001b[0;34m\u001b[0m\u001b[0m\n\u001b[1;32m    932\u001b[0m                 \u001b[0;32mif\u001b[0m \u001b[0mgetattr\u001b[0m\u001b[0;34m(\u001b[0m\u001b[0mself\u001b[0m\u001b[0;34m.\u001b[0m\u001b[0m_backend\u001b[0m\u001b[0;34m,\u001b[0m \u001b[0;34m'supports_timeout'\u001b[0m\u001b[0;34m,\u001b[0m \u001b[0;32mFalse\u001b[0m\u001b[0;34m)\u001b[0m\u001b[0;34m:\u001b[0m\u001b[0;34m\u001b[0m\u001b[0m\n\u001b[0;32m--> 933\u001b[0;31m                     \u001b[0mself\u001b[0m\u001b[0;34m.\u001b[0m\u001b[0m_output\u001b[0m\u001b[0;34m.\u001b[0m\u001b[0mextend\u001b[0m\u001b[0;34m(\u001b[0m\u001b[0mjob\u001b[0m\u001b[0;34m.\u001b[0m\u001b[0mget\u001b[0m\u001b[0;34m(\u001b[0m\u001b[0mtimeout\u001b[0m\u001b[0;34m=\u001b[0m\u001b[0mself\u001b[0m\u001b[0;34m.\u001b[0m\u001b[0mtimeout\u001b[0m\u001b[0;34m)\u001b[0m\u001b[0;34m)\u001b[0m\u001b[0;34m\u001b[0m\u001b[0m\n\u001b[0m\u001b[1;32m    934\u001b[0m                 \u001b[0;32melse\u001b[0m\u001b[0;34m:\u001b[0m\u001b[0;34m\u001b[0m\u001b[0m\n\u001b[1;32m    935\u001b[0m                     \u001b[0mself\u001b[0m\u001b[0;34m.\u001b[0m\u001b[0m_output\u001b[0m\u001b[0;34m.\u001b[0m\u001b[0mextend\u001b[0m\u001b[0;34m(\u001b[0m\u001b[0mjob\u001b[0m\u001b[0;34m.\u001b[0m\u001b[0mget\u001b[0m\u001b[0;34m(\u001b[0m\u001b[0;34m)\u001b[0m\u001b[0;34m)\u001b[0m\u001b[0;34m\u001b[0m\u001b[0m\n",
      "\u001b[0;32m~/.local/lib/python3.6/site-packages/joblib/_parallel_backends.py\u001b[0m in \u001b[0;36mwrap_future_result\u001b[0;34m(future, timeout)\u001b[0m\n\u001b[1;32m    540\u001b[0m         AsyncResults.get from multiprocessing.\"\"\"\n\u001b[1;32m    541\u001b[0m         \u001b[0;32mtry\u001b[0m\u001b[0;34m:\u001b[0m\u001b[0;34m\u001b[0m\u001b[0m\n\u001b[0;32m--> 542\u001b[0;31m             \u001b[0;32mreturn\u001b[0m \u001b[0mfuture\u001b[0m\u001b[0;34m.\u001b[0m\u001b[0mresult\u001b[0m\u001b[0;34m(\u001b[0m\u001b[0mtimeout\u001b[0m\u001b[0;34m=\u001b[0m\u001b[0mtimeout\u001b[0m\u001b[0;34m)\u001b[0m\u001b[0;34m\u001b[0m\u001b[0m\n\u001b[0m\u001b[1;32m    543\u001b[0m         \u001b[0;32mexcept\u001b[0m \u001b[0mCfTimeoutError\u001b[0m \u001b[0;32mas\u001b[0m \u001b[0me\u001b[0m\u001b[0;34m:\u001b[0m\u001b[0;34m\u001b[0m\u001b[0m\n\u001b[1;32m    544\u001b[0m             \u001b[0;32mraise\u001b[0m \u001b[0mTimeoutError\u001b[0m \u001b[0;32mfrom\u001b[0m \u001b[0me\u001b[0m\u001b[0;34m\u001b[0m\u001b[0m\n",
      "\u001b[0;32m/share/software/user/open/python/3.6.1/lib/python3.6/concurrent/futures/_base.py\u001b[0m in \u001b[0;36mresult\u001b[0;34m(self, timeout)\u001b[0m\n\u001b[1;32m    403\u001b[0m                 \u001b[0;32mraise\u001b[0m \u001b[0mCancelledError\u001b[0m\u001b[0;34m(\u001b[0m\u001b[0;34m)\u001b[0m\u001b[0;34m\u001b[0m\u001b[0m\n\u001b[1;32m    404\u001b[0m             \u001b[0;32melif\u001b[0m \u001b[0mself\u001b[0m\u001b[0;34m.\u001b[0m\u001b[0m_state\u001b[0m \u001b[0;34m==\u001b[0m \u001b[0mFINISHED\u001b[0m\u001b[0;34m:\u001b[0m\u001b[0;34m\u001b[0m\u001b[0m\n\u001b[0;32m--> 405\u001b[0;31m                 \u001b[0;32mreturn\u001b[0m \u001b[0mself\u001b[0m\u001b[0;34m.\u001b[0m\u001b[0m__get_result\u001b[0m\u001b[0;34m(\u001b[0m\u001b[0;34m)\u001b[0m\u001b[0;34m\u001b[0m\u001b[0m\n\u001b[0m\u001b[1;32m    406\u001b[0m             \u001b[0;32melse\u001b[0m\u001b[0;34m:\u001b[0m\u001b[0;34m\u001b[0m\u001b[0m\n\u001b[1;32m    407\u001b[0m                 \u001b[0;32mraise\u001b[0m \u001b[0mTimeoutError\u001b[0m\u001b[0;34m(\u001b[0m\u001b[0;34m)\u001b[0m\u001b[0;34m\u001b[0m\u001b[0m\n",
      "\u001b[0;32m/share/software/user/open/python/3.6.1/lib/python3.6/concurrent/futures/_base.py\u001b[0m in \u001b[0;36m__get_result\u001b[0;34m(self)\u001b[0m\n\u001b[1;32m    355\u001b[0m     \u001b[0;32mdef\u001b[0m \u001b[0m__get_result\u001b[0m\u001b[0;34m(\u001b[0m\u001b[0mself\u001b[0m\u001b[0;34m)\u001b[0m\u001b[0;34m:\u001b[0m\u001b[0;34m\u001b[0m\u001b[0m\n\u001b[1;32m    356\u001b[0m         \u001b[0;32mif\u001b[0m \u001b[0mself\u001b[0m\u001b[0;34m.\u001b[0m\u001b[0m_exception\u001b[0m\u001b[0;34m:\u001b[0m\u001b[0;34m\u001b[0m\u001b[0m\n\u001b[0;32m--> 357\u001b[0;31m             \u001b[0;32mraise\u001b[0m \u001b[0mself\u001b[0m\u001b[0;34m.\u001b[0m\u001b[0m_exception\u001b[0m\u001b[0;34m\u001b[0m\u001b[0m\n\u001b[0m\u001b[1;32m    358\u001b[0m         \u001b[0;32melse\u001b[0m\u001b[0;34m:\u001b[0m\u001b[0;34m\u001b[0m\u001b[0m\n\u001b[1;32m    359\u001b[0m             \u001b[0;32mreturn\u001b[0m \u001b[0mself\u001b[0m\u001b[0;34m.\u001b[0m\u001b[0m_result\u001b[0m\u001b[0;34m\u001b[0m\u001b[0m\n",
      "\u001b[0;31mTerminatedWorkerError\u001b[0m: A worker process managed by the executor was unexpectedly terminated. This could be caused by a segmentation fault while calling the function or by an excessive memory usage causing the Operating System to kill the worker.\n\nThe exit codes of the workers are {SIGKILL(-9)}"
     ]
    }
   ],
   "source": [
    "# Training logistic regression classifier on 3 fractions of the data\n",
    "# Optimal regularization is determined from a 5-fold cross-validation\n",
    "for fraction in fractions:\n",
    "    print(f\"    ==== {fraction * 100}% of the training data used ==== \\n\")\n",
    "    linear_classifier(features_train, y_train, features_test, y_test, class_labels, fraction = fraction)"
   ]
  },
  {
   "cell_type": "code",
   "execution_count": null,
   "metadata": {
    "collapsed": true
   },
   "outputs": [],
   "source": [
    "tSNE_vis(df_train, features_train, class_labels)"
   ]
  }
 ],
 "metadata": {
  "accelerator": "GPU",
  "colab": {
   "collapsed_sections": [],
   "name": "SimCLR.ipynb",
   "provenance": []
  },
  "kernelspec": {
   "display_name": "Python 3",
   "language": "python",
   "name": "python3"
  },
  "language_info": {
   "codemirror_mode": {
    "name": "ipython",
    "version": 3
   },
   "file_extension": ".py",
   "mimetype": "text/x-python",
   "name": "python",
   "nbconvert_exporter": "python",
   "pygments_lexer": "ipython3",
   "version": "3.6.1"
  }
 },
 "nbformat": 4,
 "nbformat_minor": 1
}
