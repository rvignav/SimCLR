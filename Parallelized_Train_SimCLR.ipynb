{
  "nbformat": 4,
  "nbformat_minor": 0,
  "metadata": {
    "accelerator": "GPU",
    "colab": {
      "name": "Parallelized_Train_SimCLR.ipynb",
      "provenance": [],
      "collapsed_sections": [],
      "include_colab_link": true
    },
    "kernelspec": {
      "display_name": "Python 3",
      "language": "python",
      "name": "python3"
    },
    "language_info": {
      "codemirror_mode": {
        "name": "ipython",
        "version": 3
      },
      "file_extension": ".py",
      "mimetype": "text/x-python",
      "name": "python",
      "nbconvert_exporter": "python",
      "pygments_lexer": "ipython3",
      "version": "3.6.1"
    }
  },
  "cells": [
    {
      "cell_type": "markdown",
      "metadata": {
        "id": "view-in-github",
        "colab_type": "text"
      },
      "source": [
        "<a href=\"https://colab.research.google.com/github/rvignav/SimCLR/blob/main/Parallelized_Train_SimCLR.ipynb\" target=\"_parent\"><img src=\"https://colab.research.google.com/assets/colab-badge.svg\" alt=\"Open In Colab\"/></a>"
      ]
    },
    {
      "cell_type": "code",
      "metadata": {
        "id": "AbWsyFIYHzFG",
        "outputId": "f077e849-ba60-4c4d-c3ce-637bec3de7bb"
      },
      "source": [
        "!nvidia-smi"
      ],
      "execution_count": null,
      "outputs": [
        {
          "name": "stdout",
          "output_type": "stream",
          "text": [
            "Tue Aug 10 22:32:04 2021       \n",
            "+-----------------------------------------------------------------------------+\n",
            "| NVIDIA-SMI 470.57.02    Driver Version: 470.57.02    CUDA Version: 11.4     |\n",
            "|-------------------------------+----------------------+----------------------+\n",
            "| GPU  Name        Persistence-M| Bus-Id        Disp.A | Volatile Uncorr. ECC |\n",
            "| Fan  Temp  Perf  Pwr:Usage/Cap|         Memory-Usage | GPU-Util  Compute M. |\n",
            "|                               |                      |               MIG M. |\n",
            "|===============================+======================+======================|\n",
            "|   0  Tesla P100-PCIE...  On   | 00000000:03:00.0 Off |                    0 |\n",
            "| N/A   32C    P0    30W / 250W |      0MiB / 16280MiB |      0%   E. Process |\n",
            "|                               |                      |                  N/A |\n",
            "+-------------------------------+----------------------+----------------------+\n",
            "|   1  Tesla P100-PCIE...  On   | 00000000:04:00.0 Off |                    0 |\n",
            "| N/A   31C    P0    25W / 250W |      0MiB / 16280MiB |      0%   E. Process |\n",
            "|                               |                      |                  N/A |\n",
            "+-------------------------------+----------------------+----------------------+\n",
            "|   2  Tesla P100-PCIE...  On   | 00000000:82:00.0 Off |                    0 |\n",
            "| N/A   28C    P0    26W / 250W |      0MiB / 16280MiB |      0%   E. Process |\n",
            "|                               |                      |                  N/A |\n",
            "+-------------------------------+----------------------+----------------------+\n",
            "                                                                               \n",
            "+-----------------------------------------------------------------------------+\n",
            "| Processes:                                                                  |\n",
            "|  GPU   GI   CI        PID   Type   Process name                  GPU Memory |\n",
            "|        ID   ID                                                   Usage      |\n",
            "|=============================================================================|\n",
            "|  No running processes found                                                 |\n",
            "+-----------------------------------------------------------------------------+\n"
          ]
        }
      ]
    },
    {
      "cell_type": "code",
      "metadata": {
        "colab": {
          "base_uri": "https://localhost:8080/",
          "height": 1000
        },
        "id": "hsi65mRTMl0G",
        "outputId": "41358587-0610-4318-9c8e-eb33749a81a2"
      },
      "source": [
        "%cd /scratch/users/rvignav/SimCLR\n",
        "!pip install -r requirements.txt"
      ],
      "execution_count": null,
      "outputs": [
        {
          "name": "stdout",
          "output_type": "stream",
          "text": [
            "/scratch/users/rvignav/SimCLR\n",
            "Defaulting to user installation because normal site-packages is not writeable\n",
            "Requirement already satisfied: jupyterlab==2.0.1 in /home/users/rvignav/.local/lib/python3.6/site-packages (from -r requirements.txt (line 1)) (2.0.1)\n",
            "Requirement already satisfied: Keras==2.3.1 in /share/software/user/open/py-keras/2.3.1_py36/lib/python3.6/site-packages (from -r requirements.txt (line 2)) (2.3.1)\n",
            "Requirement already satisfied: tensorflow==2.1 in /share/software/user/open/py-tensorflow/2.1.0_py36/lib/python3.6/site-packages (from -r requirements.txt (line 3)) (2.1.0)\n",
            "Requirement already satisfied: opencv-python==4.2.0.32 in /home/users/rvignav/.local/lib/python3.6/site-packages (from -r requirements.txt (line 4)) (4.2.0.32)\n",
            "Requirement already satisfied: scikit-learn==0.23.1 in /home/users/rvignav/.local/lib/python3.6/site-packages (from -r requirements.txt (line 5)) (0.23.1)\n",
            "Requirement already satisfied: scipy==1.4.1 in /share/software/user/open/py-scipy/1.4.1_py36/lib/python3.6/site-packages (from -r requirements.txt (line 6)) (1.4.1)\n",
            "Requirement already satisfied: numpy==1.18.1 in /share/software/user/open/py-numpy/1.18.1_py36/lib/python3.6/site-packages (from -r requirements.txt (line 7)) (1.18.1)\n",
            "Requirement already satisfied: DateTime==4.3 in /home/users/rvignav/.local/lib/python3.6/site-packages (from -r requirements.txt (line 8)) (4.3)\n",
            "Requirement already satisfied: pandas==0.22.0 in /home/users/rvignav/.local/lib/python3.6/site-packages (from -r requirements.txt (line 9)) (0.22.0)\n",
            "Collecting jinja2>=2.10\n",
            "  Using cached Jinja2-3.0.1-py3-none-any.whl (133 kB)\n",
            "Requirement already satisfied: notebook>=4.3.1 in /share/software/user/open/py-jupyter/1.0.0_py36/lib/python3.6/site-packages (from jupyterlab==2.0.1->-r requirements.txt (line 1)) (5.0.0)\n",
            "Requirement already satisfied: jupyterlab-server~=1.0.0 in /home/users/rvignav/.local/lib/python3.6/site-packages (from jupyterlab==2.0.1->-r requirements.txt (line 1)) (1.0.9)\n",
            "Requirement already satisfied: tornado!=6.0.0,!=6.0.1,!=6.0.2 in /share/software/user/open/py-jupyter/1.0.0_py36/lib/python3.6/site-packages (from jupyterlab==2.0.1->-r requirements.txt (line 1)) (4.5.1)\n",
            "Requirement already satisfied: pyyaml in /share/software/user/open/py-keras/2.3.1_py36/lib/python3.6/site-packages (from Keras==2.3.1->-r requirements.txt (line 2)) (5.3)\n",
            "Requirement already satisfied: keras-applications>=1.0.6 in /share/software/user/open/py-keras/2.3.1_py36/lib/python3.6/site-packages (from Keras==2.3.1->-r requirements.txt (line 2)) (1.0.8)\n",
            "Requirement already satisfied: h5py in /share/software/user/open/py-h5py/2.10.0_py36/lib/python3.6/site-packages (from Keras==2.3.1->-r requirements.txt (line 2)) (2.10.0)\n",
            "Requirement already satisfied: six>=1.9.0 in /share/software/user/open/py-h5py/2.10.0_py36/lib/python3.6/site-packages (from Keras==2.3.1->-r requirements.txt (line 2)) (1.14.0)\n",
            "Requirement already satisfied: keras-preprocessing>=1.0.5 in /share/software/user/open/py-keras/2.3.1_py36/lib/python3.6/site-packages (from Keras==2.3.1->-r requirements.txt (line 2)) (1.1.0)\n",
            "Requirement already satisfied: wheel>=0.26 in /share/software/user/open/python/3.6.1/lib/python3.6/site-packages (from tensorflow==2.1->-r requirements.txt (line 3)) (0.32.3)\n",
            "Requirement already satisfied: grpcio>=1.8.6 in /share/software/user/open/py-tensorflow/2.1.0_py36/lib/python3.6/site-packages (from tensorflow==2.1->-r requirements.txt (line 3)) (1.27.2)\n",
            "Requirement already satisfied: wrapt>=1.11.1 in /share/software/user/open/py-tensorflow/2.1.0_py36/lib/python3.6/site-packages (from tensorflow==2.1->-r requirements.txt (line 3)) (1.12.1)\n",
            "Requirement already satisfied: tensorboard<2.2.0,>=2.1.0 in /share/software/user/open/py-tensorflow/2.1.0_py36/lib/python3.6/site-packages (from tensorflow==2.1->-r requirements.txt (line 3)) (2.1.1)\n",
            "Requirement already satisfied: termcolor>=1.1.0 in /share/software/user/open/py-tensorflow/2.1.0_py36/lib/python3.6/site-packages (from tensorflow==2.1->-r requirements.txt (line 3)) (1.1.0)\n",
            "Requirement already satisfied: protobuf>=3.8.0 in /share/software/user/open/py-tensorflow/2.1.0_py36/lib/python3.6/site-packages (from tensorflow==2.1->-r requirements.txt (line 3)) (3.11.3)\n",
            "Requirement already satisfied: astor>=0.6.0 in /share/software/user/open/py-tensorflow/2.1.0_py36/lib/python3.6/site-packages (from tensorflow==2.1->-r requirements.txt (line 3)) (0.8.1)\n",
            "Requirement already satisfied: tensorflow-estimator<2.2.0,>=2.1.0rc0 in /share/software/user/open/py-tensorflow/2.1.0_py36/lib/python3.6/site-packages (from tensorflow==2.1->-r requirements.txt (line 3)) (2.1.0)\n",
            "Requirement already satisfied: gast==0.2.2 in /share/software/user/open/py-tensorflow/2.1.0_py36/lib/python3.6/site-packages (from tensorflow==2.1->-r requirements.txt (line 3)) (0.2.2)\n",
            "Requirement already satisfied: google-pasta>=0.1.6 in /share/software/user/open/py-tensorflow/2.1.0_py36/lib/python3.6/site-packages (from tensorflow==2.1->-r requirements.txt (line 3)) (0.2.0)\n",
            "Requirement already satisfied: opt-einsum>=2.3.2 in /share/software/user/open/py-tensorflow/2.1.0_py36/lib/python3.6/site-packages (from tensorflow==2.1->-r requirements.txt (line 3)) (3.2.0)\n",
            "Requirement already satisfied: absl-py>=0.7.0 in /share/software/user/open/py-tensorflow/2.1.0_py36/lib/python3.6/site-packages (from tensorflow==2.1->-r requirements.txt (line 3)) (0.9.0)\n",
            "Requirement already satisfied: threadpoolctl>=2.0.0 in /home/users/rvignav/.local/lib/python3.6/site-packages (from scikit-learn==0.23.1->-r requirements.txt (line 5)) (2.1.0)\n",
            "Requirement already satisfied: joblib>=0.11 in /home/users/rvignav/.local/lib/python3.6/site-packages (from scikit-learn==0.23.1->-r requirements.txt (line 5)) (1.0.0)\n",
            "Requirement already satisfied: zope.interface in /home/users/rvignav/.local/lib/python3.6/site-packages (from DateTime==4.3->-r requirements.txt (line 8)) (5.4.0)\n",
            "Requirement already satisfied: pytz in /home/users/rvignav/.local/lib/python3.6/site-packages (from DateTime==4.3->-r requirements.txt (line 8)) (2020.5)\n",
            "Requirement already satisfied: python-dateutil>=2 in /share/software/user/open/py-jupyter/1.0.0_py36/lib/python3.6/site-packages (from pandas==0.22.0->-r requirements.txt (line 9)) (2.6.1)\n",
            "Collecting MarkupSafe>=2.0\n",
            "  Using cached MarkupSafe-2.0.1-cp36-cp36m-manylinux2010_x86_64.whl (30 kB)\n",
            "Collecting jsonschema>=3.0.1\n",
            "  Using cached jsonschema-3.2.0-py2.py3-none-any.whl (56 kB)\n",
            "Requirement already satisfied: json5 in /home/users/rvignav/.local/lib/python3.6/site-packages (from jupyterlab-server~=1.0.0->jupyterlab==2.0.1->-r requirements.txt (line 1)) (0.9.6)\n",
            "Requirement already satisfied: setuptools in /share/software/user/open/py-tensorflow/2.1.0_py36/lib/python3.6/site-packages (from jsonschema>=3.0.1->jupyterlab-server~=1.0.0->jupyterlab==2.0.1->-r requirements.txt (line 1)) (46.0.0)\n",
            "Requirement already satisfied: attrs>=17.4.0 in /home/users/rvignav/.local/lib/python3.6/site-packages (from jsonschema>=3.0.1->jupyterlab-server~=1.0.0->jupyterlab==2.0.1->-r requirements.txt (line 1)) (21.2.0)\n",
            "Requirement already satisfied: importlib-metadata in /home/users/rvignav/.local/lib/python3.6/site-packages (from jsonschema>=3.0.1->jupyterlab-server~=1.0.0->jupyterlab==2.0.1->-r requirements.txt (line 1)) (3.10.0)\n",
            "Requirement already satisfied: pyrsistent>=0.14.0 in /home/users/rvignav/.local/lib/python3.6/site-packages (from jsonschema>=3.0.1->jupyterlab-server~=1.0.0->jupyterlab==2.0.1->-r requirements.txt (line 1)) (0.18.0)\n",
            "Requirement already satisfied: nbconvert in /share/software/user/open/py-jupyter/1.0.0_py36/lib/python3.6/site-packages (from notebook>=4.3.1->jupyterlab==2.0.1->-r requirements.txt (line 1)) (5.2.1)\n",
            "Requirement already satisfied: terminado>=0.3.3 in /share/software/user/open/py-jupyter/1.0.0_py36/lib/python3.6/site-packages (from notebook>=4.3.1->jupyterlab==2.0.1->-r requirements.txt (line 1)) (0.6)\n",
            "Requirement already satisfied: jupyter-core in /share/software/user/open/py-jupyter/1.0.0_py36/lib/python3.6/site-packages (from notebook>=4.3.1->jupyterlab==2.0.1->-r requirements.txt (line 1)) (4.3.0)\n",
            "Requirement already satisfied: nbformat in /share/software/user/open/py-jupyter/1.0.0_py36/lib/python3.6/site-packages (from notebook>=4.3.1->jupyterlab==2.0.1->-r requirements.txt (line 1)) (4.3.0)\n",
            "Requirement already satisfied: ipython-genutils in /share/software/user/open/py-jupyter/1.0.0_py36/lib/python3.6/site-packages (from notebook>=4.3.1->jupyterlab==2.0.1->-r requirements.txt (line 1)) (0.2.0)\n",
            "Requirement already satisfied: traitlets>=4.2.1 in /share/software/user/open/py-jupyter/1.0.0_py36/lib/python3.6/site-packages (from notebook>=4.3.1->jupyterlab==2.0.1->-r requirements.txt (line 1)) (4.3.2)\n",
            "Requirement already satisfied: ipykernel in /share/software/user/open/py-jupyter/1.0.0_py36/lib/python3.6/site-packages (from notebook>=4.3.1->jupyterlab==2.0.1->-r requirements.txt (line 1)) (4.6.1)\n"
          ]
        },
        {
          "name": "stdout",
          "output_type": "stream",
          "text": [
            "Requirement already satisfied: jupyter-client in /share/software/user/open/py-jupyter/1.0.0_py36/lib/python3.6/site-packages (from notebook>=4.3.1->jupyterlab==2.0.1->-r requirements.txt (line 1)) (5.1.0)\n",
            "Requirement already satisfied: requests<3,>=2.21.0 in /share/software/user/open/py-tensorflow/2.1.0_py36/lib/python3.6/site-packages (from tensorboard<2.2.0,>=2.1.0->tensorflow==2.1->-r requirements.txt (line 3)) (2.23.0)\n",
            "Requirement already satisfied: markdown>=2.6.8 in /share/software/user/open/py-tensorflow/2.1.0_py36/lib/python3.6/site-packages (from tensorboard<2.2.0,>=2.1.0->tensorflow==2.1->-r requirements.txt (line 3)) (3.2.1)\n",
            "Requirement already satisfied: werkzeug>=0.11.15 in /share/software/user/open/py-tensorflow/2.1.0_py36/lib/python3.6/site-packages (from tensorboard<2.2.0,>=2.1.0->tensorflow==2.1->-r requirements.txt (line 3)) (1.0.0)\n",
            "Requirement already satisfied: google-auth<2,>=1.6.3 in /share/software/user/open/py-tensorflow/2.1.0_py36/lib/python3.6/site-packages (from tensorboard<2.2.0,>=2.1.0->tensorflow==2.1->-r requirements.txt (line 3)) (1.11.3)\n",
            "Requirement already satisfied: google-auth-oauthlib<0.5,>=0.4.1 in /share/software/user/open/py-tensorflow/2.1.0_py36/lib/python3.6/site-packages (from tensorboard<2.2.0,>=2.1.0->tensorflow==2.1->-r requirements.txt (line 3)) (0.4.1)\n",
            "Requirement already satisfied: cachetools<5.0,>=2.0.0 in /share/software/user/open/py-tensorflow/2.1.0_py36/lib/python3.6/site-packages (from google-auth<2,>=1.6.3->tensorboard<2.2.0,>=2.1.0->tensorflow==2.1->-r requirements.txt (line 3)) (4.0.0)\n",
            "Requirement already satisfied: pyasn1-modules>=0.2.1 in /share/software/user/open/py-tensorflow/2.1.0_py36/lib/python3.6/site-packages (from google-auth<2,>=1.6.3->tensorboard<2.2.0,>=2.1.0->tensorflow==2.1->-r requirements.txt (line 3)) (0.2.8)\n",
            "Requirement already satisfied: rsa<4.1,>=3.1.4 in /share/software/user/open/py-tensorflow/2.1.0_py36/lib/python3.6/site-packages (from google-auth<2,>=1.6.3->tensorboard<2.2.0,>=2.1.0->tensorflow==2.1->-r requirements.txt (line 3)) (4.0)\n",
            "Requirement already satisfied: requests-oauthlib>=0.7.0 in /share/software/user/open/py-tensorflow/2.1.0_py36/lib/python3.6/site-packages (from google-auth-oauthlib<0.5,>=0.4.1->tensorboard<2.2.0,>=2.1.0->tensorflow==2.1->-r requirements.txt (line 3)) (1.3.0)\n",
            "Requirement already satisfied: pyasn1<0.5.0,>=0.4.6 in /share/software/user/open/py-tensorflow/2.1.0_py36/lib/python3.6/site-packages (from pyasn1-modules>=0.2.1->google-auth<2,>=1.6.3->tensorboard<2.2.0,>=2.1.0->tensorflow==2.1->-r requirements.txt (line 3)) (0.4.8)\n",
            "Requirement already satisfied: chardet<4,>=3.0.2 in /share/software/user/open/py-tensorflow/2.1.0_py36/lib/python3.6/site-packages (from requests<3,>=2.21.0->tensorboard<2.2.0,>=2.1.0->tensorflow==2.1->-r requirements.txt (line 3)) (3.0.4)\n",
            "Requirement already satisfied: urllib3!=1.25.0,!=1.25.1,<1.26,>=1.21.1 in /share/software/user/open/py-tensorflow/2.1.0_py36/lib/python3.6/site-packages (from requests<3,>=2.21.0->tensorboard<2.2.0,>=2.1.0->tensorflow==2.1->-r requirements.txt (line 3)) (1.25.8)\n",
            "Requirement already satisfied: certifi>=2017.4.17 in /share/software/user/open/py-tensorflow/2.1.0_py36/lib/python3.6/site-packages (from requests<3,>=2.21.0->tensorboard<2.2.0,>=2.1.0->tensorflow==2.1->-r requirements.txt (line 3)) (2019.11.28)\n",
            "Requirement already satisfied: idna<3,>=2.5 in /share/software/user/open/py-tensorflow/2.1.0_py36/lib/python3.6/site-packages (from requests<3,>=2.21.0->tensorboard<2.2.0,>=2.1.0->tensorflow==2.1->-r requirements.txt (line 3)) (2.9)\n",
            "Requirement already satisfied: oauthlib>=3.0.0 in /share/software/user/open/py-tensorflow/2.1.0_py36/lib/python3.6/site-packages (from requests-oauthlib>=0.7.0->google-auth-oauthlib<0.5,>=0.4.1->tensorboard<2.2.0,>=2.1.0->tensorflow==2.1->-r requirements.txt (line 3)) (3.1.0)\n",
            "Requirement already satisfied: ptyprocess in /share/software/user/open/py-jupyter/1.0.0_py36/lib/python3.6/site-packages (from terminado>=0.3.3->notebook>=4.3.1->jupyterlab==2.0.1->-r requirements.txt (line 1)) (0.5.2)\n",
            "Requirement already satisfied: decorator in /share/software/user/open/py-jupyter/1.0.0_py36/lib/python3.6/site-packages (from traitlets>=4.2.1->notebook>=4.3.1->jupyterlab==2.0.1->-r requirements.txt (line 1)) (4.1.2)\n",
            "Requirement already satisfied: zipp>=0.5 in /home/users/rvignav/.local/lib/python3.6/site-packages (from importlib-metadata->jsonschema>=3.0.1->jupyterlab-server~=1.0.0->jupyterlab==2.0.1->-r requirements.txt (line 1)) (3.4.0)\n",
            "Requirement already satisfied: typing-extensions>=3.6.4 in /home/users/rvignav/.local/lib/python3.6/site-packages (from importlib-metadata->jsonschema>=3.0.1->jupyterlab-server~=1.0.0->jupyterlab==2.0.1->-r requirements.txt (line 1)) (3.7.4.3)\n",
            "Requirement already satisfied: ipython>=4.0.0 in /share/software/user/open/py-jupyter/1.0.0_py36/lib/python3.6/site-packages (from ipykernel->notebook>=4.3.1->jupyterlab==2.0.1->-r requirements.txt (line 1)) (6.1.0)\n",
            "Requirement already satisfied: pickleshare in /share/software/user/open/py-jupyter/1.0.0_py36/lib/python3.6/site-packages (from ipython>=4.0.0->ipykernel->notebook>=4.3.1->jupyterlab==2.0.1->-r requirements.txt (line 1)) (0.7.4)\n",
            "Requirement already satisfied: simplegeneric>0.8 in /share/software/user/open/py-jupyter/1.0.0_py36/lib/python3.6/site-packages (from ipython>=4.0.0->ipykernel->notebook>=4.3.1->jupyterlab==2.0.1->-r requirements.txt (line 1)) (0.8.1)\n",
            "Requirement already satisfied: jedi>=0.10 in /share/software/user/open/py-jupyter/1.0.0_py36/lib/python3.6/site-packages (from ipython>=4.0.0->ipykernel->notebook>=4.3.1->jupyterlab==2.0.1->-r requirements.txt (line 1)) (0.10.2)\n",
            "Requirement already satisfied: pexpect in /share/software/user/open/py-jupyter/1.0.0_py36/lib/python3.6/site-packages (from ipython>=4.0.0->ipykernel->notebook>=4.3.1->jupyterlab==2.0.1->-r requirements.txt (line 1)) (4.2.1)\n",
            "Requirement already satisfied: prompt-toolkit<2.0.0,>=1.0.4 in /share/software/user/open/py-jupyter/1.0.0_py36/lib/python3.6/site-packages (from ipython>=4.0.0->ipykernel->notebook>=4.3.1->jupyterlab==2.0.1->-r requirements.txt (line 1)) (1.0.15)\n",
            "Requirement already satisfied: pygments in /share/software/user/open/py-jupyter/1.0.0_py36/lib/python3.6/site-packages (from ipython>=4.0.0->ipykernel->notebook>=4.3.1->jupyterlab==2.0.1->-r requirements.txt (line 1)) (2.2.0)\n",
            "Requirement already satisfied: wcwidth in /share/software/user/open/py-jupyter/1.0.0_py36/lib/python3.6/site-packages (from prompt-toolkit<2.0.0,>=1.0.4->ipython>=4.0.0->ipykernel->notebook>=4.3.1->jupyterlab==2.0.1->-r requirements.txt (line 1)) (0.1.7)\n",
            "Requirement already satisfied: pyzmq>=13 in /share/software/user/open/py-jupyter/1.0.0_py36/lib/python3.6/site-packages (from jupyter-client->notebook>=4.3.1->jupyterlab==2.0.1->-r requirements.txt (line 1)) (16.0.2)\n",
            "Requirement already satisfied: testpath in /share/software/user/open/py-jupyter/1.0.0_py36/lib/python3.6/site-packages (from nbconvert->notebook>=4.3.1->jupyterlab==2.0.1->-r requirements.txt (line 1)) (0.3.1)\n",
            "Requirement already satisfied: pandocfilters>=1.4.1 in /share/software/user/open/py-jupyter/1.0.0_py36/lib/python3.6/site-packages (from nbconvert->notebook>=4.3.1->jupyterlab==2.0.1->-r requirements.txt (line 1)) (1.4.2)\n",
            "Requirement already satisfied: bleach in /share/software/user/open/py-jupyter/1.0.0_py36/lib/python3.6/site-packages (from nbconvert->notebook>=4.3.1->jupyterlab==2.0.1->-r requirements.txt (line 1)) (2.0.0)\n",
            "Requirement already satisfied: entrypoints>=0.2.2 in /share/software/user/open/py-jupyter/1.0.0_py36/lib/python3.6/site-packages (from nbconvert->notebook>=4.3.1->jupyterlab==2.0.1->-r requirements.txt (line 1)) (0.2.3)\n",
            "Requirement already satisfied: mistune!=0.6 in /share/software/user/open/py-jupyter/1.0.0_py36/lib/python3.6/site-packages (from nbconvert->notebook>=4.3.1->jupyterlab==2.0.1->-r requirements.txt (line 1)) (0.7.4)\n",
            "Requirement already satisfied: html5lib>=0.99999999 in /share/software/user/open/py-jupyter/1.0.0_py36/lib/python3.6/site-packages (from bleach->nbconvert->notebook>=4.3.1->jupyterlab==2.0.1->-r requirements.txt (line 1)) (0.999999999)\n",
            "Requirement already satisfied: webencodings in /share/software/user/open/py-jupyter/1.0.0_py36/lib/python3.6/site-packages (from html5lib>=0.99999999->bleach->nbconvert->notebook>=4.3.1->jupyterlab==2.0.1->-r requirements.txt (line 1)) (0.5.1)\n"
          ]
        },
        {
          "name": "stdout",
          "output_type": "stream",
          "text": [
            "Installing collected packages: MarkupSafe, jsonschema, jinja2\n",
            "Successfully installed MarkupSafe-2.0.1 jinja2-3.0.1 jsonschema-3.2.0\n",
            "\u001b[33mWARNING: You are using pip version 21.2.2; however, version 21.2.3 is available.\n",
            "You should consider upgrading via the '/share/software/user/open/python/3.6.1/bin/python3.6 -m pip install --upgrade pip' command.\u001b[0m\n"
          ]
        }
      ]
    },
    {
      "cell_type": "code",
      "metadata": {
        "collapsed": true,
        "id": "YqzIOfEZMl0R"
      },
      "source": [
        "import numpy as np\n",
        "import pickle\n",
        "import pandas as pd\n",
        "\n",
        "from sklearn.model_selection import train_test_split\n",
        "from tensorflow.keras.applications.vgg16 import VGG16 \n",
        "\n",
        "from evaluate_features import get_features, linear_classifier, tSNE_vis"
      ],
      "execution_count": null,
      "outputs": []
    },
    {
      "cell_type": "markdown",
      "metadata": {
        "id": "HbpMmt6uMl0Z"
      },
      "source": [
        "# Load Dataframe"
      ]
    },
    {
      "cell_type": "code",
      "metadata": {
        "colab": {
          "base_uri": "https://localhost:8080/",
          "height": 476
        },
        "id": "fRGSbHANMl0a",
        "outputId": "239c1f7a-cb80-460b-9384-2898bcd7176f"
      },
      "source": [
        "import csv\n",
        "class_labels = [\"none\", \"mild\", \"moderate\", \"severe\", \"proliferative\"]\n",
        "\n",
        "csv_file = open('/scratch/users/rvignav/SimCLR/data/trainLabels.csv', mode='r')\n",
        "d = csv.DictReader(csv_file)\n",
        "\n",
        "fname = []\n",
        "label = []\n",
        "one_hot = []\n",
        "\n",
        "for row in d:\n",
        "    fname.append('/scratch/users/rvignav/SimCLR/data/train/' + row['image'] + '.jpeg')\n",
        "    l = int(row['level'])\n",
        "    label.append(class_labels[l])\n",
        "    arr = [0, 0, 0, 0, 0]\n",
        "    arr[l] = 1\n",
        "    one_hot.append(arr)\n",
        "\n",
        "df = pd.DataFrame({\"filename\": fname, \"class_label\": label, \"class_one_hot\": one_hot})\n",
        "\n",
        "df.head()"
      ],
      "execution_count": null,
      "outputs": [
        {
          "data": {
            "text/html": [
              "<div>\n",
              "<style scoped>\n",
              "    .dataframe tbody tr th:only-of-type {\n",
              "        vertical-align: middle;\n",
              "    }\n",
              "\n",
              "    .dataframe tbody tr th {\n",
              "        vertical-align: top;\n",
              "    }\n",
              "\n",
              "    .dataframe thead th {\n",
              "        text-align: right;\n",
              "    }\n",
              "</style>\n",
              "<table border=\"1\" class=\"dataframe\">\n",
              "  <thead>\n",
              "    <tr style=\"text-align: right;\">\n",
              "      <th></th>\n",
              "      <th>class_label</th>\n",
              "      <th>class_one_hot</th>\n",
              "      <th>filename</th>\n",
              "    </tr>\n",
              "  </thead>\n",
              "  <tbody>\n",
              "    <tr>\n",
              "      <th>0</th>\n",
              "      <td>none</td>\n",
              "      <td>[1, 0, 0, 0, 0]</td>\n",
              "      <td>/scratch/users/rvignav/SimCLR/data/train/10_le...</td>\n",
              "    </tr>\n",
              "    <tr>\n",
              "      <th>1</th>\n",
              "      <td>none</td>\n",
              "      <td>[1, 0, 0, 0, 0]</td>\n",
              "      <td>/scratch/users/rvignav/SimCLR/data/train/10_ri...</td>\n",
              "    </tr>\n",
              "    <tr>\n",
              "      <th>2</th>\n",
              "      <td>none</td>\n",
              "      <td>[1, 0, 0, 0, 0]</td>\n",
              "      <td>/scratch/users/rvignav/SimCLR/data/train/13_le...</td>\n",
              "    </tr>\n",
              "    <tr>\n",
              "      <th>3</th>\n",
              "      <td>none</td>\n",
              "      <td>[1, 0, 0, 0, 0]</td>\n",
              "      <td>/scratch/users/rvignav/SimCLR/data/train/13_ri...</td>\n",
              "    </tr>\n",
              "    <tr>\n",
              "      <th>4</th>\n",
              "      <td>mild</td>\n",
              "      <td>[0, 1, 0, 0, 0]</td>\n",
              "      <td>/scratch/users/rvignav/SimCLR/data/train/15_le...</td>\n",
              "    </tr>\n",
              "  </tbody>\n",
              "</table>\n",
              "</div>"
            ],
            "text/plain": [
              "  class_label    class_one_hot  \\\n",
              "0        none  [1, 0, 0, 0, 0]   \n",
              "1        none  [1, 0, 0, 0, 0]   \n",
              "2        none  [1, 0, 0, 0, 0]   \n",
              "3        none  [1, 0, 0, 0, 0]   \n",
              "4        mild  [0, 1, 0, 0, 0]   \n",
              "\n",
              "                                            filename  \n",
              "0  /scratch/users/rvignav/SimCLR/data/train/10_le...  \n",
              "1  /scratch/users/rvignav/SimCLR/data/train/10_ri...  \n",
              "2  /scratch/users/rvignav/SimCLR/data/train/13_le...  \n",
              "3  /scratch/users/rvignav/SimCLR/data/train/13_ri...  \n",
              "4  /scratch/users/rvignav/SimCLR/data/train/15_le...  "
            ]
          },
          "execution_count": 4,
          "metadata": {},
          "output_type": "execute_result"
        }
      ]
    },
    {
      "cell_type": "code",
      "metadata": {
        "colab": {
          "base_uri": "https://localhost:8080/"
        },
        "id": "c-YZpNjEMl0g",
        "outputId": "902ed152-b99e-414f-f83c-47a2aa8c10cd"
      },
      "source": [
        "num_classes = len(df['class_one_hot'][0])\n",
        "\n",
        "print(\"# of training instances:\", len(df.index), \"\\n\")\n",
        "for label in class_labels:\n",
        "    print(f\"# of '{label}' training instances: {(df.class_label == label).sum()}\")"
      ],
      "execution_count": null,
      "outputs": [
        {
          "name": "stdout",
          "output_type": "stream",
          "text": [
            "# of training instances: 35126 \n",
            "\n",
            "# of 'none' training instances: 25810\n",
            "# of 'mild' training instances: 2443\n",
            "# of 'moderate' training instances: 5292\n",
            "# of 'severe' training instances: 873\n",
            "# of 'proliferative' training instances: 708\n"
          ]
        }
      ]
    },
    {
      "cell_type": "code",
      "metadata": {
        "colab": {
          "base_uri": "https://localhost:8080/"
        },
        "id": "d2qU1NriMl0n",
        "outputId": "cf6afe2a-990a-4fe7-c1d1-d9b429896dbb"
      },
      "source": [
        "df_train, df_val_test = train_test_split(df, test_size=0.30, random_state=42, shuffle=True)\n",
        "df_val, df_test = train_test_split(df_val_test, test_size=0.50, random_state=42, shuffle=True)\n",
        "\n",
        "print(\"# of training instances:\", len(df_train.index), \"\\n\")\n",
        "for label in class_labels:\n",
        "    print(f\"# of '{label}' training instances: {(df_train.class_label == label).sum()}\")\n",
        "    \n",
        "print()\n",
        "print(\"# of validation instances:\", len(df_val.index), \"\\n\")\n",
        "for label in class_labels:\n",
        "    print(f\"# of '{label}' training instances: {(df_val.class_label == label).sum()}\")\n",
        "\n",
        "print()\n",
        "print(\"# of test instances:\", len(df_test.index), \"\\n\")\n",
        "for label in class_labels:\n",
        "    print(f\"# of '{label}' training instances: {(df_test.class_label == label).sum()}\")\n",
        "    \n",
        "dfs = {\n",
        "    \"train\": df_train,\n",
        "    \"val\": df_val,\n",
        "    \"test\": df_test\n",
        "}"
      ],
      "execution_count": null,
      "outputs": [
        {
          "name": "stdout",
          "output_type": "stream",
          "text": [
            "# of training instances: 24588 \n",
            "\n",
            "# of 'none' training instances: 18045\n",
            "# of 'mild' training instances: 1725\n",
            "# of 'moderate' training instances: 3707\n",
            "# of 'severe' training instances: 621\n",
            "# of 'proliferative' training instances: 490\n",
            "\n",
            "# of validation instances: 5269 \n",
            "\n",
            "# of 'none' training instances: 3877\n",
            "# of 'mild' training instances: 358\n",
            "# of 'moderate' training instances: 781\n",
            "# of 'severe' training instances: 134\n",
            "# of 'proliferative' training instances: 119\n",
            "\n",
            "# of test instances: 5269 \n",
            "\n",
            "# of 'none' training instances: 3888\n",
            "# of 'mild' training instances: 360\n",
            "# of 'moderate' training instances: 804\n",
            "# of 'severe' training instances: 118\n",
            "# of 'proliferative' training instances: 99\n"
          ]
        }
      ]
    },
    {
      "cell_type": "code",
      "metadata": {
        "collapsed": true,
        "id": "N9GgCItGMl0u"
      },
      "source": [
        "# Img size\n",
        "size = 128\n",
        "height_img = size\n",
        "width_img = size\n",
        "\n",
        "input_shape = (height_img, width_img, 3)"
      ],
      "execution_count": null,
      "outputs": []
    },
    {
      "cell_type": "markdown",
      "metadata": {
        "id": "yYrLvS3iMl0y"
      },
      "source": [
        "# Load pretrained VGG16 & Feature evaluation"
      ]
    },
    {
      "cell_type": "code",
      "metadata": {
        "colab": {
          "base_uri": "https://localhost:8080/"
        },
        "id": "4z587NS5Ml00",
        "outputId": "29908c5e-b50b-4eb1-e33d-cbb4f0c787f0"
      },
      "source": [
        "import tensorflow as tf\n",
        "strategy = tf.distribute.MirroredStrategy()\n",
        "print('Number of devices: {}'.format(strategy.num_replicas_in_sync))\n",
        "\n",
        "with strategy.scope():\n",
        "    params_vgg16 = {'weights': \"imagenet\", \n",
        "                'include_top': False, \n",
        "                'input_shape': input_shape, \n",
        "                'pooling': None}\n",
        "    # Design model\n",
        "    base_model = VGG16(**params_vgg16)\n",
        "base_model.summary()"
      ],
      "execution_count": null,
      "outputs": [
        {
          "name": "stdout",
          "output_type": "stream",
          "text": [
            "INFO:tensorflow:Using MirroredStrategy with devices ('/job:localhost/replica:0/task:0/device:GPU:0', '/job:localhost/replica:0/task:0/device:GPU:1', '/job:localhost/replica:0/task:0/device:GPU:2')\n",
            "Number of devices: 3\n",
            "Model: \"vgg16\"\n",
            "_________________________________________________________________\n",
            "Layer (type)                 Output Shape              Param #   \n",
            "=================================================================\n",
            "input_1 (InputLayer)         [(None, 128, 128, 3)]     0         \n",
            "_________________________________________________________________\n",
            "block1_conv1 (Conv2D)        (None, 128, 128, 64)      1792      \n",
            "_________________________________________________________________\n",
            "block1_conv2 (Conv2D)        (None, 128, 128, 64)      36928     \n",
            "_________________________________________________________________\n",
            "block1_pool (MaxPooling2D)   (None, 64, 64, 64)        0         \n",
            "_________________________________________________________________\n",
            "block2_conv1 (Conv2D)        (None, 64, 64, 128)       73856     \n",
            "_________________________________________________________________\n",
            "block2_conv2 (Conv2D)        (None, 64, 64, 128)       147584    \n",
            "_________________________________________________________________\n",
            "block2_pool (MaxPooling2D)   (None, 32, 32, 128)       0         \n",
            "_________________________________________________________________\n",
            "block3_conv1 (Conv2D)        (None, 32, 32, 256)       295168    \n",
            "_________________________________________________________________\n",
            "block3_conv2 (Conv2D)        (None, 32, 32, 256)       590080    \n",
            "_________________________________________________________________\n",
            "block3_conv3 (Conv2D)        (None, 32, 32, 256)       590080    \n",
            "_________________________________________________________________\n",
            "block3_pool (MaxPooling2D)   (None, 16, 16, 256)       0         \n",
            "_________________________________________________________________\n",
            "block4_conv1 (Conv2D)        (None, 16, 16, 512)       1180160   \n",
            "_________________________________________________________________\n",
            "block4_conv2 (Conv2D)        (None, 16, 16, 512)       2359808   \n",
            "_________________________________________________________________\n",
            "block4_conv3 (Conv2D)        (None, 16, 16, 512)       2359808   \n",
            "_________________________________________________________________\n",
            "block4_pool (MaxPooling2D)   (None, 8, 8, 512)         0         \n",
            "_________________________________________________________________\n",
            "block5_conv1 (Conv2D)        (None, 8, 8, 512)         2359808   \n",
            "_________________________________________________________________\n",
            "block5_conv2 (Conv2D)        (None, 8, 8, 512)         2359808   \n",
            "_________________________________________________________________\n",
            "block5_conv3 (Conv2D)        (None, 8, 8, 512)         2359808   \n",
            "_________________________________________________________________\n",
            "block5_pool (MaxPooling2D)   (None, 4, 4, 512)         0         \n",
            "=================================================================\n",
            "Total params: 14,714,688\n",
            "Trainable params: 14,714,688\n",
            "Non-trainable params: 0\n",
            "_________________________________________________________________\n"
          ]
        }
      ]
    },
    {
      "cell_type": "code",
      "metadata": {
        "collapsed": true,
        "id": "XcdE2JU5Ml04"
      },
      "source": [
        "feat_dim = 2 * 2 * 512"
      ],
      "execution_count": null,
      "outputs": []
    },
    {
      "cell_type": "markdown",
      "metadata": {
        "id": "75j95YbIMl09"
      },
      "source": [
        "# Build SimCLR-Model"
      ]
    },
    {
      "cell_type": "code",
      "metadata": {
        "id": "pNq93i59Ml0-",
        "outputId": "91b9aa6c-9257-4b0c-82d6-f18dafc50c53"
      },
      "source": [
        "from DataGeneratorSimCLR import DataGeneratorSimCLR as DataGenerator\n",
        "from SimCLR import SimCLR"
      ],
      "execution_count": null,
      "outputs": [
        {
          "name": "stderr",
          "output_type": "stream",
          "text": [
            "Using TensorFlow backend.\n"
          ]
        }
      ]
    },
    {
      "cell_type": "markdown",
      "metadata": {
        "id": "b0_nz95NMl1D"
      },
      "source": [
        "### Properties"
      ]
    },
    {
      "cell_type": "code",
      "metadata": {
        "collapsed": true,
        "id": "EqkkdfRPMl1E"
      },
      "source": [
        "batch_size = 16\n",
        "# Projection_head\n",
        "num_layers_ph = 2\n",
        "feat_dims_ph = [2048, 128]\n",
        "num_of_unfrozen_layers = 4\n",
        "save_path = '/scratch/users/rvignav/models/dr'"
      ],
      "execution_count": null,
      "outputs": []
    },
    {
      "cell_type": "code",
      "metadata": {
        "collapsed": true,
        "id": "X1dGZztKMl1K"
      },
      "source": [
        "with strategy.scope():\n",
        "    SimCLR = SimCLR(\n",
        "        base_model = base_model,\n",
        "        input_shape = input_shape,\n",
        "        batch_size = batch_size,\n",
        "        feat_dim = feat_dim,\n",
        "        feat_dims_ph = feat_dims_ph,\n",
        "        num_of_unfrozen_layers = num_of_unfrozen_layers,\n",
        "        save_path = save_path\n",
        "    )"
      ],
      "execution_count": null,
      "outputs": []
    },
    {
      "cell_type": "code",
      "metadata": {
        "collapsed": true,
        "id": "bvdVxJTiMl1W"
      },
      "source": [
        "params_generator = {'batch_size': batch_size,\n",
        "                    'shuffle' : True,\n",
        "                    'width':width_img,\n",
        "                    'height': height_img,\n",
        "                    'VGG': True\n",
        "                   }\n",
        "\n",
        "# Generators\n",
        "data_train = DataGenerator(df_train.reset_index(drop=True), **params_generator)\n",
        "data_val = DataGenerator(df_val.reset_index(drop=True), subset = \"val\", **params_generator) #val keeps the unity values on the same random places ~42\n",
        "data_test = DataGenerator(df_test.reset_index(drop=True), subset = \"test\", **params_generator) #test keeps the unity values on the diagonal"
      ],
      "execution_count": null,
      "outputs": []
    },
    {
      "cell_type": "markdown",
      "metadata": {
        "id": "pssY8CS6Ml1g"
      },
      "source": [
        "## Training SimCLR"
      ]
    },
    {
      "cell_type": "code",
      "metadata": {
        "colab": {
          "base_uri": "https://localhost:8080/",
          "height": 439
        },
        "id": "JLMsqpJcMl1h",
        "outputId": "4df6a650-cdfd-4f02-bd88-978690701b1c"
      },
      "source": [
        "with strategy.scope():\n",
        "    SimCLR.num_of_unfrozen_layers = 4\n",
        "    SimCLR.r = 4\n",
        "    if SimCLR.lr != 1e-6:\n",
        "        SimCLR.change_lr(1e-6)\n",
        "\n",
        "    SimCLR.SimCLR_model = SimCLR.build_model()\n",
        "    SimCLR.print_weights()\n",
        "    \n",
        "    checkpoint, earlyStopping, reduce_lr = SimCLR.get_callbacks()\n",
        "\n",
        "    SimCLR_model = SimCLR.SimCLR_model\n",
        "    \n",
        "SimCLR_model.fit(\n",
        "    data_train,\n",
        "    epochs=25,\n",
        "    verbose=1,\n",
        "    validation_data=data_val,\n",
        "    callbacks=[checkpoint, earlyStopping, reduce_lr],\n",
        ")\n",
        "\n",
        "SimCLR.print_weights()\n",
        "SimCLR.save_base_model()"
      ],
      "execution_count": null,
      "outputs": [
        {
          "name": "stdout",
          "output_type": "stream",
          "text": [
            "trainable parameters: 24.12 M.\n",
            "non-trainable parameters: 7.64 M.\n",
            "Train for 1537 steps, validate for 330 steps\n",
            "Epoch 1/25\n",
            "INFO:tensorflow:batch_all_reduce: 10 all-reduces with algorithm = nccl, num_packs = 1, agg_small_grads_max_bytes = 0 and agg_small_grads_max_group = 10\n",
            "INFO:tensorflow:Reduce to /job:localhost/replica:0/task:0/device:CPU:0 then broadcast to ('/job:localhost/replica:0/task:0/device:CPU:0',).\n",
            "INFO:tensorflow:Reduce to /job:localhost/replica:0/task:0/device:CPU:0 then broadcast to ('/job:localhost/replica:0/task:0/device:CPU:0',).\n",
            "INFO:tensorflow:batch_all_reduce: 10 all-reduces with algorithm = nccl, num_packs = 1, agg_small_grads_max_bytes = 0 and agg_small_grads_max_group = 10\n",
            "INFO:tensorflow:Reduce to /job:localhost/replica:0/task:0/device:CPU:0 then broadcast to ('/job:localhost/replica:0/task:0/device:CPU:0',).\n",
            "INFO:tensorflow:Reduce to /job:localhost/replica:0/task:0/device:CPU:0 then broadcast to ('/job:localhost/replica:0/task:0/device:CPU:0',).\n",
            "   1/1537 [..............................] - ETA: 25:47:42WARNING:tensorflow:Can save best model only with val_loss available, skipping.\n",
            "WARNING:tensorflow:Early stopping conditioned on metric `val_loss` which is not available. Available metrics are: \n",
            "WARNING:tensorflow:Reduce LR on plateau conditioned on metric `val_loss` which is not available. Available metrics are: lr\n"
          ]
        },
        {
          "ename": "InvalidArgumentError",
          "evalue": "2 root error(s) found.\n  (0) Invalid argument:  Incompatible shapes: [6,64] vs. [16,64]\n\t [[node replica_1/Mul_13 (defined at /python/3.6.1/lib/python3.6/threading.py:916) ]]\n\t [[Identity_2/_130]]\n  (1) Invalid argument:  Incompatible shapes: [6,64] vs. [16,64]\n\t [[node replica_1/Mul_13 (defined at /python/3.6.1/lib/python3.6/threading.py:916) ]]\n0 successful operations.\n2 derived errors ignored. [Op:__inference_distributed_function_67762]\n\nFunction call stack:\ndistributed_function -> distributed_function\n",
          "output_type": "error",
          "traceback": [
            "\u001b[0;31m---------------------------------------------------------------------------\u001b[0m",
            "\u001b[0;31mInvalidArgumentError\u001b[0m                      Traceback (most recent call last)",
            "\u001b[0;32m<ipython-input-14-fe11877189fc>\u001b[0m in \u001b[0;36m<module>\u001b[0;34m()\u001b[0m\n\u001b[1;32m     17\u001b[0m     \u001b[0mverbose\u001b[0m\u001b[0;34m=\u001b[0m\u001b[0;36m1\u001b[0m\u001b[0;34m,\u001b[0m\u001b[0;34m\u001b[0m\u001b[0m\n\u001b[1;32m     18\u001b[0m     \u001b[0mvalidation_data\u001b[0m\u001b[0;34m=\u001b[0m\u001b[0mdata_val\u001b[0m\u001b[0;34m,\u001b[0m\u001b[0;34m\u001b[0m\u001b[0m\n\u001b[0;32m---> 19\u001b[0;31m     \u001b[0mcallbacks\u001b[0m\u001b[0;34m=\u001b[0m\u001b[0;34m[\u001b[0m\u001b[0mcheckpoint\u001b[0m\u001b[0;34m,\u001b[0m \u001b[0mearlyStopping\u001b[0m\u001b[0;34m,\u001b[0m \u001b[0mreduce_lr\u001b[0m\u001b[0;34m]\u001b[0m\u001b[0;34m,\u001b[0m\u001b[0;34m\u001b[0m\u001b[0m\n\u001b[0m\u001b[1;32m     20\u001b[0m )\n\u001b[1;32m     21\u001b[0m \u001b[0;34m\u001b[0m\u001b[0m\n",
            "\u001b[0;32m/share/software/user/open/py-tensorflow/2.1.0_py36/lib/python3.6/site-packages/tensorflow_core/python/keras/engine/training.py\u001b[0m in \u001b[0;36mfit\u001b[0;34m(self, x, y, batch_size, epochs, verbose, callbacks, validation_split, validation_data, shuffle, class_weight, sample_weight, initial_epoch, steps_per_epoch, validation_steps, validation_freq, max_queue_size, workers, use_multiprocessing, **kwargs)\u001b[0m\n\u001b[1;32m    817\u001b[0m         \u001b[0mmax_queue_size\u001b[0m\u001b[0;34m=\u001b[0m\u001b[0mmax_queue_size\u001b[0m\u001b[0;34m,\u001b[0m\u001b[0;34m\u001b[0m\u001b[0m\n\u001b[1;32m    818\u001b[0m         \u001b[0mworkers\u001b[0m\u001b[0;34m=\u001b[0m\u001b[0mworkers\u001b[0m\u001b[0;34m,\u001b[0m\u001b[0;34m\u001b[0m\u001b[0m\n\u001b[0;32m--> 819\u001b[0;31m         use_multiprocessing=use_multiprocessing)\n\u001b[0m\u001b[1;32m    820\u001b[0m \u001b[0;34m\u001b[0m\u001b[0m\n\u001b[1;32m    821\u001b[0m   def evaluate(self,\n",
            "\u001b[0;32m/share/software/user/open/py-tensorflow/2.1.0_py36/lib/python3.6/site-packages/tensorflow_core/python/keras/engine/training_v2.py\u001b[0m in \u001b[0;36mfit\u001b[0;34m(self, model, x, y, batch_size, epochs, verbose, callbacks, validation_split, validation_data, shuffle, class_weight, sample_weight, initial_epoch, steps_per_epoch, validation_steps, validation_freq, max_queue_size, workers, use_multiprocessing, **kwargs)\u001b[0m\n\u001b[1;32m    340\u001b[0m                 \u001b[0mmode\u001b[0m\u001b[0;34m=\u001b[0m\u001b[0mModeKeys\u001b[0m\u001b[0;34m.\u001b[0m\u001b[0mTRAIN\u001b[0m\u001b[0;34m,\u001b[0m\u001b[0;34m\u001b[0m\u001b[0m\n\u001b[1;32m    341\u001b[0m                 \u001b[0mtraining_context\u001b[0m\u001b[0;34m=\u001b[0m\u001b[0mtraining_context\u001b[0m\u001b[0;34m,\u001b[0m\u001b[0;34m\u001b[0m\u001b[0m\n\u001b[0;32m--> 342\u001b[0;31m                 total_epochs=epochs)\n\u001b[0m\u001b[1;32m    343\u001b[0m             \u001b[0mcbks\u001b[0m\u001b[0;34m.\u001b[0m\u001b[0mmake_logs\u001b[0m\u001b[0;34m(\u001b[0m\u001b[0mmodel\u001b[0m\u001b[0;34m,\u001b[0m \u001b[0mepoch_logs\u001b[0m\u001b[0;34m,\u001b[0m \u001b[0mtraining_result\u001b[0m\u001b[0;34m,\u001b[0m \u001b[0mModeKeys\u001b[0m\u001b[0;34m.\u001b[0m\u001b[0mTRAIN\u001b[0m\u001b[0;34m)\u001b[0m\u001b[0;34m\u001b[0m\u001b[0m\n\u001b[1;32m    344\u001b[0m \u001b[0;34m\u001b[0m\u001b[0m\n",
            "\u001b[0;32m/share/software/user/open/py-tensorflow/2.1.0_py36/lib/python3.6/site-packages/tensorflow_core/python/keras/engine/training_v2.py\u001b[0m in \u001b[0;36mrun_one_epoch\u001b[0;34m(model, iterator, execution_function, dataset_size, batch_size, strategy, steps_per_epoch, num_samples, mode, training_context, total_epochs)\u001b[0m\n\u001b[1;32m    126\u001b[0m         step=step, mode=mode, size=current_batch_size) as batch_logs:\n\u001b[1;32m    127\u001b[0m       \u001b[0;32mtry\u001b[0m\u001b[0;34m:\u001b[0m\u001b[0;34m\u001b[0m\u001b[0m\n\u001b[0;32m--> 128\u001b[0;31m         \u001b[0mbatch_outs\u001b[0m \u001b[0;34m=\u001b[0m \u001b[0mexecution_function\u001b[0m\u001b[0;34m(\u001b[0m\u001b[0miterator\u001b[0m\u001b[0;34m)\u001b[0m\u001b[0;34m\u001b[0m\u001b[0m\n\u001b[0m\u001b[1;32m    129\u001b[0m       \u001b[0;32mexcept\u001b[0m \u001b[0;34m(\u001b[0m\u001b[0mStopIteration\u001b[0m\u001b[0;34m,\u001b[0m \u001b[0merrors\u001b[0m\u001b[0;34m.\u001b[0m\u001b[0mOutOfRangeError\u001b[0m\u001b[0;34m)\u001b[0m\u001b[0;34m:\u001b[0m\u001b[0;34m\u001b[0m\u001b[0m\n\u001b[1;32m    130\u001b[0m         \u001b[0;31m# TODO(kaftan): File bug about tf function and errors.OutOfRangeError?\u001b[0m\u001b[0;34m\u001b[0m\u001b[0;34m\u001b[0m\u001b[0m\n",
            "\u001b[0;32m/share/software/user/open/py-tensorflow/2.1.0_py36/lib/python3.6/site-packages/tensorflow_core/python/keras/engine/training_v2_utils.py\u001b[0m in \u001b[0;36mexecution_function\u001b[0;34m(input_fn)\u001b[0m\n\u001b[1;32m     96\u001b[0m     \u001b[0;31m# `numpy` translates Tensors to values in Eager mode.\u001b[0m\u001b[0;34m\u001b[0m\u001b[0;34m\u001b[0m\u001b[0m\n\u001b[1;32m     97\u001b[0m     return nest.map_structure(_non_none_constant_value,\n\u001b[0;32m---> 98\u001b[0;31m                               distributed_function(input_fn))\n\u001b[0m\u001b[1;32m     99\u001b[0m \u001b[0;34m\u001b[0m\u001b[0m\n\u001b[1;32m    100\u001b[0m   \u001b[0;32mreturn\u001b[0m \u001b[0mexecution_function\u001b[0m\u001b[0;34m\u001b[0m\u001b[0m\n",
            "\u001b[0;32m/share/software/user/open/py-tensorflow/2.1.0_py36/lib/python3.6/site-packages/tensorflow_core/python/eager/def_function.py\u001b[0m in \u001b[0;36m__call__\u001b[0;34m(self, *args, **kwds)\u001b[0m\n\u001b[1;32m    566\u001b[0m         \u001b[0mxla_context\u001b[0m\u001b[0;34m.\u001b[0m\u001b[0mExit\u001b[0m\u001b[0;34m(\u001b[0m\u001b[0;34m)\u001b[0m\u001b[0;34m\u001b[0m\u001b[0m\n\u001b[1;32m    567\u001b[0m     \u001b[0;32melse\u001b[0m\u001b[0;34m:\u001b[0m\u001b[0;34m\u001b[0m\u001b[0m\n\u001b[0;32m--> 568\u001b[0;31m       \u001b[0mresult\u001b[0m \u001b[0;34m=\u001b[0m \u001b[0mself\u001b[0m\u001b[0;34m.\u001b[0m\u001b[0m_call\u001b[0m\u001b[0;34m(\u001b[0m\u001b[0;34m*\u001b[0m\u001b[0margs\u001b[0m\u001b[0;34m,\u001b[0m \u001b[0;34m**\u001b[0m\u001b[0mkwds\u001b[0m\u001b[0;34m)\u001b[0m\u001b[0;34m\u001b[0m\u001b[0m\n\u001b[0m\u001b[1;32m    569\u001b[0m \u001b[0;34m\u001b[0m\u001b[0m\n\u001b[1;32m    570\u001b[0m     \u001b[0;32mif\u001b[0m \u001b[0mtracing_count\u001b[0m \u001b[0;34m==\u001b[0m \u001b[0mself\u001b[0m\u001b[0;34m.\u001b[0m\u001b[0m_get_tracing_count\u001b[0m\u001b[0;34m(\u001b[0m\u001b[0;34m)\u001b[0m\u001b[0;34m:\u001b[0m\u001b[0;34m\u001b[0m\u001b[0m\n",
            "\u001b[0;32m/share/software/user/open/py-tensorflow/2.1.0_py36/lib/python3.6/site-packages/tensorflow_core/python/eager/def_function.py\u001b[0m in \u001b[0;36m_call\u001b[0;34m(self, *args, **kwds)\u001b[0m\n\u001b[1;32m    630\u001b[0m         \u001b[0;31m# Lifting succeeded, so variables are initialized and we can run the\u001b[0m\u001b[0;34m\u001b[0m\u001b[0;34m\u001b[0m\u001b[0m\n\u001b[1;32m    631\u001b[0m         \u001b[0;31m# stateless function.\u001b[0m\u001b[0;34m\u001b[0m\u001b[0;34m\u001b[0m\u001b[0m\n\u001b[0;32m--> 632\u001b[0;31m         \u001b[0;32mreturn\u001b[0m \u001b[0mself\u001b[0m\u001b[0;34m.\u001b[0m\u001b[0m_stateless_fn\u001b[0m\u001b[0;34m(\u001b[0m\u001b[0;34m*\u001b[0m\u001b[0margs\u001b[0m\u001b[0;34m,\u001b[0m \u001b[0;34m**\u001b[0m\u001b[0mkwds\u001b[0m\u001b[0;34m)\u001b[0m\u001b[0;34m\u001b[0m\u001b[0m\n\u001b[0m\u001b[1;32m    633\u001b[0m     \u001b[0;32melse\u001b[0m\u001b[0;34m:\u001b[0m\u001b[0;34m\u001b[0m\u001b[0m\n\u001b[1;32m    634\u001b[0m       \u001b[0mcanon_args\u001b[0m\u001b[0;34m,\u001b[0m \u001b[0mcanon_kwds\u001b[0m \u001b[0;34m=\u001b[0m\u001b[0;31m \u001b[0m\u001b[0;31m\\\u001b[0m\u001b[0;34m\u001b[0m\u001b[0m\n",
            "\u001b[0;32m/share/software/user/open/py-tensorflow/2.1.0_py36/lib/python3.6/site-packages/tensorflow_core/python/eager/function.py\u001b[0m in \u001b[0;36m__call__\u001b[0;34m(self, *args, **kwargs)\u001b[0m\n\u001b[1;32m   2361\u001b[0m     \u001b[0;32mwith\u001b[0m \u001b[0mself\u001b[0m\u001b[0;34m.\u001b[0m\u001b[0m_lock\u001b[0m\u001b[0;34m:\u001b[0m\u001b[0;34m\u001b[0m\u001b[0m\n\u001b[1;32m   2362\u001b[0m       \u001b[0mgraph_function\u001b[0m\u001b[0;34m,\u001b[0m \u001b[0margs\u001b[0m\u001b[0;34m,\u001b[0m \u001b[0mkwargs\u001b[0m \u001b[0;34m=\u001b[0m \u001b[0mself\u001b[0m\u001b[0;34m.\u001b[0m\u001b[0m_maybe_define_function\u001b[0m\u001b[0;34m(\u001b[0m\u001b[0margs\u001b[0m\u001b[0;34m,\u001b[0m \u001b[0mkwargs\u001b[0m\u001b[0;34m)\u001b[0m\u001b[0;34m\u001b[0m\u001b[0m\n\u001b[0;32m-> 2363\u001b[0;31m     \u001b[0;32mreturn\u001b[0m \u001b[0mgraph_function\u001b[0m\u001b[0;34m.\u001b[0m\u001b[0m_filtered_call\u001b[0m\u001b[0;34m(\u001b[0m\u001b[0margs\u001b[0m\u001b[0;34m,\u001b[0m \u001b[0mkwargs\u001b[0m\u001b[0;34m)\u001b[0m  \u001b[0;31m# pylint: disable=protected-access\u001b[0m\u001b[0;34m\u001b[0m\u001b[0m\n\u001b[0m\u001b[1;32m   2364\u001b[0m \u001b[0;34m\u001b[0m\u001b[0m\n\u001b[1;32m   2365\u001b[0m   \u001b[0;34m@\u001b[0m\u001b[0mproperty\u001b[0m\u001b[0;34m\u001b[0m\u001b[0m\n",
            "\u001b[0;32m/share/software/user/open/py-tensorflow/2.1.0_py36/lib/python3.6/site-packages/tensorflow_core/python/eager/function.py\u001b[0m in \u001b[0;36m_filtered_call\u001b[0;34m(self, args, kwargs)\u001b[0m\n\u001b[1;32m   1609\u001b[0m          if isinstance(t, (ops.Tensor,\n\u001b[1;32m   1610\u001b[0m                            resource_variable_ops.BaseResourceVariable))),\n\u001b[0;32m-> 1611\u001b[0;31m         self.captured_inputs)\n\u001b[0m\u001b[1;32m   1612\u001b[0m \u001b[0;34m\u001b[0m\u001b[0m\n\u001b[1;32m   1613\u001b[0m   \u001b[0;32mdef\u001b[0m \u001b[0m_call_flat\u001b[0m\u001b[0;34m(\u001b[0m\u001b[0mself\u001b[0m\u001b[0;34m,\u001b[0m \u001b[0margs\u001b[0m\u001b[0;34m,\u001b[0m \u001b[0mcaptured_inputs\u001b[0m\u001b[0;34m,\u001b[0m \u001b[0mcancellation_manager\u001b[0m\u001b[0;34m=\u001b[0m\u001b[0;32mNone\u001b[0m\u001b[0;34m)\u001b[0m\u001b[0;34m:\u001b[0m\u001b[0;34m\u001b[0m\u001b[0m\n",
            "\u001b[0;32m/share/software/user/open/py-tensorflow/2.1.0_py36/lib/python3.6/site-packages/tensorflow_core/python/eager/function.py\u001b[0m in \u001b[0;36m_call_flat\u001b[0;34m(self, args, captured_inputs, cancellation_manager)\u001b[0m\n\u001b[1;32m   1690\u001b[0m       \u001b[0;31m# No tape is watching; skip to running the function.\u001b[0m\u001b[0;34m\u001b[0m\u001b[0;34m\u001b[0m\u001b[0m\n\u001b[1;32m   1691\u001b[0m       return self._build_call_outputs(self._inference_function.call(\n\u001b[0;32m-> 1692\u001b[0;31m           ctx, args, cancellation_manager=cancellation_manager))\n\u001b[0m\u001b[1;32m   1693\u001b[0m     forward_backward = self._select_forward_and_backward_functions(\n\u001b[1;32m   1694\u001b[0m         \u001b[0margs\u001b[0m\u001b[0;34m,\u001b[0m\u001b[0;34m\u001b[0m\u001b[0m\n",
            "\u001b[0;32m/share/software/user/open/py-tensorflow/2.1.0_py36/lib/python3.6/site-packages/tensorflow_core/python/eager/function.py\u001b[0m in \u001b[0;36mcall\u001b[0;34m(self, ctx, args, cancellation_manager)\u001b[0m\n\u001b[1;32m    543\u001b[0m               \u001b[0minputs\u001b[0m\u001b[0;34m=\u001b[0m\u001b[0margs\u001b[0m\u001b[0;34m,\u001b[0m\u001b[0;34m\u001b[0m\u001b[0m\n\u001b[1;32m    544\u001b[0m               \u001b[0mattrs\u001b[0m\u001b[0;34m=\u001b[0m\u001b[0;34m(\u001b[0m\u001b[0;34m\"executor_type\"\u001b[0m\u001b[0;34m,\u001b[0m \u001b[0mexecutor_type\u001b[0m\u001b[0;34m,\u001b[0m \u001b[0;34m\"config_proto\"\u001b[0m\u001b[0;34m,\u001b[0m \u001b[0mconfig\u001b[0m\u001b[0;34m)\u001b[0m\u001b[0;34m,\u001b[0m\u001b[0;34m\u001b[0m\u001b[0m\n\u001b[0;32m--> 545\u001b[0;31m               ctx=ctx)\n\u001b[0m\u001b[1;32m    546\u001b[0m         \u001b[0;32melse\u001b[0m\u001b[0;34m:\u001b[0m\u001b[0;34m\u001b[0m\u001b[0m\n\u001b[1;32m    547\u001b[0m           outputs = execute.execute_with_cancellation(\n",
            "\u001b[0;32m/share/software/user/open/py-tensorflow/2.1.0_py36/lib/python3.6/site-packages/tensorflow_core/python/eager/execute.py\u001b[0m in \u001b[0;36mquick_execute\u001b[0;34m(op_name, num_outputs, inputs, attrs, ctx, name)\u001b[0m\n\u001b[1;32m     65\u001b[0m     \u001b[0;32melse\u001b[0m\u001b[0;34m:\u001b[0m\u001b[0;34m\u001b[0m\u001b[0m\n\u001b[1;32m     66\u001b[0m       \u001b[0mmessage\u001b[0m \u001b[0;34m=\u001b[0m \u001b[0me\u001b[0m\u001b[0;34m.\u001b[0m\u001b[0mmessage\u001b[0m\u001b[0;34m\u001b[0m\u001b[0m\n\u001b[0;32m---> 67\u001b[0;31m     \u001b[0msix\u001b[0m\u001b[0;34m.\u001b[0m\u001b[0mraise_from\u001b[0m\u001b[0;34m(\u001b[0m\u001b[0mcore\u001b[0m\u001b[0;34m.\u001b[0m\u001b[0m_status_to_exception\u001b[0m\u001b[0;34m(\u001b[0m\u001b[0me\u001b[0m\u001b[0;34m.\u001b[0m\u001b[0mcode\u001b[0m\u001b[0;34m,\u001b[0m \u001b[0mmessage\u001b[0m\u001b[0;34m)\u001b[0m\u001b[0;34m,\u001b[0m \u001b[0;32mNone\u001b[0m\u001b[0;34m)\u001b[0m\u001b[0;34m\u001b[0m\u001b[0m\n\u001b[0m\u001b[1;32m     68\u001b[0m   \u001b[0;32mexcept\u001b[0m \u001b[0mTypeError\u001b[0m \u001b[0;32mas\u001b[0m \u001b[0me\u001b[0m\u001b[0;34m:\u001b[0m\u001b[0;34m\u001b[0m\u001b[0m\n\u001b[1;32m     69\u001b[0m     keras_symbolic_tensors = [\n",
            "\u001b[0;32m/share/software/user/open/py-h5py/2.10.0_py36/lib/python3.6/site-packages/six.py\u001b[0m in \u001b[0;36mraise_from\u001b[0;34m(value, from_value)\u001b[0m\n",
            "\u001b[0;31mInvalidArgumentError\u001b[0m: 2 root error(s) found.\n  (0) Invalid argument:  Incompatible shapes: [6,64] vs. [16,64]\n\t [[node replica_1/Mul_13 (defined at /python/3.6.1/lib/python3.6/threading.py:916) ]]\n\t [[Identity_2/_130]]\n  (1) Invalid argument:  Incompatible shapes: [6,64] vs. [16,64]\n\t [[node replica_1/Mul_13 (defined at /python/3.6.1/lib/python3.6/threading.py:916) ]]\n0 successful operations.\n2 derived errors ignored. [Op:__inference_distributed_function_67762]\n\nFunction call stack:\ndistributed_function -> distributed_function\n"
          ]
        }
      ]
    }
  ]
}